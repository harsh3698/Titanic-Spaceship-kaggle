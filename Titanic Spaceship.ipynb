{
 "cells": [
  {
   "cell_type": "code",
   "execution_count": 1,
   "id": "af43314c",
   "metadata": {
    "_cell_guid": "b1076dfc-b9ad-4769-8c92-a6c4dae69d19",
    "_uuid": "8f2839f25d086af736a60e9eeb907d3b93b6e0e5",
    "execution": {
     "iopub.execute_input": "2022-04-18T07:10:57.473578Z",
     "iopub.status.busy": "2022-04-18T07:10:57.473220Z",
     "iopub.status.idle": "2022-04-18T07:10:58.313078Z",
     "shell.execute_reply": "2022-04-18T07:10:58.312064Z"
    },
    "papermill": {
     "duration": 0.871511,
     "end_time": "2022-04-18T07:10:58.315523",
     "exception": false,
     "start_time": "2022-04-18T07:10:57.444012",
     "status": "completed"
    },
    "tags": []
   },
   "outputs": [
    {
     "name": "stdout",
     "output_type": "stream",
     "text": [
      "/kaggle/input/spaceship-titanic/sample_submission.csv\n",
      "/kaggle/input/spaceship-titanic/train.csv\n",
      "/kaggle/input/spaceship-titanic/test.csv\n"
     ]
    }
   ],
   "source": [
    "import numpy as np\n",
    "import pandas as pd \n",
    "import matplotlib.pyplot as plt\n",
    "import os\n",
    "import seaborn as sns\n",
    "for dirname, _, filenames in os.walk('/kaggle/input'):\n",
    "    for filename in filenames:\n",
    "        print(os.path.join(dirname, filename))"
   ]
  },
  {
   "cell_type": "code",
   "execution_count": 2,
   "id": "6299710a",
   "metadata": {
    "execution": {
     "iopub.execute_input": "2022-04-18T07:10:58.401233Z",
     "iopub.status.busy": "2022-04-18T07:10:58.400852Z",
     "iopub.status.idle": "2022-04-18T07:10:58.480728Z",
     "shell.execute_reply": "2022-04-18T07:10:58.479994Z"
    },
    "papermill": {
     "duration": 0.1245,
     "end_time": "2022-04-18T07:10:58.482854",
     "exception": false,
     "start_time": "2022-04-18T07:10:58.358354",
     "status": "completed"
    },
    "tags": []
   },
   "outputs": [],
   "source": [
    "dataset = pd.read_csv('/kaggle/input/spaceship-titanic/train.csv')\n",
    "dataset_test = pd.read_csv('../input/spaceship-titanic/test.csv')"
   ]
  },
  {
   "cell_type": "code",
   "execution_count": 3,
   "id": "c8aa083d",
   "metadata": {
    "execution": {
     "iopub.execute_input": "2022-04-18T07:10:58.567158Z",
     "iopub.status.busy": "2022-04-18T07:10:58.566966Z",
     "iopub.status.idle": "2022-04-18T07:10:58.595229Z",
     "shell.execute_reply": "2022-04-18T07:10:58.594696Z"
    },
    "papermill": {
     "duration": 0.072576,
     "end_time": "2022-04-18T07:10:58.597326",
     "exception": false,
     "start_time": "2022-04-18T07:10:58.524750",
     "status": "completed"
    },
    "tags": []
   },
   "outputs": [
    {
     "name": "stdout",
     "output_type": "stream",
     "text": [
      "<class 'pandas.core.frame.DataFrame'>\n",
      "RangeIndex: 8693 entries, 0 to 8692\n",
      "Data columns (total 14 columns):\n",
      " #   Column        Non-Null Count  Dtype  \n",
      "---  ------        --------------  -----  \n",
      " 0   PassengerId   8693 non-null   object \n",
      " 1   HomePlanet    8492 non-null   object \n",
      " 2   CryoSleep     8476 non-null   object \n",
      " 3   Cabin         8494 non-null   object \n",
      " 4   Destination   8511 non-null   object \n",
      " 5   Age           8514 non-null   float64\n",
      " 6   VIP           8490 non-null   object \n",
      " 7   RoomService   8512 non-null   float64\n",
      " 8   FoodCourt     8510 non-null   float64\n",
      " 9   ShoppingMall  8485 non-null   float64\n",
      " 10  Spa           8510 non-null   float64\n",
      " 11  VRDeck        8505 non-null   float64\n",
      " 12  Name          8493 non-null   object \n",
      " 13  Transported   8693 non-null   bool   \n",
      "dtypes: bool(1), float64(6), object(7)\n",
      "memory usage: 891.5+ KB\n"
     ]
    }
   ],
   "source": [
    "dataset.info()"
   ]
  },
  {
   "cell_type": "code",
   "execution_count": 4,
   "id": "043353fc",
   "metadata": {
    "execution": {
     "iopub.execute_input": "2022-04-18T07:10:58.683778Z",
     "iopub.status.busy": "2022-04-18T07:10:58.683032Z",
     "iopub.status.idle": "2022-04-18T07:10:58.694518Z",
     "shell.execute_reply": "2022-04-18T07:10:58.694135Z"
    },
    "papermill": {
     "duration": 0.056166,
     "end_time": "2022-04-18T07:10:58.696074",
     "exception": false,
     "start_time": "2022-04-18T07:10:58.639908",
     "status": "completed"
    },
    "tags": []
   },
   "outputs": [
    {
     "name": "stdout",
     "output_type": "stream",
     "text": [
      "<class 'pandas.core.frame.DataFrame'>\n",
      "RangeIndex: 4277 entries, 0 to 4276\n",
      "Data columns (total 13 columns):\n",
      " #   Column        Non-Null Count  Dtype  \n",
      "---  ------        --------------  -----  \n",
      " 0   PassengerId   4277 non-null   object \n",
      " 1   HomePlanet    4190 non-null   object \n",
      " 2   CryoSleep     4184 non-null   object \n",
      " 3   Cabin         4177 non-null   object \n",
      " 4   Destination   4185 non-null   object \n",
      " 5   Age           4186 non-null   float64\n",
      " 6   VIP           4184 non-null   object \n",
      " 7   RoomService   4195 non-null   float64\n",
      " 8   FoodCourt     4171 non-null   float64\n",
      " 9   ShoppingMall  4179 non-null   float64\n",
      " 10  Spa           4176 non-null   float64\n",
      " 11  VRDeck        4197 non-null   float64\n",
      " 12  Name          4183 non-null   object \n",
      "dtypes: float64(6), object(7)\n",
      "memory usage: 434.5+ KB\n"
     ]
    }
   ],
   "source": [
    "dataset_test.info()"
   ]
  },
  {
   "cell_type": "code",
   "execution_count": 5,
   "id": "880b3d51",
   "metadata": {
    "execution": {
     "iopub.execute_input": "2022-04-18T07:10:58.754610Z",
     "iopub.status.busy": "2022-04-18T07:10:58.754259Z",
     "iopub.status.idle": "2022-04-18T07:10:58.760055Z",
     "shell.execute_reply": "2022-04-18T07:10:58.758809Z"
    },
    "papermill": {
     "duration": 0.037766,
     "end_time": "2022-04-18T07:10:58.761968",
     "exception": false,
     "start_time": "2022-04-18T07:10:58.724202",
     "status": "completed"
    },
    "tags": []
   },
   "outputs": [],
   "source": [
    "X = dataset.iloc[:,:-1]\n",
    "y = dataset.iloc[:,-1]"
   ]
  },
  {
   "cell_type": "code",
   "execution_count": 6,
   "id": "a760d3be",
   "metadata": {
    "execution": {
     "iopub.execute_input": "2022-04-18T07:10:58.820361Z",
     "iopub.status.busy": "2022-04-18T07:10:58.819946Z",
     "iopub.status.idle": "2022-04-18T07:10:58.828508Z",
     "shell.execute_reply": "2022-04-18T07:10:58.828105Z"
    },
    "papermill": {
     "duration": 0.040428,
     "end_time": "2022-04-18T07:10:58.830167",
     "exception": false,
     "start_time": "2022-04-18T07:10:58.789739",
     "status": "completed"
    },
    "tags": []
   },
   "outputs": [
    {
     "data": {
      "text/plain": [
       "Index(['HomePlanet', 'CryoSleep', 'Cabin', 'Destination', 'Age', 'VIP',\n",
       "       'RoomService', 'FoodCourt', 'ShoppingMall', 'Spa', 'VRDeck'],\n",
       "      dtype='object')"
      ]
     },
     "execution_count": 6,
     "metadata": {},
     "output_type": "execute_result"
    }
   ],
   "source": [
    "X_test = dataset_test\n",
    "X = X.drop(columns = [\"PassengerId\",\"Name\"])\n",
    "X_test = X_test.drop(columns = [\"PassengerId\",\"Name\"])\n",
    "X.columns"
   ]
  },
  {
   "cell_type": "code",
   "execution_count": 7,
   "id": "5b1f4697",
   "metadata": {
    "execution": {
     "iopub.execute_input": "2022-04-18T07:10:58.889935Z",
     "iopub.status.busy": "2022-04-18T07:10:58.889618Z",
     "iopub.status.idle": "2022-04-18T07:10:58.894318Z",
     "shell.execute_reply": "2022-04-18T07:10:58.893923Z"
    },
    "papermill": {
     "duration": 0.036755,
     "end_time": "2022-04-18T07:10:58.895907",
     "exception": false,
     "start_time": "2022-04-18T07:10:58.859152",
     "status": "completed"
    },
    "tags": []
   },
   "outputs": [
    {
     "data": {
      "text/plain": [
       "Index(['HomePlanet', 'CryoSleep', 'Cabin', 'Destination', 'Age', 'VIP',\n",
       "       'RoomService', 'FoodCourt', 'ShoppingMall', 'Spa', 'VRDeck'],\n",
       "      dtype='object')"
      ]
     },
     "execution_count": 7,
     "metadata": {},
     "output_type": "execute_result"
    }
   ],
   "source": [
    "X_test.columns"
   ]
  },
  {
   "cell_type": "code",
   "execution_count": 8,
   "id": "c7aa83ee",
   "metadata": {
    "execution": {
     "iopub.execute_input": "2022-04-18T07:10:58.955417Z",
     "iopub.status.busy": "2022-04-18T07:10:58.954909Z",
     "iopub.status.idle": "2022-04-18T07:10:58.964507Z",
     "shell.execute_reply": "2022-04-18T07:10:58.964070Z"
    },
    "papermill": {
     "duration": 0.041527,
     "end_time": "2022-04-18T07:10:58.966062",
     "exception": false,
     "start_time": "2022-04-18T07:10:58.924535",
     "status": "completed"
    },
    "tags": []
   },
   "outputs": [
    {
     "name": "stdout",
     "output_type": "stream",
     "text": [
      "HomePlanet      2.312205\n",
      "CryoSleep       2.496261\n",
      "Cabin           2.289198\n",
      "Destination     2.093639\n",
      "Age             2.059128\n",
      "VIP             2.335212\n",
      "RoomService     2.082135\n",
      "FoodCourt       2.105142\n",
      "ShoppingMall    2.392730\n",
      "Spa             2.105142\n",
      "VRDeck          2.162660\n",
      "dtype: float64\n",
      "HomePlanet      1.000805\n",
      "CryoSleep       1.069826\n",
      "Cabin           1.150351\n",
      "Destination     1.058323\n",
      "Age             1.046819\n",
      "VIP             1.069826\n",
      "RoomService     0.943288\n",
      "FoodCourt       1.219372\n",
      "ShoppingMall    1.127344\n",
      "Spa             1.161854\n",
      "VRDeck          0.920281\n",
      "dtype: float64\n"
     ]
    }
   ],
   "source": [
    "print(X.isnull().sum()/len(X)*100)\n",
    "print(X_test.isnull().sum()/len(X)*100)"
   ]
  },
  {
   "cell_type": "code",
   "execution_count": 9,
   "id": "871ca160",
   "metadata": {
    "execution": {
     "iopub.execute_input": "2022-04-18T07:10:59.026908Z",
     "iopub.status.busy": "2022-04-18T07:10:59.026427Z",
     "iopub.status.idle": "2022-04-18T07:10:59.057138Z",
     "shell.execute_reply": "2022-04-18T07:10:59.056434Z"
    },
    "papermill": {
     "duration": 0.063526,
     "end_time": "2022-04-18T07:10:59.059372",
     "exception": false,
     "start_time": "2022-04-18T07:10:58.995846",
     "status": "completed"
    },
    "tags": []
   },
   "outputs": [
    {
     "name": "stdout",
     "output_type": "stream",
     "text": [
      "HomePlanet      0.0\n",
      "CryoSleep       0.0\n",
      "Cabin           0.0\n",
      "Destination     0.0\n",
      "Age             0.0\n",
      "VIP             0.0\n",
      "RoomService     0.0\n",
      "FoodCourt       0.0\n",
      "ShoppingMall    0.0\n",
      "Spa             0.0\n",
      "VRDeck          0.0\n",
      "dtype: float64\n",
      "HomePlanet      0.0\n",
      "CryoSleep       0.0\n",
      "Cabin           0.0\n",
      "Destination     0.0\n",
      "Age             0.0\n",
      "VIP             0.0\n",
      "RoomService     0.0\n",
      "FoodCourt       0.0\n",
      "ShoppingMall    0.0\n",
      "Spa             0.0\n",
      "VRDeck          0.0\n",
      "dtype: float64\n"
     ]
    }
   ],
   "source": [
    "for i in X.columns:\n",
    "    if X[i].dtype not in ['int64','float64']:\n",
    "        X[i] = X[i].ffill().bfill()\n",
    "    else:\n",
    "        X[i] = X[i].fillna(X[i].mean())\n",
    "print(X.isnull().sum()/len(X)*100)\n",
    "for i in X_test.columns:\n",
    "    if X_test[i].dtype not in ['int64','float64']:\n",
    "        X_test[i] = X_test[i].ffill().bfill()\n",
    "    else:\n",
    "        X_test[i] = X_test[i].fillna(X_test[i].mean())\n",
    "print(X_test.isnull().sum()/len(X_test)*100)"
   ]
  },
  {
   "cell_type": "code",
   "execution_count": 10,
   "id": "8b843cae",
   "metadata": {
    "execution": {
     "iopub.execute_input": "2022-04-18T07:10:59.145060Z",
     "iopub.status.busy": "2022-04-18T07:10:59.144835Z",
     "iopub.status.idle": "2022-04-18T07:10:59.205155Z",
     "shell.execute_reply": "2022-04-18T07:10:59.203770Z"
    },
    "papermill": {
     "duration": 0.10198,
     "end_time": "2022-04-18T07:10:59.207419",
     "exception": false,
     "start_time": "2022-04-18T07:10:59.105439",
     "status": "completed"
    },
    "tags": []
   },
   "outputs": [
    {
     "name": "stdout",
     "output_type": "stream",
     "text": [
      "     HomePlanet  CryoSleep     Cabin    Destination   Age    VIP  RoomService  \\\n",
      "0        Europa      False     B/0/P    TRAPPIST-1e  39.0  False          0.0   \n",
      "1         Earth      False     F/0/S    TRAPPIST-1e  24.0  False        109.0   \n",
      "2        Europa      False     A/0/S    TRAPPIST-1e  58.0   True         43.0   \n",
      "3        Europa      False     A/0/S    TRAPPIST-1e  33.0  False          0.0   \n",
      "4         Earth      False     F/1/S    TRAPPIST-1e  16.0  False        303.0   \n",
      "...         ...        ...       ...            ...   ...    ...          ...   \n",
      "8688     Europa      False    A/98/P    55 Cancri e  41.0   True          0.0   \n",
      "8689      Earth       True  G/1499/S  PSO J318.5-22  18.0  False          0.0   \n",
      "8690      Earth      False  G/1500/S    TRAPPIST-1e  26.0  False          0.0   \n",
      "8691     Europa      False   E/608/S    55 Cancri e  32.0  False          0.0   \n",
      "8692     Europa      False   E/608/S    TRAPPIST-1e  44.0  False        126.0   \n",
      "\n",
      "      FoodCourt  ShoppingMall     Spa  VRDeck Deck   Num Side  \n",
      "0           0.0           0.0     0.0     0.0    B     0    P  \n",
      "1           9.0          25.0   549.0    44.0    F     0    S  \n",
      "2        3576.0           0.0  6715.0    49.0    A     0    S  \n",
      "3        1283.0         371.0  3329.0   193.0    A     0    S  \n",
      "4          70.0         151.0   565.0     2.0    F     1    S  \n",
      "...         ...           ...     ...     ...  ...   ...  ...  \n",
      "8688     6819.0           0.0  1643.0    74.0    A    98    P  \n",
      "8689        0.0           0.0     0.0     0.0    G  1499    S  \n",
      "8690        0.0        1872.0     1.0     0.0    G  1500    S  \n",
      "8691     1049.0           0.0   353.0  3235.0    E   608    S  \n",
      "8692     4688.0           0.0     0.0    12.0    E   608    S  \n",
      "\n",
      "[8693 rows x 14 columns]\n",
      "     HomePlanet  CryoSleep     Cabin    Destination        Age    VIP  \\\n",
      "0         Earth       True     G/3/S    TRAPPIST-1e  27.000000  False   \n",
      "1         Earth      False     F/4/S    TRAPPIST-1e  19.000000  False   \n",
      "2        Europa       True     C/0/S    55 Cancri e  31.000000  False   \n",
      "3        Europa      False     C/1/S    TRAPPIST-1e  38.000000  False   \n",
      "4         Earth      False     F/5/S    TRAPPIST-1e  20.000000  False   \n",
      "...         ...        ...       ...            ...        ...    ...   \n",
      "4272      Earth       True  G/1496/S    TRAPPIST-1e  34.000000  False   \n",
      "4273      Earth      False  G/1496/S    TRAPPIST-1e  42.000000  False   \n",
      "4274       Mars       True   D/296/P    55 Cancri e  28.658146  False   \n",
      "4275     Europa      False   D/297/P    55 Cancri e  28.658146  False   \n",
      "4276      Earth       True  G/1498/S  PSO J318.5-22  43.000000  False   \n",
      "\n",
      "      RoomService  FoodCourt  ShoppingMall     Spa  VRDeck Deck   Num Side  \n",
      "0             0.0        0.0           0.0     0.0     0.0    G     3    S  \n",
      "1             0.0        9.0           0.0  2823.0     0.0    F     4    S  \n",
      "2             0.0        0.0           0.0     0.0     0.0    C     0    S  \n",
      "3             0.0     6652.0           0.0   181.0   585.0    C     1    S  \n",
      "4            10.0        0.0         635.0     0.0     0.0    F     5    S  \n",
      "...           ...        ...           ...     ...     ...  ...   ...  ...  \n",
      "4272          0.0        0.0           0.0     0.0     0.0    G  1496    S  \n",
      "4273          0.0      847.0          17.0    10.0   144.0    G  1496    S  \n",
      "4274          0.0        0.0           0.0     0.0     0.0    D   296    P  \n",
      "4275          0.0     2680.0           0.0     0.0   523.0    D   297    P  \n",
      "4276          0.0        0.0           0.0     0.0     0.0    G  1498    S  \n",
      "\n",
      "[4277 rows x 14 columns]\n"
     ]
    }
   ],
   "source": [
    "X[[\"Deck\",\"Num\",\"Side\"]] = X[\"Cabin\"].str.split('/', expand = True)\n",
    "X_test[[\"Deck\",\"Num\",\"Side\"]] = X_test[\"Cabin\"].str.split('/', expand = True)\n",
    "print(X)\n",
    "print(X_test)"
   ]
  },
  {
   "cell_type": "code",
   "execution_count": 11,
   "id": "f2b848a6",
   "metadata": {
    "execution": {
     "iopub.execute_input": "2022-04-18T07:10:59.268893Z",
     "iopub.status.busy": "2022-04-18T07:10:59.268629Z",
     "iopub.status.idle": "2022-04-18T07:10:59.274982Z",
     "shell.execute_reply": "2022-04-18T07:10:59.274488Z"
    },
    "papermill": {
     "duration": 0.038706,
     "end_time": "2022-04-18T07:10:59.276216",
     "exception": false,
     "start_time": "2022-04-18T07:10:59.237510",
     "status": "completed"
    },
    "tags": []
   },
   "outputs": [
    {
     "data": {
      "text/plain": [
       "0       P\n",
       "1       S\n",
       "2       S\n",
       "3       S\n",
       "4       S\n",
       "       ..\n",
       "8688    P\n",
       "8689    S\n",
       "8690    S\n",
       "8691    S\n",
       "8692    S\n",
       "Name: Side, Length: 8693, dtype: object"
      ]
     },
     "execution_count": 11,
     "metadata": {},
     "output_type": "execute_result"
    }
   ],
   "source": [
    "X['Side']"
   ]
  },
  {
   "cell_type": "code",
   "execution_count": 12,
   "id": "2b0e7e18",
   "metadata": {
    "execution": {
     "iopub.execute_input": "2022-04-18T07:10:59.336880Z",
     "iopub.status.busy": "2022-04-18T07:10:59.336461Z",
     "iopub.status.idle": "2022-04-18T07:10:59.340122Z",
     "shell.execute_reply": "2022-04-18T07:10:59.339677Z"
    },
    "papermill": {
     "duration": 0.035615,
     "end_time": "2022-04-18T07:10:59.341408",
     "exception": false,
     "start_time": "2022-04-18T07:10:59.305793",
     "status": "completed"
    },
    "tags": []
   },
   "outputs": [],
   "source": [
    "del X['Cabin']\n",
    "del X_test['Cabin']"
   ]
  },
  {
   "cell_type": "code",
   "execution_count": 13,
   "id": "4a5881c5",
   "metadata": {
    "execution": {
     "iopub.execute_input": "2022-04-18T07:10:59.402047Z",
     "iopub.status.busy": "2022-04-18T07:10:59.401853Z",
     "iopub.status.idle": "2022-04-18T07:10:59.408078Z",
     "shell.execute_reply": "2022-04-18T07:10:59.407495Z"
    },
    "papermill": {
     "duration": 0.038341,
     "end_time": "2022-04-18T07:10:59.409422",
     "exception": false,
     "start_time": "2022-04-18T07:10:59.371081",
     "status": "completed"
    },
    "tags": []
   },
   "outputs": [],
   "source": [
    "X['CryoSleep'] = X['CryoSleep'].astype('bool')\n",
    "X['VIP'] = X['VIP'].astype('bool')\n",
    "X_test['CryoSleep'] = X_test['CryoSleep'].astype('bool')\n",
    "X_test['VIP'] = X_test['VIP'].astype('bool')"
   ]
  },
  {
   "cell_type": "code",
   "execution_count": 14,
   "id": "b5efae7f",
   "metadata": {
    "execution": {
     "iopub.execute_input": "2022-04-18T07:10:59.470911Z",
     "iopub.status.busy": "2022-04-18T07:10:59.470467Z",
     "iopub.status.idle": "2022-04-18T07:10:59.475671Z",
     "shell.execute_reply": "2022-04-18T07:10:59.475107Z"
    },
    "papermill": {
     "duration": 0.037528,
     "end_time": "2022-04-18T07:10:59.477040",
     "exception": false,
     "start_time": "2022-04-18T07:10:59.439512",
     "status": "completed"
    },
    "tags": []
   },
   "outputs": [],
   "source": [
    "del X['Num']\n",
    "del X_test['Num']\n",
    "del X['Deck']\n",
    "del X_test['Deck']"
   ]
  },
  {
   "cell_type": "code",
   "execution_count": 15,
   "id": "49068db1",
   "metadata": {
    "execution": {
     "iopub.execute_input": "2022-04-18T07:10:59.538060Z",
     "iopub.status.busy": "2022-04-18T07:10:59.537656Z",
     "iopub.status.idle": "2022-04-18T07:10:59.559078Z",
     "shell.execute_reply": "2022-04-18T07:10:59.558095Z"
    },
    "papermill": {
     "duration": 0.055694,
     "end_time": "2022-04-18T07:10:59.562091",
     "exception": false,
     "start_time": "2022-04-18T07:10:59.506397",
     "status": "completed"
    },
    "tags": []
   },
   "outputs": [
    {
     "name": "stdout",
     "output_type": "stream",
     "text": [
      "     HomePlanet  CryoSleep    Destination   Age    VIP  RoomService  \\\n",
      "0        Europa      False    TRAPPIST-1e  39.0  False          0.0   \n",
      "1         Earth      False    TRAPPIST-1e  24.0  False        109.0   \n",
      "2        Europa      False    TRAPPIST-1e  58.0   True         43.0   \n",
      "3        Europa      False    TRAPPIST-1e  33.0  False          0.0   \n",
      "4         Earth      False    TRAPPIST-1e  16.0  False        303.0   \n",
      "...         ...        ...            ...   ...    ...          ...   \n",
      "8688     Europa      False    55 Cancri e  41.0   True          0.0   \n",
      "8689      Earth       True  PSO J318.5-22  18.0  False          0.0   \n",
      "8690      Earth      False    TRAPPIST-1e  26.0  False          0.0   \n",
      "8691     Europa      False    55 Cancri e  32.0  False          0.0   \n",
      "8692     Europa      False    TRAPPIST-1e  44.0  False        126.0   \n",
      "\n",
      "      FoodCourt  ShoppingMall     Spa  VRDeck Side  \n",
      "0           0.0           0.0     0.0     0.0    P  \n",
      "1           9.0          25.0   549.0    44.0    S  \n",
      "2        3576.0           0.0  6715.0    49.0    S  \n",
      "3        1283.0         371.0  3329.0   193.0    S  \n",
      "4          70.0         151.0   565.0     2.0    S  \n",
      "...         ...           ...     ...     ...  ...  \n",
      "8688     6819.0           0.0  1643.0    74.0    P  \n",
      "8689        0.0           0.0     0.0     0.0    S  \n",
      "8690        0.0        1872.0     1.0     0.0    S  \n",
      "8691     1049.0           0.0   353.0  3235.0    S  \n",
      "8692     4688.0           0.0     0.0    12.0    S  \n",
      "\n",
      "[8693 rows x 11 columns]\n",
      "     HomePlanet  CryoSleep    Destination        Age    VIP  RoomService  \\\n",
      "0         Earth       True    TRAPPIST-1e  27.000000  False          0.0   \n",
      "1         Earth      False    TRAPPIST-1e  19.000000  False          0.0   \n",
      "2        Europa       True    55 Cancri e  31.000000  False          0.0   \n",
      "3        Europa      False    TRAPPIST-1e  38.000000  False          0.0   \n",
      "4         Earth      False    TRAPPIST-1e  20.000000  False         10.0   \n",
      "...         ...        ...            ...        ...    ...          ...   \n",
      "4272      Earth       True    TRAPPIST-1e  34.000000  False          0.0   \n",
      "4273      Earth      False    TRAPPIST-1e  42.000000  False          0.0   \n",
      "4274       Mars       True    55 Cancri e  28.658146  False          0.0   \n",
      "4275     Europa      False    55 Cancri e  28.658146  False          0.0   \n",
      "4276      Earth       True  PSO J318.5-22  43.000000  False          0.0   \n",
      "\n",
      "      FoodCourt  ShoppingMall     Spa  VRDeck Side  \n",
      "0           0.0           0.0     0.0     0.0    S  \n",
      "1           9.0           0.0  2823.0     0.0    S  \n",
      "2           0.0           0.0     0.0     0.0    S  \n",
      "3        6652.0           0.0   181.0   585.0    S  \n",
      "4           0.0         635.0     0.0     0.0    S  \n",
      "...         ...           ...     ...     ...  ...  \n",
      "4272        0.0           0.0     0.0     0.0    S  \n",
      "4273      847.0          17.0    10.0   144.0    S  \n",
      "4274        0.0           0.0     0.0     0.0    P  \n",
      "4275     2680.0           0.0     0.0   523.0    P  \n",
      "4276        0.0           0.0     0.0     0.0    S  \n",
      "\n",
      "[4277 rows x 11 columns]\n"
     ]
    }
   ],
   "source": [
    "print(X)\n",
    "print(X_test)"
   ]
  },
  {
   "cell_type": "code",
   "execution_count": 16,
   "id": "951b843e",
   "metadata": {
    "execution": {
     "iopub.execute_input": "2022-04-18T07:10:59.625693Z",
     "iopub.status.busy": "2022-04-18T07:10:59.625468Z",
     "iopub.status.idle": "2022-04-18T07:10:59.635409Z",
     "shell.execute_reply": "2022-04-18T07:10:59.634860Z"
    },
    "papermill": {
     "duration": 0.042907,
     "end_time": "2022-04-18T07:10:59.637052",
     "exception": false,
     "start_time": "2022-04-18T07:10:59.594145",
     "status": "completed"
    },
    "tags": []
   },
   "outputs": [],
   "source": [
    "categorical_cols = X.select_dtypes(include=['object','bool']).columns.tolist()\n",
    "#categorical_cols = X.columns[categorical_feature_mask].tolist()\n",
    "categorical_cols_test = X_test.select_dtypes(include=['object','bool']).columns.tolist()\n",
    "#categorical_cols_test = X_test.columns[categorical_feature_mask_test].tolist()"
   ]
  },
  {
   "cell_type": "code",
   "execution_count": 17,
   "id": "80337df3",
   "metadata": {
    "execution": {
     "iopub.execute_input": "2022-04-18T07:10:59.730180Z",
     "iopub.status.busy": "2022-04-18T07:10:59.729737Z",
     "iopub.status.idle": "2022-04-18T07:10:59.733815Z",
     "shell.execute_reply": "2022-04-18T07:10:59.732861Z"
    },
    "papermill": {
     "duration": 0.052398,
     "end_time": "2022-04-18T07:10:59.735384",
     "exception": false,
     "start_time": "2022-04-18T07:10:59.682986",
     "status": "completed"
    },
    "tags": []
   },
   "outputs": [
    {
     "data": {
      "text/plain": [
       "['HomePlanet', 'CryoSleep', 'Destination', 'VIP', 'Side']"
      ]
     },
     "execution_count": 17,
     "metadata": {},
     "output_type": "execute_result"
    }
   ],
   "source": [
    "categorical_cols"
   ]
  },
  {
   "cell_type": "code",
   "execution_count": 18,
   "id": "a96fb6a5",
   "metadata": {
    "execution": {
     "iopub.execute_input": "2022-04-18T07:10:59.835628Z",
     "iopub.status.busy": "2022-04-18T07:10:59.835368Z",
     "iopub.status.idle": "2022-04-18T07:10:59.949408Z",
     "shell.execute_reply": "2022-04-18T07:10:59.948696Z"
    },
    "papermill": {
     "duration": 0.170122,
     "end_time": "2022-04-18T07:10:59.951573",
     "exception": false,
     "start_time": "2022-04-18T07:10:59.781451",
     "status": "completed"
    },
    "tags": []
   },
   "outputs": [],
   "source": [
    "from sklearn.preprocessing import LabelEncoder\n",
    "le = LabelEncoder()"
   ]
  },
  {
   "cell_type": "code",
   "execution_count": 19,
   "id": "6f990b49",
   "metadata": {
    "execution": {
     "iopub.execute_input": "2022-04-18T07:11:00.048377Z",
     "iopub.status.busy": "2022-04-18T07:11:00.047925Z",
     "iopub.status.idle": "2022-04-18T07:11:00.067017Z",
     "shell.execute_reply": "2022-04-18T07:11:00.066560Z"
    },
    "papermill": {
     "duration": 0.069756,
     "end_time": "2022-04-18T07:11:00.069036",
     "exception": false,
     "start_time": "2022-04-18T07:10:59.999280",
     "status": "completed"
    },
    "tags": []
   },
   "outputs": [],
   "source": [
    "X[categorical_cols] = X[categorical_cols].apply(lambda col: le.fit_transform(col))\n",
    "X_test[categorical_cols] = X_test[categorical_cols].apply(lambda col: le.fit_transform(col))"
   ]
  },
  {
   "cell_type": "code",
   "execution_count": 20,
   "id": "0af848e1",
   "metadata": {
    "execution": {
     "iopub.execute_input": "2022-04-18T07:11:00.165454Z",
     "iopub.status.busy": "2022-04-18T07:11:00.165060Z",
     "iopub.status.idle": "2022-04-18T07:11:00.178121Z",
     "shell.execute_reply": "2022-04-18T07:11:00.177680Z"
    },
    "papermill": {
     "duration": 0.062765,
     "end_time": "2022-04-18T07:11:00.179361",
     "exception": false,
     "start_time": "2022-04-18T07:11:00.116596",
     "status": "completed"
    },
    "tags": []
   },
   "outputs": [
    {
     "data": {
      "text/html": [
       "<div>\n",
       "<style scoped>\n",
       "    .dataframe tbody tr th:only-of-type {\n",
       "        vertical-align: middle;\n",
       "    }\n",
       "\n",
       "    .dataframe tbody tr th {\n",
       "        vertical-align: top;\n",
       "    }\n",
       "\n",
       "    .dataframe thead th {\n",
       "        text-align: right;\n",
       "    }\n",
       "</style>\n",
       "<table border=\"1\" class=\"dataframe\">\n",
       "  <thead>\n",
       "    <tr style=\"text-align: right;\">\n",
       "      <th></th>\n",
       "      <th>HomePlanet</th>\n",
       "      <th>CryoSleep</th>\n",
       "      <th>Destination</th>\n",
       "      <th>VIP</th>\n",
       "      <th>Side</th>\n",
       "    </tr>\n",
       "  </thead>\n",
       "  <tbody>\n",
       "    <tr>\n",
       "      <th>0</th>\n",
       "      <td>0</td>\n",
       "      <td>1</td>\n",
       "      <td>2</td>\n",
       "      <td>0</td>\n",
       "      <td>1</td>\n",
       "    </tr>\n",
       "    <tr>\n",
       "      <th>1</th>\n",
       "      <td>0</td>\n",
       "      <td>0</td>\n",
       "      <td>2</td>\n",
       "      <td>0</td>\n",
       "      <td>1</td>\n",
       "    </tr>\n",
       "    <tr>\n",
       "      <th>2</th>\n",
       "      <td>1</td>\n",
       "      <td>1</td>\n",
       "      <td>0</td>\n",
       "      <td>0</td>\n",
       "      <td>1</td>\n",
       "    </tr>\n",
       "    <tr>\n",
       "      <th>3</th>\n",
       "      <td>1</td>\n",
       "      <td>0</td>\n",
       "      <td>2</td>\n",
       "      <td>0</td>\n",
       "      <td>1</td>\n",
       "    </tr>\n",
       "    <tr>\n",
       "      <th>4</th>\n",
       "      <td>0</td>\n",
       "      <td>0</td>\n",
       "      <td>2</td>\n",
       "      <td>0</td>\n",
       "      <td>1</td>\n",
       "    </tr>\n",
       "    <tr>\n",
       "      <th>...</th>\n",
       "      <td>...</td>\n",
       "      <td>...</td>\n",
       "      <td>...</td>\n",
       "      <td>...</td>\n",
       "      <td>...</td>\n",
       "    </tr>\n",
       "    <tr>\n",
       "      <th>4272</th>\n",
       "      <td>0</td>\n",
       "      <td>1</td>\n",
       "      <td>2</td>\n",
       "      <td>0</td>\n",
       "      <td>1</td>\n",
       "    </tr>\n",
       "    <tr>\n",
       "      <th>4273</th>\n",
       "      <td>0</td>\n",
       "      <td>0</td>\n",
       "      <td>2</td>\n",
       "      <td>0</td>\n",
       "      <td>1</td>\n",
       "    </tr>\n",
       "    <tr>\n",
       "      <th>4274</th>\n",
       "      <td>2</td>\n",
       "      <td>1</td>\n",
       "      <td>0</td>\n",
       "      <td>0</td>\n",
       "      <td>0</td>\n",
       "    </tr>\n",
       "    <tr>\n",
       "      <th>4275</th>\n",
       "      <td>1</td>\n",
       "      <td>0</td>\n",
       "      <td>0</td>\n",
       "      <td>0</td>\n",
       "      <td>0</td>\n",
       "    </tr>\n",
       "    <tr>\n",
       "      <th>4276</th>\n",
       "      <td>0</td>\n",
       "      <td>1</td>\n",
       "      <td>1</td>\n",
       "      <td>0</td>\n",
       "      <td>1</td>\n",
       "    </tr>\n",
       "  </tbody>\n",
       "</table>\n",
       "<p>4277 rows × 5 columns</p>\n",
       "</div>"
      ],
      "text/plain": [
       "      HomePlanet  CryoSleep  Destination  VIP  Side\n",
       "0              0          1            2    0     1\n",
       "1              0          0            2    0     1\n",
       "2              1          1            0    0     1\n",
       "3              1          0            2    0     1\n",
       "4              0          0            2    0     1\n",
       "...          ...        ...          ...  ...   ...\n",
       "4272           0          1            2    0     1\n",
       "4273           0          0            2    0     1\n",
       "4274           2          1            0    0     0\n",
       "4275           1          0            0    0     0\n",
       "4276           0          1            1    0     1\n",
       "\n",
       "[4277 rows x 5 columns]"
      ]
     },
     "execution_count": 20,
     "metadata": {},
     "output_type": "execute_result"
    }
   ],
   "source": [
    "X_test[categorical_cols]"
   ]
  },
  {
   "cell_type": "code",
   "execution_count": 21,
   "id": "be1b5726",
   "metadata": {
    "execution": {
     "iopub.execute_input": "2022-04-18T07:11:00.242820Z",
     "iopub.status.busy": "2022-04-18T07:11:00.242464Z",
     "iopub.status.idle": "2022-04-18T07:11:00.259415Z",
     "shell.execute_reply": "2022-04-18T07:11:00.258694Z"
    },
    "papermill": {
     "duration": 0.050347,
     "end_time": "2022-04-18T07:11:00.260813",
     "exception": false,
     "start_time": "2022-04-18T07:11:00.210466",
     "status": "completed"
    },
    "tags": []
   },
   "outputs": [
    {
     "data": {
      "text/html": [
       "<div>\n",
       "<style scoped>\n",
       "    .dataframe tbody tr th:only-of-type {\n",
       "        vertical-align: middle;\n",
       "    }\n",
       "\n",
       "    .dataframe tbody tr th {\n",
       "        vertical-align: top;\n",
       "    }\n",
       "\n",
       "    .dataframe thead th {\n",
       "        text-align: right;\n",
       "    }\n",
       "</style>\n",
       "<table border=\"1\" class=\"dataframe\">\n",
       "  <thead>\n",
       "    <tr style=\"text-align: right;\">\n",
       "      <th></th>\n",
       "      <th>HomePlanet</th>\n",
       "      <th>CryoSleep</th>\n",
       "      <th>Destination</th>\n",
       "      <th>Age</th>\n",
       "      <th>VIP</th>\n",
       "      <th>RoomService</th>\n",
       "      <th>FoodCourt</th>\n",
       "      <th>ShoppingMall</th>\n",
       "      <th>Spa</th>\n",
       "      <th>VRDeck</th>\n",
       "      <th>Side</th>\n",
       "    </tr>\n",
       "  </thead>\n",
       "  <tbody>\n",
       "    <tr>\n",
       "      <th>0</th>\n",
       "      <td>0</td>\n",
       "      <td>1</td>\n",
       "      <td>2</td>\n",
       "      <td>27.000000</td>\n",
       "      <td>0</td>\n",
       "      <td>0.0</td>\n",
       "      <td>0.0</td>\n",
       "      <td>0.0</td>\n",
       "      <td>0.0</td>\n",
       "      <td>0.0</td>\n",
       "      <td>1</td>\n",
       "    </tr>\n",
       "    <tr>\n",
       "      <th>1</th>\n",
       "      <td>0</td>\n",
       "      <td>0</td>\n",
       "      <td>2</td>\n",
       "      <td>19.000000</td>\n",
       "      <td>0</td>\n",
       "      <td>0.0</td>\n",
       "      <td>9.0</td>\n",
       "      <td>0.0</td>\n",
       "      <td>2823.0</td>\n",
       "      <td>0.0</td>\n",
       "      <td>1</td>\n",
       "    </tr>\n",
       "    <tr>\n",
       "      <th>2</th>\n",
       "      <td>1</td>\n",
       "      <td>1</td>\n",
       "      <td>0</td>\n",
       "      <td>31.000000</td>\n",
       "      <td>0</td>\n",
       "      <td>0.0</td>\n",
       "      <td>0.0</td>\n",
       "      <td>0.0</td>\n",
       "      <td>0.0</td>\n",
       "      <td>0.0</td>\n",
       "      <td>1</td>\n",
       "    </tr>\n",
       "    <tr>\n",
       "      <th>3</th>\n",
       "      <td>1</td>\n",
       "      <td>0</td>\n",
       "      <td>2</td>\n",
       "      <td>38.000000</td>\n",
       "      <td>0</td>\n",
       "      <td>0.0</td>\n",
       "      <td>6652.0</td>\n",
       "      <td>0.0</td>\n",
       "      <td>181.0</td>\n",
       "      <td>585.0</td>\n",
       "      <td>1</td>\n",
       "    </tr>\n",
       "    <tr>\n",
       "      <th>4</th>\n",
       "      <td>0</td>\n",
       "      <td>0</td>\n",
       "      <td>2</td>\n",
       "      <td>20.000000</td>\n",
       "      <td>0</td>\n",
       "      <td>10.0</td>\n",
       "      <td>0.0</td>\n",
       "      <td>635.0</td>\n",
       "      <td>0.0</td>\n",
       "      <td>0.0</td>\n",
       "      <td>1</td>\n",
       "    </tr>\n",
       "    <tr>\n",
       "      <th>...</th>\n",
       "      <td>...</td>\n",
       "      <td>...</td>\n",
       "      <td>...</td>\n",
       "      <td>...</td>\n",
       "      <td>...</td>\n",
       "      <td>...</td>\n",
       "      <td>...</td>\n",
       "      <td>...</td>\n",
       "      <td>...</td>\n",
       "      <td>...</td>\n",
       "      <td>...</td>\n",
       "    </tr>\n",
       "    <tr>\n",
       "      <th>4272</th>\n",
       "      <td>0</td>\n",
       "      <td>1</td>\n",
       "      <td>2</td>\n",
       "      <td>34.000000</td>\n",
       "      <td>0</td>\n",
       "      <td>0.0</td>\n",
       "      <td>0.0</td>\n",
       "      <td>0.0</td>\n",
       "      <td>0.0</td>\n",
       "      <td>0.0</td>\n",
       "      <td>1</td>\n",
       "    </tr>\n",
       "    <tr>\n",
       "      <th>4273</th>\n",
       "      <td>0</td>\n",
       "      <td>0</td>\n",
       "      <td>2</td>\n",
       "      <td>42.000000</td>\n",
       "      <td>0</td>\n",
       "      <td>0.0</td>\n",
       "      <td>847.0</td>\n",
       "      <td>17.0</td>\n",
       "      <td>10.0</td>\n",
       "      <td>144.0</td>\n",
       "      <td>1</td>\n",
       "    </tr>\n",
       "    <tr>\n",
       "      <th>4274</th>\n",
       "      <td>2</td>\n",
       "      <td>1</td>\n",
       "      <td>0</td>\n",
       "      <td>28.658146</td>\n",
       "      <td>0</td>\n",
       "      <td>0.0</td>\n",
       "      <td>0.0</td>\n",
       "      <td>0.0</td>\n",
       "      <td>0.0</td>\n",
       "      <td>0.0</td>\n",
       "      <td>0</td>\n",
       "    </tr>\n",
       "    <tr>\n",
       "      <th>4275</th>\n",
       "      <td>1</td>\n",
       "      <td>0</td>\n",
       "      <td>0</td>\n",
       "      <td>28.658146</td>\n",
       "      <td>0</td>\n",
       "      <td>0.0</td>\n",
       "      <td>2680.0</td>\n",
       "      <td>0.0</td>\n",
       "      <td>0.0</td>\n",
       "      <td>523.0</td>\n",
       "      <td>0</td>\n",
       "    </tr>\n",
       "    <tr>\n",
       "      <th>4276</th>\n",
       "      <td>0</td>\n",
       "      <td>1</td>\n",
       "      <td>1</td>\n",
       "      <td>43.000000</td>\n",
       "      <td>0</td>\n",
       "      <td>0.0</td>\n",
       "      <td>0.0</td>\n",
       "      <td>0.0</td>\n",
       "      <td>0.0</td>\n",
       "      <td>0.0</td>\n",
       "      <td>1</td>\n",
       "    </tr>\n",
       "  </tbody>\n",
       "</table>\n",
       "<p>4277 rows × 11 columns</p>\n",
       "</div>"
      ],
      "text/plain": [
       "      HomePlanet  CryoSleep  Destination        Age  VIP  RoomService  \\\n",
       "0              0          1            2  27.000000    0          0.0   \n",
       "1              0          0            2  19.000000    0          0.0   \n",
       "2              1          1            0  31.000000    0          0.0   \n",
       "3              1          0            2  38.000000    0          0.0   \n",
       "4              0          0            2  20.000000    0         10.0   \n",
       "...          ...        ...          ...        ...  ...          ...   \n",
       "4272           0          1            2  34.000000    0          0.0   \n",
       "4273           0          0            2  42.000000    0          0.0   \n",
       "4274           2          1            0  28.658146    0          0.0   \n",
       "4275           1          0            0  28.658146    0          0.0   \n",
       "4276           0          1            1  43.000000    0          0.0   \n",
       "\n",
       "      FoodCourt  ShoppingMall     Spa  VRDeck  Side  \n",
       "0           0.0           0.0     0.0     0.0     1  \n",
       "1           9.0           0.0  2823.0     0.0     1  \n",
       "2           0.0           0.0     0.0     0.0     1  \n",
       "3        6652.0           0.0   181.0   585.0     1  \n",
       "4           0.0         635.0     0.0     0.0     1  \n",
       "...         ...           ...     ...     ...   ...  \n",
       "4272        0.0           0.0     0.0     0.0     1  \n",
       "4273      847.0          17.0    10.0   144.0     1  \n",
       "4274        0.0           0.0     0.0     0.0     0  \n",
       "4275     2680.0           0.0     0.0   523.0     0  \n",
       "4276        0.0           0.0     0.0     0.0     1  \n",
       "\n",
       "[4277 rows x 11 columns]"
      ]
     },
     "execution_count": 21,
     "metadata": {},
     "output_type": "execute_result"
    }
   ],
   "source": [
    "X_test"
   ]
  },
  {
   "cell_type": "code",
   "execution_count": 22,
   "id": "ab24c044",
   "metadata": {
    "execution": {
     "iopub.execute_input": "2022-04-18T07:11:00.325244Z",
     "iopub.status.busy": "2022-04-18T07:11:00.325017Z",
     "iopub.status.idle": "2022-04-18T07:11:00.327996Z",
     "shell.execute_reply": "2022-04-18T07:11:00.327438Z"
    },
    "papermill": {
     "duration": 0.036924,
     "end_time": "2022-04-18T07:11:00.329329",
     "exception": false,
     "start_time": "2022-04-18T07:11:00.292405",
     "status": "completed"
    },
    "tags": []
   },
   "outputs": [],
   "source": [
    "#from sklearn.preprocessing import OneHotEncoder\n",
    "#ohe = OneHotEncoder() "
   ]
  },
  {
   "cell_type": "code",
   "execution_count": 23,
   "id": "6e7d988c",
   "metadata": {
    "execution": {
     "iopub.execute_input": "2022-04-18T07:11:00.393998Z",
     "iopub.status.busy": "2022-04-18T07:11:00.393598Z",
     "iopub.status.idle": "2022-04-18T07:11:00.396004Z",
     "shell.execute_reply": "2022-04-18T07:11:00.395601Z"
    },
    "papermill": {
     "duration": 0.036928,
     "end_time": "2022-04-18T07:11:00.397755",
     "exception": false,
     "start_time": "2022-04-18T07:11:00.360827",
     "status": "completed"
    },
    "tags": []
   },
   "outputs": [],
   "source": [
    "#X_ohe = pd.DataFrame(ohe.fit_transform(X).toarray())\n",
    "#X_ohe_test = pd.DataFrame(ohe.fit_transform(X_test).toarray())\n"
   ]
  },
  {
   "cell_type": "code",
   "execution_count": 24,
   "id": "561504cf",
   "metadata": {
    "execution": {
     "iopub.execute_input": "2022-04-18T07:11:00.461726Z",
     "iopub.status.busy": "2022-04-18T07:11:00.461506Z",
     "iopub.status.idle": "2022-04-18T07:11:00.463678Z",
     "shell.execute_reply": "2022-04-18T07:11:00.463314Z"
    },
    "papermill": {
     "duration": 0.036025,
     "end_time": "2022-04-18T07:11:00.464958",
     "exception": false,
     "start_time": "2022-04-18T07:11:00.428933",
     "status": "completed"
    },
    "tags": []
   },
   "outputs": [],
   "source": [
    "#X = X.join(X_ohe)\n",
    "#X"
   ]
  },
  {
   "cell_type": "code",
   "execution_count": 25,
   "id": "ed8ac4a0",
   "metadata": {
    "execution": {
     "iopub.execute_input": "2022-04-18T07:11:00.528878Z",
     "iopub.status.busy": "2022-04-18T07:11:00.528494Z",
     "iopub.status.idle": "2022-04-18T07:11:00.531302Z",
     "shell.execute_reply": "2022-04-18T07:11:00.530426Z"
    },
    "papermill": {
     "duration": 0.036602,
     "end_time": "2022-04-18T07:11:00.532624",
     "exception": false,
     "start_time": "2022-04-18T07:11:00.496022",
     "status": "completed"
    },
    "tags": []
   },
   "outputs": [],
   "source": [
    "#from sklearn.model_selection import train_test_split\n",
    "#X_train, X_test, y_train, y_test = train_test_split(X, y, test_size=0.33, random_state=42)"
   ]
  },
  {
   "cell_type": "code",
   "execution_count": 26,
   "id": "eac733d1",
   "metadata": {
    "execution": {
     "iopub.execute_input": "2022-04-18T07:11:00.597301Z",
     "iopub.status.busy": "2022-04-18T07:11:00.597050Z",
     "iopub.status.idle": "2022-04-18T07:11:00.705970Z",
     "shell.execute_reply": "2022-04-18T07:11:00.705346Z"
    },
    "papermill": {
     "duration": 0.143484,
     "end_time": "2022-04-18T07:11:00.707601",
     "exception": false,
     "start_time": "2022-04-18T07:11:00.564117",
     "status": "completed"
    },
    "tags": []
   },
   "outputs": [],
   "source": [
    "from sklearn.linear_model import LogisticRegression\n",
    "logReg = LogisticRegression()"
   ]
  },
  {
   "cell_type": "code",
   "execution_count": 27,
   "id": "6de9a3f4",
   "metadata": {
    "execution": {
     "iopub.execute_input": "2022-04-18T07:11:00.772141Z",
     "iopub.status.busy": "2022-04-18T07:11:00.771329Z",
     "iopub.status.idle": "2022-04-18T07:11:00.785234Z",
     "shell.execute_reply": "2022-04-18T07:11:00.784326Z"
    },
    "papermill": {
     "duration": 0.047688,
     "end_time": "2022-04-18T07:11:00.786962",
     "exception": false,
     "start_time": "2022-04-18T07:11:00.739274",
     "status": "completed"
    },
    "tags": []
   },
   "outputs": [
    {
     "name": "stdout",
     "output_type": "stream",
     "text": [
      "0.0\n",
      "0.0\n",
      "0.0\n",
      "0.0\n",
      "0.0\n",
      "0.0\n",
      "0.0\n",
      "0.0\n",
      "0.0\n",
      "0.0\n",
      "0.0\n"
     ]
    }
   ],
   "source": [
    "X.iloc[:,5:10] = X.iloc[:,5:10].apply(lambda x: (x-x.mean())/ x.std(), axis=0)\n",
    "for i in X.columns:\n",
    "    print(X[i].isnull().sum()/len(X)*100)"
   ]
  },
  {
   "cell_type": "code",
   "execution_count": 28,
   "id": "99c9f375",
   "metadata": {
    "execution": {
     "iopub.execute_input": "2022-04-18T07:11:00.887363Z",
     "iopub.status.busy": "2022-04-18T07:11:00.886472Z",
     "iopub.status.idle": "2022-04-18T07:11:00.894948Z",
     "shell.execute_reply": "2022-04-18T07:11:00.894549Z"
    },
    "papermill": {
     "duration": 0.0597,
     "end_time": "2022-04-18T07:11:00.896596",
     "exception": false,
     "start_time": "2022-04-18T07:11:00.836896",
     "status": "completed"
    },
    "tags": []
   },
   "outputs": [],
   "source": [
    "X_test.iloc[:,5:10] = X_test.iloc[:,5:10].apply(lambda x: (x-x.mean())/ x.std(), axis=0)"
   ]
  },
  {
   "cell_type": "code",
   "execution_count": 29,
   "id": "19c8b829",
   "metadata": {
    "execution": {
     "iopub.execute_input": "2022-04-18T07:11:00.995231Z",
     "iopub.status.busy": "2022-04-18T07:11:00.994362Z",
     "iopub.status.idle": "2022-04-18T07:11:01.014283Z",
     "shell.execute_reply": "2022-04-18T07:11:01.013736Z"
    },
    "papermill": {
     "duration": 0.071158,
     "end_time": "2022-04-18T07:11:01.016362",
     "exception": false,
     "start_time": "2022-04-18T07:11:00.945204",
     "status": "completed"
    },
    "tags": []
   },
   "outputs": [
    {
     "data": {
      "text/html": [
       "<div>\n",
       "<style scoped>\n",
       "    .dataframe tbody tr th:only-of-type {\n",
       "        vertical-align: middle;\n",
       "    }\n",
       "\n",
       "    .dataframe tbody tr th {\n",
       "        vertical-align: top;\n",
       "    }\n",
       "\n",
       "    .dataframe thead th {\n",
       "        text-align: right;\n",
       "    }\n",
       "</style>\n",
       "<table border=\"1\" class=\"dataframe\">\n",
       "  <thead>\n",
       "    <tr style=\"text-align: right;\">\n",
       "      <th></th>\n",
       "      <th>HomePlanet</th>\n",
       "      <th>CryoSleep</th>\n",
       "      <th>Destination</th>\n",
       "      <th>Age</th>\n",
       "      <th>VIP</th>\n",
       "      <th>RoomService</th>\n",
       "      <th>FoodCourt</th>\n",
       "      <th>ShoppingMall</th>\n",
       "      <th>Spa</th>\n",
       "      <th>VRDeck</th>\n",
       "      <th>Side</th>\n",
       "    </tr>\n",
       "  </thead>\n",
       "  <tbody>\n",
       "    <tr>\n",
       "      <th>0</th>\n",
       "      <td>0</td>\n",
       "      <td>1</td>\n",
       "      <td>2</td>\n",
       "      <td>27.000000</td>\n",
       "      <td>0</td>\n",
       "      <td>-0.364737</td>\n",
       "      <td>-0.291318</td>\n",
       "      <td>-0.319822</td>\n",
       "      <td>-0.274526</td>\n",
       "      <td>-0.251531</td>\n",
       "      <td>1</td>\n",
       "    </tr>\n",
       "    <tr>\n",
       "      <th>1</th>\n",
       "      <td>0</td>\n",
       "      <td>0</td>\n",
       "      <td>2</td>\n",
       "      <td>19.000000</td>\n",
       "      <td>0</td>\n",
       "      <td>-0.364737</td>\n",
       "      <td>-0.285352</td>\n",
       "      <td>-0.319822</td>\n",
       "      <td>2.282741</td>\n",
       "      <td>-0.251531</td>\n",
       "      <td>1</td>\n",
       "    </tr>\n",
       "    <tr>\n",
       "      <th>2</th>\n",
       "      <td>1</td>\n",
       "      <td>1</td>\n",
       "      <td>0</td>\n",
       "      <td>31.000000</td>\n",
       "      <td>0</td>\n",
       "      <td>-0.364737</td>\n",
       "      <td>-0.291318</td>\n",
       "      <td>-0.319822</td>\n",
       "      <td>-0.274526</td>\n",
       "      <td>-0.251531</td>\n",
       "      <td>1</td>\n",
       "    </tr>\n",
       "    <tr>\n",
       "      <th>3</th>\n",
       "      <td>1</td>\n",
       "      <td>0</td>\n",
       "      <td>2</td>\n",
       "      <td>38.000000</td>\n",
       "      <td>0</td>\n",
       "      <td>-0.364737</td>\n",
       "      <td>4.118042</td>\n",
       "      <td>-0.319822</td>\n",
       "      <td>-0.110563</td>\n",
       "      <td>0.222048</td>\n",
       "      <td>1</td>\n",
       "    </tr>\n",
       "    <tr>\n",
       "      <th>4</th>\n",
       "      <td>0</td>\n",
       "      <td>0</td>\n",
       "      <td>2</td>\n",
       "      <td>20.000000</td>\n",
       "      <td>0</td>\n",
       "      <td>-0.348102</td>\n",
       "      <td>-0.291318</td>\n",
       "      <td>0.825649</td>\n",
       "      <td>-0.274526</td>\n",
       "      <td>-0.251531</td>\n",
       "      <td>1</td>\n",
       "    </tr>\n",
       "    <tr>\n",
       "      <th>...</th>\n",
       "      <td>...</td>\n",
       "      <td>...</td>\n",
       "      <td>...</td>\n",
       "      <td>...</td>\n",
       "      <td>...</td>\n",
       "      <td>...</td>\n",
       "      <td>...</td>\n",
       "      <td>...</td>\n",
       "      <td>...</td>\n",
       "      <td>...</td>\n",
       "      <td>...</td>\n",
       "    </tr>\n",
       "    <tr>\n",
       "      <th>4272</th>\n",
       "      <td>0</td>\n",
       "      <td>1</td>\n",
       "      <td>2</td>\n",
       "      <td>34.000000</td>\n",
       "      <td>0</td>\n",
       "      <td>-0.364737</td>\n",
       "      <td>-0.291318</td>\n",
       "      <td>-0.319822</td>\n",
       "      <td>-0.274526</td>\n",
       "      <td>-0.251531</td>\n",
       "      <td>1</td>\n",
       "    </tr>\n",
       "    <tr>\n",
       "      <th>4273</th>\n",
       "      <td>0</td>\n",
       "      <td>0</td>\n",
       "      <td>2</td>\n",
       "      <td>42.000000</td>\n",
       "      <td>0</td>\n",
       "      <td>-0.364737</td>\n",
       "      <td>0.270127</td>\n",
       "      <td>-0.289156</td>\n",
       "      <td>-0.265467</td>\n",
       "      <td>-0.134958</td>\n",
       "      <td>1</td>\n",
       "    </tr>\n",
       "    <tr>\n",
       "      <th>4274</th>\n",
       "      <td>2</td>\n",
       "      <td>1</td>\n",
       "      <td>0</td>\n",
       "      <td>28.658146</td>\n",
       "      <td>0</td>\n",
       "      <td>-0.364737</td>\n",
       "      <td>-0.291318</td>\n",
       "      <td>-0.319822</td>\n",
       "      <td>-0.274526</td>\n",
       "      <td>-0.251531</td>\n",
       "      <td>0</td>\n",
       "    </tr>\n",
       "    <tr>\n",
       "      <th>4275</th>\n",
       "      <td>1</td>\n",
       "      <td>0</td>\n",
       "      <td>0</td>\n",
       "      <td>28.658146</td>\n",
       "      <td>0</td>\n",
       "      <td>-0.364737</td>\n",
       "      <td>1.485153</td>\n",
       "      <td>-0.319822</td>\n",
       "      <td>-0.274526</td>\n",
       "      <td>0.171856</td>\n",
       "      <td>0</td>\n",
       "    </tr>\n",
       "    <tr>\n",
       "      <th>4276</th>\n",
       "      <td>0</td>\n",
       "      <td>1</td>\n",
       "      <td>1</td>\n",
       "      <td>43.000000</td>\n",
       "      <td>0</td>\n",
       "      <td>-0.364737</td>\n",
       "      <td>-0.291318</td>\n",
       "      <td>-0.319822</td>\n",
       "      <td>-0.274526</td>\n",
       "      <td>-0.251531</td>\n",
       "      <td>1</td>\n",
       "    </tr>\n",
       "  </tbody>\n",
       "</table>\n",
       "<p>4277 rows × 11 columns</p>\n",
       "</div>"
      ],
      "text/plain": [
       "      HomePlanet  CryoSleep  Destination        Age  VIP  RoomService  \\\n",
       "0              0          1            2  27.000000    0    -0.364737   \n",
       "1              0          0            2  19.000000    0    -0.364737   \n",
       "2              1          1            0  31.000000    0    -0.364737   \n",
       "3              1          0            2  38.000000    0    -0.364737   \n",
       "4              0          0            2  20.000000    0    -0.348102   \n",
       "...          ...        ...          ...        ...  ...          ...   \n",
       "4272           0          1            2  34.000000    0    -0.364737   \n",
       "4273           0          0            2  42.000000    0    -0.364737   \n",
       "4274           2          1            0  28.658146    0    -0.364737   \n",
       "4275           1          0            0  28.658146    0    -0.364737   \n",
       "4276           0          1            1  43.000000    0    -0.364737   \n",
       "\n",
       "      FoodCourt  ShoppingMall       Spa    VRDeck  Side  \n",
       "0     -0.291318     -0.319822 -0.274526 -0.251531     1  \n",
       "1     -0.285352     -0.319822  2.282741 -0.251531     1  \n",
       "2     -0.291318     -0.319822 -0.274526 -0.251531     1  \n",
       "3      4.118042     -0.319822 -0.110563  0.222048     1  \n",
       "4     -0.291318      0.825649 -0.274526 -0.251531     1  \n",
       "...         ...           ...       ...       ...   ...  \n",
       "4272  -0.291318     -0.319822 -0.274526 -0.251531     1  \n",
       "4273   0.270127     -0.289156 -0.265467 -0.134958     1  \n",
       "4274  -0.291318     -0.319822 -0.274526 -0.251531     0  \n",
       "4275   1.485153     -0.319822 -0.274526  0.171856     0  \n",
       "4276  -0.291318     -0.319822 -0.274526 -0.251531     1  \n",
       "\n",
       "[4277 rows x 11 columns]"
      ]
     },
     "execution_count": 29,
     "metadata": {},
     "output_type": "execute_result"
    }
   ],
   "source": [
    "X_test"
   ]
  },
  {
   "cell_type": "code",
   "execution_count": 30,
   "id": "86caff1d",
   "metadata": {
    "execution": {
     "iopub.execute_input": "2022-04-18T07:11:01.118410Z",
     "iopub.status.busy": "2022-04-18T07:11:01.118189Z",
     "iopub.status.idle": "2022-04-18T07:11:01.171045Z",
     "shell.execute_reply": "2022-04-18T07:11:01.170134Z"
    },
    "papermill": {
     "duration": 0.106655,
     "end_time": "2022-04-18T07:11:01.173284",
     "exception": false,
     "start_time": "2022-04-18T07:11:01.066629",
     "status": "completed"
    },
    "tags": []
   },
   "outputs": [
    {
     "data": {
      "text/plain": [
       "LogisticRegression()"
      ]
     },
     "execution_count": 30,
     "metadata": {},
     "output_type": "execute_result"
    }
   ],
   "source": [
    "logReg.fit(X, y)"
   ]
  },
  {
   "cell_type": "code",
   "execution_count": 31,
   "id": "09f0cbc6",
   "metadata": {
    "execution": {
     "iopub.execute_input": "2022-04-18T07:11:01.292964Z",
     "iopub.status.busy": "2022-04-18T07:11:01.292768Z",
     "iopub.status.idle": "2022-04-18T07:11:01.301719Z",
     "shell.execute_reply": "2022-04-18T07:11:01.301018Z"
    },
    "papermill": {
     "duration": 0.071091,
     "end_time": "2022-04-18T07:11:01.303936",
     "exception": false,
     "start_time": "2022-04-18T07:11:01.232845",
     "status": "completed"
    },
    "tags": []
   },
   "outputs": [
    {
     "name": "stdout",
     "output_type": "stream",
     "text": [
      "0.7881053721385023\n"
     ]
    }
   ],
   "source": [
    "score = logReg.score(X, y)\n",
    "print(score)"
   ]
  },
  {
   "cell_type": "code",
   "execution_count": 32,
   "id": "33de92d7",
   "metadata": {
    "execution": {
     "iopub.execute_input": "2022-04-18T07:11:01.395056Z",
     "iopub.status.busy": "2022-04-18T07:11:01.394838Z",
     "iopub.status.idle": "2022-04-18T07:11:01.408566Z",
     "shell.execute_reply": "2022-04-18T07:11:01.408046Z"
    },
    "papermill": {
     "duration": 0.060109,
     "end_time": "2022-04-18T07:11:01.410488",
     "exception": false,
     "start_time": "2022-04-18T07:11:01.350379",
     "status": "completed"
    },
    "tags": []
   },
   "outputs": [
    {
     "data": {
      "text/html": [
       "<div>\n",
       "<style scoped>\n",
       "    .dataframe tbody tr th:only-of-type {\n",
       "        vertical-align: middle;\n",
       "    }\n",
       "\n",
       "    .dataframe tbody tr th {\n",
       "        vertical-align: top;\n",
       "    }\n",
       "\n",
       "    .dataframe thead th {\n",
       "        text-align: right;\n",
       "    }\n",
       "</style>\n",
       "<table border=\"1\" class=\"dataframe\">\n",
       "  <thead>\n",
       "    <tr style=\"text-align: right;\">\n",
       "      <th></th>\n",
       "      <th>0</th>\n",
       "    </tr>\n",
       "  </thead>\n",
       "  <tbody>\n",
       "    <tr>\n",
       "      <th>0</th>\n",
       "      <td>True</td>\n",
       "    </tr>\n",
       "    <tr>\n",
       "      <th>1</th>\n",
       "      <td>False</td>\n",
       "    </tr>\n",
       "    <tr>\n",
       "      <th>2</th>\n",
       "      <td>True</td>\n",
       "    </tr>\n",
       "    <tr>\n",
       "      <th>3</th>\n",
       "      <td>True</td>\n",
       "    </tr>\n",
       "    <tr>\n",
       "      <th>4</th>\n",
       "      <td>True</td>\n",
       "    </tr>\n",
       "    <tr>\n",
       "      <th>...</th>\n",
       "      <td>...</td>\n",
       "    </tr>\n",
       "    <tr>\n",
       "      <th>4272</th>\n",
       "      <td>True</td>\n",
       "    </tr>\n",
       "    <tr>\n",
       "      <th>4273</th>\n",
       "      <td>True</td>\n",
       "    </tr>\n",
       "    <tr>\n",
       "      <th>4274</th>\n",
       "      <td>True</td>\n",
       "    </tr>\n",
       "    <tr>\n",
       "      <th>4275</th>\n",
       "      <td>True</td>\n",
       "    </tr>\n",
       "    <tr>\n",
       "      <th>4276</th>\n",
       "      <td>True</td>\n",
       "    </tr>\n",
       "  </tbody>\n",
       "</table>\n",
       "<p>4277 rows × 1 columns</p>\n",
       "</div>"
      ],
      "text/plain": [
       "          0\n",
       "0      True\n",
       "1     False\n",
       "2      True\n",
       "3      True\n",
       "4      True\n",
       "...     ...\n",
       "4272   True\n",
       "4273   True\n",
       "4274   True\n",
       "4275   True\n",
       "4276   True\n",
       "\n",
       "[4277 rows x 1 columns]"
      ]
     },
     "execution_count": 32,
     "metadata": {},
     "output_type": "execute_result"
    }
   ],
   "source": [
    "df = pd.DataFrame(logReg.predict(X_test))\n",
    "df"
   ]
  },
  {
   "cell_type": "code",
   "execution_count": 33,
   "id": "93e13694",
   "metadata": {
    "execution": {
     "iopub.execute_input": "2022-04-18T07:11:01.500215Z",
     "iopub.status.busy": "2022-04-18T07:11:01.499999Z",
     "iopub.status.idle": "2022-04-18T07:11:01.514026Z",
     "shell.execute_reply": "2022-04-18T07:11:01.513480Z"
    },
    "papermill": {
     "duration": 0.061393,
     "end_time": "2022-04-18T07:11:01.515891",
     "exception": false,
     "start_time": "2022-04-18T07:11:01.454498",
     "status": "completed"
    },
    "tags": []
   },
   "outputs": [],
   "source": [
    "df.to_csv('result.csv')"
   ]
  },
  {
   "cell_type": "code",
   "execution_count": null,
   "id": "8918d8d8",
   "metadata": {
    "papermill": {
     "duration": 0.033449,
     "end_time": "2022-04-18T07:11:01.583800",
     "exception": false,
     "start_time": "2022-04-18T07:11:01.550351",
     "status": "completed"
    },
    "tags": []
   },
   "outputs": [],
   "source": []
  }
 ],
 "metadata": {
  "kernelspec": {
   "display_name": "Python 3",
   "language": "python",
   "name": "python3"
  },
  "language_info": {
   "codemirror_mode": {
    "name": "ipython",
    "version": 3
   },
   "file_extension": ".py",
   "mimetype": "text/x-python",
   "name": "python",
   "nbconvert_exporter": "python",
   "pygments_lexer": "ipython3",
   "version": "3.7.12"
  },
  "papermill": {
   "default_parameters": {},
   "duration": 12.042516,
   "end_time": "2022-04-18T07:11:02.235483",
   "environment_variables": {},
   "exception": null,
   "input_path": "__notebook__.ipynb",
   "output_path": "__notebook__.ipynb",
   "parameters": {},
   "start_time": "2022-04-18T07:10:50.192967",
   "version": "2.3.4"
  }
 },
 "nbformat": 4,
 "nbformat_minor": 5
}
