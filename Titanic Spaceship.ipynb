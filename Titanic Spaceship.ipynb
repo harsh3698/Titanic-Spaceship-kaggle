{
 "cells": [
  {
   "cell_type": "code",
   "execution_count": 1,
   "id": "6992bcaf",
   "metadata": {
    "_cell_guid": "b1076dfc-b9ad-4769-8c92-a6c4dae69d19",
    "_uuid": "8f2839f25d086af736a60e9eeb907d3b93b6e0e5",
    "execution": {
     "iopub.execute_input": "2022-04-18T07:48:25.869639Z",
     "iopub.status.busy": "2022-04-18T07:48:25.869058Z",
     "iopub.status.idle": "2022-04-18T07:48:26.957954Z",
     "shell.execute_reply": "2022-04-18T07:48:26.956969Z"
    },
    "papermill": {
     "duration": 1.121994,
     "end_time": "2022-04-18T07:48:26.960375",
     "exception": false,
     "start_time": "2022-04-18T07:48:25.838381",
     "status": "completed"
    },
    "tags": []
   },
   "outputs": [
    {
     "name": "stdout",
     "output_type": "stream",
     "text": [
      "/kaggle/input/spaceship-titanic/sample_submission.csv\n",
      "/kaggle/input/spaceship-titanic/train.csv\n",
      "/kaggle/input/spaceship-titanic/test.csv\n"
     ]
    }
   ],
   "source": [
    "import numpy as np\n",
    "import pandas as pd \n",
    "import matplotlib.pyplot as plt\n",
    "import os\n",
    "import seaborn as sns\n",
    "for dirname, _, filenames in os.walk('/kaggle/input'):\n",
    "    for filename in filenames:\n",
    "        print(os.path.join(dirname, filename))"
   ]
  },
  {
   "cell_type": "code",
   "execution_count": 2,
   "id": "48528bb2",
   "metadata": {
    "execution": {
     "iopub.execute_input": "2022-04-18T07:48:27.019633Z",
     "iopub.status.busy": "2022-04-18T07:48:27.019353Z",
     "iopub.status.idle": "2022-04-18T07:48:27.098155Z",
     "shell.execute_reply": "2022-04-18T07:48:27.096564Z"
    },
    "papermill": {
     "duration": 0.111828,
     "end_time": "2022-04-18T07:48:27.101429",
     "exception": false,
     "start_time": "2022-04-18T07:48:26.989601",
     "status": "completed"
    },
    "tags": []
   },
   "outputs": [],
   "source": [
    "dataset = pd.read_csv('/kaggle/input/spaceship-titanic/train.csv')\n",
    "dataset_test = pd.read_csv('../input/spaceship-titanic/test.csv')"
   ]
  },
  {
   "cell_type": "code",
   "execution_count": 3,
   "id": "042044bb",
   "metadata": {
    "execution": {
     "iopub.execute_input": "2022-04-18T07:48:27.169478Z",
     "iopub.status.busy": "2022-04-18T07:48:27.169004Z",
     "iopub.status.idle": "2022-04-18T07:48:27.199117Z",
     "shell.execute_reply": "2022-04-18T07:48:27.198288Z"
    },
    "papermill": {
     "duration": 0.068264,
     "end_time": "2022-04-18T07:48:27.201499",
     "exception": false,
     "start_time": "2022-04-18T07:48:27.133235",
     "status": "completed"
    },
    "tags": []
   },
   "outputs": [
    {
     "name": "stdout",
     "output_type": "stream",
     "text": [
      "<class 'pandas.core.frame.DataFrame'>\n",
      "RangeIndex: 8693 entries, 0 to 8692\n",
      "Data columns (total 14 columns):\n",
      " #   Column        Non-Null Count  Dtype  \n",
      "---  ------        --------------  -----  \n",
      " 0   PassengerId   8693 non-null   object \n",
      " 1   HomePlanet    8492 non-null   object \n",
      " 2   CryoSleep     8476 non-null   object \n",
      " 3   Cabin         8494 non-null   object \n",
      " 4   Destination   8511 non-null   object \n",
      " 5   Age           8514 non-null   float64\n",
      " 6   VIP           8490 non-null   object \n",
      " 7   RoomService   8512 non-null   float64\n",
      " 8   FoodCourt     8510 non-null   float64\n",
      " 9   ShoppingMall  8485 non-null   float64\n",
      " 10  Spa           8510 non-null   float64\n",
      " 11  VRDeck        8505 non-null   float64\n",
      " 12  Name          8493 non-null   object \n",
      " 13  Transported   8693 non-null   bool   \n",
      "dtypes: bool(1), float64(6), object(7)\n",
      "memory usage: 891.5+ KB\n"
     ]
    }
   ],
   "source": [
    "dataset.info()"
   ]
  },
  {
   "cell_type": "code",
   "execution_count": 4,
   "id": "9d700386",
   "metadata": {
    "execution": {
     "iopub.execute_input": "2022-04-18T07:48:27.263239Z",
     "iopub.status.busy": "2022-04-18T07:48:27.262689Z",
     "iopub.status.idle": "2022-04-18T07:48:27.276025Z",
     "shell.execute_reply": "2022-04-18T07:48:27.274829Z"
    },
    "papermill": {
     "duration": 0.045043,
     "end_time": "2022-04-18T07:48:27.277952",
     "exception": false,
     "start_time": "2022-04-18T07:48:27.232909",
     "status": "completed"
    },
    "tags": []
   },
   "outputs": [
    {
     "name": "stdout",
     "output_type": "stream",
     "text": [
      "<class 'pandas.core.frame.DataFrame'>\n",
      "RangeIndex: 4277 entries, 0 to 4276\n",
      "Data columns (total 13 columns):\n",
      " #   Column        Non-Null Count  Dtype  \n",
      "---  ------        --------------  -----  \n",
      " 0   PassengerId   4277 non-null   object \n",
      " 1   HomePlanet    4190 non-null   object \n",
      " 2   CryoSleep     4184 non-null   object \n",
      " 3   Cabin         4177 non-null   object \n",
      " 4   Destination   4185 non-null   object \n",
      " 5   Age           4186 non-null   float64\n",
      " 6   VIP           4184 non-null   object \n",
      " 7   RoomService   4195 non-null   float64\n",
      " 8   FoodCourt     4171 non-null   float64\n",
      " 9   ShoppingMall  4179 non-null   float64\n",
      " 10  Spa           4176 non-null   float64\n",
      " 11  VRDeck        4197 non-null   float64\n",
      " 12  Name          4183 non-null   object \n",
      "dtypes: float64(6), object(7)\n",
      "memory usage: 434.5+ KB\n"
     ]
    }
   ],
   "source": [
    "dataset_test.info()"
   ]
  },
  {
   "cell_type": "code",
   "execution_count": 5,
   "id": "08aeaac4",
   "metadata": {
    "execution": {
     "iopub.execute_input": "2022-04-18T07:48:27.337471Z",
     "iopub.status.busy": "2022-04-18T07:48:27.337169Z",
     "iopub.status.idle": "2022-04-18T07:48:27.346911Z",
     "shell.execute_reply": "2022-04-18T07:48:27.346292Z"
    },
    "papermill": {
     "duration": 0.041689,
     "end_time": "2022-04-18T07:48:27.348757",
     "exception": false,
     "start_time": "2022-04-18T07:48:27.307068",
     "status": "completed"
    },
    "tags": []
   },
   "outputs": [],
   "source": [
    "X = dataset.iloc[:,:-1]\n",
    "y = dataset.iloc[:,-1]"
   ]
  },
  {
   "cell_type": "code",
   "execution_count": 6,
   "id": "81be1350",
   "metadata": {
    "execution": {
     "iopub.execute_input": "2022-04-18T07:48:27.407906Z",
     "iopub.status.busy": "2022-04-18T07:48:27.407477Z",
     "iopub.status.idle": "2022-04-18T07:48:27.417484Z",
     "shell.execute_reply": "2022-04-18T07:48:27.416786Z"
    },
    "papermill": {
     "duration": 0.041892,
     "end_time": "2022-04-18T07:48:27.419373",
     "exception": false,
     "start_time": "2022-04-18T07:48:27.377481",
     "status": "completed"
    },
    "tags": []
   },
   "outputs": [
    {
     "data": {
      "text/plain": [
       "Index(['HomePlanet', 'CryoSleep', 'Cabin', 'Destination', 'Age', 'VIP',\n",
       "       'RoomService', 'FoodCourt', 'ShoppingMall', 'Spa', 'VRDeck'],\n",
       "      dtype='object')"
      ]
     },
     "execution_count": 6,
     "metadata": {},
     "output_type": "execute_result"
    }
   ],
   "source": [
    "X_test = dataset_test\n",
    "X = X.drop(columns = [\"PassengerId\",\"Name\"])\n",
    "X_test = X_test.drop(columns = [\"PassengerId\",\"Name\"])\n",
    "X.columns"
   ]
  },
  {
   "cell_type": "code",
   "execution_count": 7,
   "id": "3eeca00d",
   "metadata": {
    "execution": {
     "iopub.execute_input": "2022-04-18T07:48:27.479245Z",
     "iopub.status.busy": "2022-04-18T07:48:27.478967Z",
     "iopub.status.idle": "2022-04-18T07:48:27.484417Z",
     "shell.execute_reply": "2022-04-18T07:48:27.483853Z"
    },
    "papermill": {
     "duration": 0.037579,
     "end_time": "2022-04-18T07:48:27.486023",
     "exception": false,
     "start_time": "2022-04-18T07:48:27.448444",
     "status": "completed"
    },
    "tags": []
   },
   "outputs": [
    {
     "data": {
      "text/plain": [
       "Index(['HomePlanet', 'CryoSleep', 'Cabin', 'Destination', 'Age', 'VIP',\n",
       "       'RoomService', 'FoodCourt', 'ShoppingMall', 'Spa', 'VRDeck'],\n",
       "      dtype='object')"
      ]
     },
     "execution_count": 7,
     "metadata": {},
     "output_type": "execute_result"
    }
   ],
   "source": [
    "X_test.columns"
   ]
  },
  {
   "cell_type": "code",
   "execution_count": 8,
   "id": "78e88b04",
   "metadata": {
    "execution": {
     "iopub.execute_input": "2022-04-18T07:48:27.546823Z",
     "iopub.status.busy": "2022-04-18T07:48:27.546267Z",
     "iopub.status.idle": "2022-04-18T07:48:27.558809Z",
     "shell.execute_reply": "2022-04-18T07:48:27.558163Z"
    },
    "papermill": {
     "duration": 0.045419,
     "end_time": "2022-04-18T07:48:27.560921",
     "exception": false,
     "start_time": "2022-04-18T07:48:27.515502",
     "status": "completed"
    },
    "tags": []
   },
   "outputs": [
    {
     "name": "stdout",
     "output_type": "stream",
     "text": [
      "HomePlanet      2.312205\n",
      "CryoSleep       2.496261\n",
      "Cabin           2.289198\n",
      "Destination     2.093639\n",
      "Age             2.059128\n",
      "VIP             2.335212\n",
      "RoomService     2.082135\n",
      "FoodCourt       2.105142\n",
      "ShoppingMall    2.392730\n",
      "Spa             2.105142\n",
      "VRDeck          2.162660\n",
      "dtype: float64\n",
      "HomePlanet      1.000805\n",
      "CryoSleep       1.069826\n",
      "Cabin           1.150351\n",
      "Destination     1.058323\n",
      "Age             1.046819\n",
      "VIP             1.069826\n",
      "RoomService     0.943288\n",
      "FoodCourt       1.219372\n",
      "ShoppingMall    1.127344\n",
      "Spa             1.161854\n",
      "VRDeck          0.920281\n",
      "dtype: float64\n"
     ]
    }
   ],
   "source": [
    "print(X.isnull().sum()/len(X)*100)\n",
    "print(X_test.isnull().sum()/len(X)*100)"
   ]
  },
  {
   "cell_type": "code",
   "execution_count": 9,
   "id": "d82b1c52",
   "metadata": {
    "execution": {
     "iopub.execute_input": "2022-04-18T07:48:27.622627Z",
     "iopub.status.busy": "2022-04-18T07:48:27.622341Z",
     "iopub.status.idle": "2022-04-18T07:48:27.673482Z",
     "shell.execute_reply": "2022-04-18T07:48:27.672618Z"
    },
    "papermill": {
     "duration": 0.084628,
     "end_time": "2022-04-18T07:48:27.675650",
     "exception": false,
     "start_time": "2022-04-18T07:48:27.591022",
     "status": "completed"
    },
    "tags": []
   },
   "outputs": [
    {
     "name": "stdout",
     "output_type": "stream",
     "text": [
      "HomePlanet      0.0\n",
      "CryoSleep       0.0\n",
      "Cabin           0.0\n",
      "Destination     0.0\n",
      "Age             0.0\n",
      "VIP             0.0\n",
      "RoomService     0.0\n",
      "FoodCourt       0.0\n",
      "ShoppingMall    0.0\n",
      "Spa             0.0\n",
      "VRDeck          0.0\n",
      "dtype: float64\n",
      "HomePlanet      0.0\n",
      "CryoSleep       0.0\n",
      "Cabin           0.0\n",
      "Destination     0.0\n",
      "Age             0.0\n",
      "VIP             0.0\n",
      "RoomService     0.0\n",
      "FoodCourt       0.0\n",
      "ShoppingMall    0.0\n",
      "Spa             0.0\n",
      "VRDeck          0.0\n",
      "dtype: float64\n"
     ]
    }
   ],
   "source": [
    "for i in X.columns:\n",
    "    if X[i].dtype not in ['int64','float64']:\n",
    "        X[i] = X[i].ffill().bfill()\n",
    "    else:\n",
    "        X[i] = X[i].fillna(X[i].mean())\n",
    "print(X.isnull().sum()/len(X)*100)\n",
    "for i in X_test.columns:\n",
    "    if X_test[i].dtype not in ['int64','float64']:\n",
    "        X_test[i] = X_test[i].ffill().bfill()\n",
    "    else:\n",
    "        X_test[i] = X_test[i].fillna(X_test[i].mean())\n",
    "print(X_test.isnull().sum()/len(X_test)*100)"
   ]
  },
  {
   "cell_type": "code",
   "execution_count": 10,
   "id": "85d30445",
   "metadata": {
    "execution": {
     "iopub.execute_input": "2022-04-18T07:48:27.738103Z",
     "iopub.status.busy": "2022-04-18T07:48:27.737159Z",
     "iopub.status.idle": "2022-04-18T07:48:27.783536Z",
     "shell.execute_reply": "2022-04-18T07:48:27.782517Z"
    },
    "papermill": {
     "duration": 0.080453,
     "end_time": "2022-04-18T07:48:27.786182",
     "exception": false,
     "start_time": "2022-04-18T07:48:27.705729",
     "status": "completed"
    },
    "tags": []
   },
   "outputs": [
    {
     "name": "stdout",
     "output_type": "stream",
     "text": [
      "     HomePlanet  CryoSleep     Cabin    Destination   Age    VIP  RoomService  \\\n",
      "0        Europa      False     B/0/P    TRAPPIST-1e  39.0  False          0.0   \n",
      "1         Earth      False     F/0/S    TRAPPIST-1e  24.0  False        109.0   \n",
      "2        Europa      False     A/0/S    TRAPPIST-1e  58.0   True         43.0   \n",
      "3        Europa      False     A/0/S    TRAPPIST-1e  33.0  False          0.0   \n",
      "4         Earth      False     F/1/S    TRAPPIST-1e  16.0  False        303.0   \n",
      "...         ...        ...       ...            ...   ...    ...          ...   \n",
      "8688     Europa      False    A/98/P    55 Cancri e  41.0   True          0.0   \n",
      "8689      Earth       True  G/1499/S  PSO J318.5-22  18.0  False          0.0   \n",
      "8690      Earth      False  G/1500/S    TRAPPIST-1e  26.0  False          0.0   \n",
      "8691     Europa      False   E/608/S    55 Cancri e  32.0  False          0.0   \n",
      "8692     Europa      False   E/608/S    TRAPPIST-1e  44.0  False        126.0   \n",
      "\n",
      "      FoodCourt  ShoppingMall     Spa  VRDeck Deck   Num Side  \n",
      "0           0.0           0.0     0.0     0.0    B     0    P  \n",
      "1           9.0          25.0   549.0    44.0    F     0    S  \n",
      "2        3576.0           0.0  6715.0    49.0    A     0    S  \n",
      "3        1283.0         371.0  3329.0   193.0    A     0    S  \n",
      "4          70.0         151.0   565.0     2.0    F     1    S  \n",
      "...         ...           ...     ...     ...  ...   ...  ...  \n",
      "8688     6819.0           0.0  1643.0    74.0    A    98    P  \n",
      "8689        0.0           0.0     0.0     0.0    G  1499    S  \n",
      "8690        0.0        1872.0     1.0     0.0    G  1500    S  \n",
      "8691     1049.0           0.0   353.0  3235.0    E   608    S  \n",
      "8692     4688.0           0.0     0.0    12.0    E   608    S  \n",
      "\n",
      "[8693 rows x 14 columns]\n",
      "     HomePlanet  CryoSleep     Cabin    Destination        Age    VIP  \\\n",
      "0         Earth       True     G/3/S    TRAPPIST-1e  27.000000  False   \n",
      "1         Earth      False     F/4/S    TRAPPIST-1e  19.000000  False   \n",
      "2        Europa       True     C/0/S    55 Cancri e  31.000000  False   \n",
      "3        Europa      False     C/1/S    TRAPPIST-1e  38.000000  False   \n",
      "4         Earth      False     F/5/S    TRAPPIST-1e  20.000000  False   \n",
      "...         ...        ...       ...            ...        ...    ...   \n",
      "4272      Earth       True  G/1496/S    TRAPPIST-1e  34.000000  False   \n",
      "4273      Earth      False  G/1496/S    TRAPPIST-1e  42.000000  False   \n",
      "4274       Mars       True   D/296/P    55 Cancri e  28.658146  False   \n",
      "4275     Europa      False   D/297/P    55 Cancri e  28.658146  False   \n",
      "4276      Earth       True  G/1498/S  PSO J318.5-22  43.000000  False   \n",
      "\n",
      "      RoomService  FoodCourt  ShoppingMall     Spa  VRDeck Deck   Num Side  \n",
      "0             0.0        0.0           0.0     0.0     0.0    G     3    S  \n",
      "1             0.0        9.0           0.0  2823.0     0.0    F     4    S  \n",
      "2             0.0        0.0           0.0     0.0     0.0    C     0    S  \n",
      "3             0.0     6652.0           0.0   181.0   585.0    C     1    S  \n",
      "4            10.0        0.0         635.0     0.0     0.0    F     5    S  \n",
      "...           ...        ...           ...     ...     ...  ...   ...  ...  \n",
      "4272          0.0        0.0           0.0     0.0     0.0    G  1496    S  \n",
      "4273          0.0      847.0          17.0    10.0   144.0    G  1496    S  \n",
      "4274          0.0        0.0           0.0     0.0     0.0    D   296    P  \n",
      "4275          0.0     2680.0           0.0     0.0   523.0    D   297    P  \n",
      "4276          0.0        0.0           0.0     0.0     0.0    G  1498    S  \n",
      "\n",
      "[4277 rows x 14 columns]\n"
     ]
    }
   ],
   "source": [
    "X[[\"Deck\",\"Num\",\"Side\"]] = X[\"Cabin\"].str.split('/', expand = True)\n",
    "X_test[[\"Deck\",\"Num\",\"Side\"]] = X_test[\"Cabin\"].str.split('/', expand = True)\n",
    "print(X)\n",
    "print(X_test)"
   ]
  },
  {
   "cell_type": "code",
   "execution_count": 11,
   "id": "23231b06",
   "metadata": {
    "execution": {
     "iopub.execute_input": "2022-04-18T07:48:27.849345Z",
     "iopub.status.busy": "2022-04-18T07:48:27.848779Z",
     "iopub.status.idle": "2022-04-18T07:48:27.855929Z",
     "shell.execute_reply": "2022-04-18T07:48:27.855286Z"
    },
    "papermill": {
     "duration": 0.040663,
     "end_time": "2022-04-18T07:48:27.857715",
     "exception": false,
     "start_time": "2022-04-18T07:48:27.817052",
     "status": "completed"
    },
    "tags": []
   },
   "outputs": [
    {
     "data": {
      "text/plain": [
       "0       P\n",
       "1       S\n",
       "2       S\n",
       "3       S\n",
       "4       S\n",
       "       ..\n",
       "8688    P\n",
       "8689    S\n",
       "8690    S\n",
       "8691    S\n",
       "8692    S\n",
       "Name: Side, Length: 8693, dtype: object"
      ]
     },
     "execution_count": 11,
     "metadata": {},
     "output_type": "execute_result"
    }
   ],
   "source": [
    "X['Side']"
   ]
  },
  {
   "cell_type": "code",
   "execution_count": 12,
   "id": "55d6054f",
   "metadata": {
    "execution": {
     "iopub.execute_input": "2022-04-18T07:48:27.920836Z",
     "iopub.status.busy": "2022-04-18T07:48:27.919917Z",
     "iopub.status.idle": "2022-04-18T07:48:27.925173Z",
     "shell.execute_reply": "2022-04-18T07:48:27.924580Z"
    },
    "papermill": {
     "duration": 0.038814,
     "end_time": "2022-04-18T07:48:27.927054",
     "exception": false,
     "start_time": "2022-04-18T07:48:27.888240",
     "status": "completed"
    },
    "tags": []
   },
   "outputs": [],
   "source": [
    "del X['Cabin']\n",
    "del X_test['Cabin']"
   ]
  },
  {
   "cell_type": "code",
   "execution_count": 13,
   "id": "7cfa1927",
   "metadata": {
    "execution": {
     "iopub.execute_input": "2022-04-18T07:48:27.990927Z",
     "iopub.status.busy": "2022-04-18T07:48:27.990134Z",
     "iopub.status.idle": "2022-04-18T07:48:27.997571Z",
     "shell.execute_reply": "2022-04-18T07:48:27.996757Z"
    },
    "papermill": {
     "duration": 0.041752,
     "end_time": "2022-04-18T07:48:27.999634",
     "exception": false,
     "start_time": "2022-04-18T07:48:27.957882",
     "status": "completed"
    },
    "tags": []
   },
   "outputs": [],
   "source": [
    "X['CryoSleep'] = X['CryoSleep'].astype('bool')\n",
    "X['VIP'] = X['VIP'].astype('bool')\n",
    "X_test['CryoSleep'] = X_test['CryoSleep'].astype('bool')\n",
    "X_test['VIP'] = X_test['VIP'].astype('bool')"
   ]
  },
  {
   "cell_type": "code",
   "execution_count": 14,
   "id": "697194ce",
   "metadata": {
    "execution": {
     "iopub.execute_input": "2022-04-18T07:48:28.064261Z",
     "iopub.status.busy": "2022-04-18T07:48:28.063745Z",
     "iopub.status.idle": "2022-04-18T07:48:28.069856Z",
     "shell.execute_reply": "2022-04-18T07:48:28.069284Z"
    },
    "papermill": {
     "duration": 0.040841,
     "end_time": "2022-04-18T07:48:28.071828",
     "exception": false,
     "start_time": "2022-04-18T07:48:28.030987",
     "status": "completed"
    },
    "tags": []
   },
   "outputs": [],
   "source": [
    "del X['Num']\n",
    "del X_test['Num']\n",
    "del X['Deck']\n",
    "del X_test['Deck']"
   ]
  },
  {
   "cell_type": "code",
   "execution_count": 15,
   "id": "886042dc",
   "metadata": {
    "execution": {
     "iopub.execute_input": "2022-04-18T07:48:28.136738Z",
     "iopub.status.busy": "2022-04-18T07:48:28.136188Z",
     "iopub.status.idle": "2022-04-18T07:48:28.157229Z",
     "shell.execute_reply": "2022-04-18T07:48:28.156327Z"
    },
    "papermill": {
     "duration": 0.055936,
     "end_time": "2022-04-18T07:48:28.159924",
     "exception": false,
     "start_time": "2022-04-18T07:48:28.103988",
     "status": "completed"
    },
    "tags": []
   },
   "outputs": [
    {
     "name": "stdout",
     "output_type": "stream",
     "text": [
      "     HomePlanet  CryoSleep    Destination   Age    VIP  RoomService  \\\n",
      "0        Europa      False    TRAPPIST-1e  39.0  False          0.0   \n",
      "1         Earth      False    TRAPPIST-1e  24.0  False        109.0   \n",
      "2        Europa      False    TRAPPIST-1e  58.0   True         43.0   \n",
      "3        Europa      False    TRAPPIST-1e  33.0  False          0.0   \n",
      "4         Earth      False    TRAPPIST-1e  16.0  False        303.0   \n",
      "...         ...        ...            ...   ...    ...          ...   \n",
      "8688     Europa      False    55 Cancri e  41.0   True          0.0   \n",
      "8689      Earth       True  PSO J318.5-22  18.0  False          0.0   \n",
      "8690      Earth      False    TRAPPIST-1e  26.0  False          0.0   \n",
      "8691     Europa      False    55 Cancri e  32.0  False          0.0   \n",
      "8692     Europa      False    TRAPPIST-1e  44.0  False        126.0   \n",
      "\n",
      "      FoodCourt  ShoppingMall     Spa  VRDeck Side  \n",
      "0           0.0           0.0     0.0     0.0    P  \n",
      "1           9.0          25.0   549.0    44.0    S  \n",
      "2        3576.0           0.0  6715.0    49.0    S  \n",
      "3        1283.0         371.0  3329.0   193.0    S  \n",
      "4          70.0         151.0   565.0     2.0    S  \n",
      "...         ...           ...     ...     ...  ...  \n",
      "8688     6819.0           0.0  1643.0    74.0    P  \n",
      "8689        0.0           0.0     0.0     0.0    S  \n",
      "8690        0.0        1872.0     1.0     0.0    S  \n",
      "8691     1049.0           0.0   353.0  3235.0    S  \n",
      "8692     4688.0           0.0     0.0    12.0    S  \n",
      "\n",
      "[8693 rows x 11 columns]\n",
      "     HomePlanet  CryoSleep    Destination        Age    VIP  RoomService  \\\n",
      "0         Earth       True    TRAPPIST-1e  27.000000  False          0.0   \n",
      "1         Earth      False    TRAPPIST-1e  19.000000  False          0.0   \n",
      "2        Europa       True    55 Cancri e  31.000000  False          0.0   \n",
      "3        Europa      False    TRAPPIST-1e  38.000000  False          0.0   \n",
      "4         Earth      False    TRAPPIST-1e  20.000000  False         10.0   \n",
      "...         ...        ...            ...        ...    ...          ...   \n",
      "4272      Earth       True    TRAPPIST-1e  34.000000  False          0.0   \n",
      "4273      Earth      False    TRAPPIST-1e  42.000000  False          0.0   \n",
      "4274       Mars       True    55 Cancri e  28.658146  False          0.0   \n",
      "4275     Europa      False    55 Cancri e  28.658146  False          0.0   \n",
      "4276      Earth       True  PSO J318.5-22  43.000000  False          0.0   \n",
      "\n",
      "      FoodCourt  ShoppingMall     Spa  VRDeck Side  \n",
      "0           0.0           0.0     0.0     0.0    S  \n",
      "1           9.0           0.0  2823.0     0.0    S  \n",
      "2           0.0           0.0     0.0     0.0    S  \n",
      "3        6652.0           0.0   181.0   585.0    S  \n",
      "4           0.0         635.0     0.0     0.0    S  \n",
      "...         ...           ...     ...     ...  ...  \n",
      "4272        0.0           0.0     0.0     0.0    S  \n",
      "4273      847.0          17.0    10.0   144.0    S  \n",
      "4274        0.0           0.0     0.0     0.0    P  \n",
      "4275     2680.0           0.0     0.0   523.0    P  \n",
      "4276        0.0           0.0     0.0     0.0    S  \n",
      "\n",
      "[4277 rows x 11 columns]\n"
     ]
    }
   ],
   "source": [
    "print(X)\n",
    "print(X_test)"
   ]
  },
  {
   "cell_type": "code",
   "execution_count": 16,
   "id": "e985928b",
   "metadata": {
    "execution": {
     "iopub.execute_input": "2022-04-18T07:48:28.225065Z",
     "iopub.status.busy": "2022-04-18T07:48:28.224528Z",
     "iopub.status.idle": "2022-04-18T07:48:28.235059Z",
     "shell.execute_reply": "2022-04-18T07:48:28.234436Z"
    },
    "papermill": {
     "duration": 0.045138,
     "end_time": "2022-04-18T07:48:28.237103",
     "exception": false,
     "start_time": "2022-04-18T07:48:28.191965",
     "status": "completed"
    },
    "tags": []
   },
   "outputs": [],
   "source": [
    "categorical_cols = X.select_dtypes(include=['object','bool']).columns.tolist()\n",
    "#categorical_cols = X.columns[categorical_feature_mask].tolist()\n",
    "categorical_cols_test = X_test.select_dtypes(include=['object','bool']).columns.tolist()\n",
    "#categorical_cols_test = X_test.columns[categorical_feature_mask_test].tolist()"
   ]
  },
  {
   "cell_type": "code",
   "execution_count": 17,
   "id": "901e7ada",
   "metadata": {
    "execution": {
     "iopub.execute_input": "2022-04-18T07:48:28.300195Z",
     "iopub.status.busy": "2022-04-18T07:48:28.299903Z",
     "iopub.status.idle": "2022-04-18T07:48:28.305401Z",
     "shell.execute_reply": "2022-04-18T07:48:28.304498Z"
    },
    "papermill": {
     "duration": 0.039774,
     "end_time": "2022-04-18T07:48:28.307568",
     "exception": false,
     "start_time": "2022-04-18T07:48:28.267794",
     "status": "completed"
    },
    "tags": []
   },
   "outputs": [
    {
     "data": {
      "text/plain": [
       "['HomePlanet', 'CryoSleep', 'Destination', 'VIP', 'Side']"
      ]
     },
     "execution_count": 17,
     "metadata": {},
     "output_type": "execute_result"
    }
   ],
   "source": [
    "categorical_cols"
   ]
  },
  {
   "cell_type": "code",
   "execution_count": 18,
   "id": "9983afe9",
   "metadata": {
    "execution": {
     "iopub.execute_input": "2022-04-18T07:48:28.372429Z",
     "iopub.status.busy": "2022-04-18T07:48:28.371597Z",
     "iopub.status.idle": "2022-04-18T07:48:28.519282Z",
     "shell.execute_reply": "2022-04-18T07:48:28.518616Z"
    },
    "papermill": {
     "duration": 0.182488,
     "end_time": "2022-04-18T07:48:28.521485",
     "exception": false,
     "start_time": "2022-04-18T07:48:28.338997",
     "status": "completed"
    },
    "tags": []
   },
   "outputs": [],
   "source": [
    "from sklearn.preprocessing import LabelEncoder\n",
    "le = LabelEncoder()"
   ]
  },
  {
   "cell_type": "code",
   "execution_count": 19,
   "id": "4947d050",
   "metadata": {
    "execution": {
     "iopub.execute_input": "2022-04-18T07:48:28.586446Z",
     "iopub.status.busy": "2022-04-18T07:48:28.586158Z",
     "iopub.status.idle": "2022-04-18T07:48:28.606666Z",
     "shell.execute_reply": "2022-04-18T07:48:28.605875Z"
    },
    "papermill": {
     "duration": 0.055599,
     "end_time": "2022-04-18T07:48:28.608786",
     "exception": false,
     "start_time": "2022-04-18T07:48:28.553187",
     "status": "completed"
    },
    "tags": []
   },
   "outputs": [],
   "source": [
    "X[categorical_cols] = X[categorical_cols].apply(lambda col: le.fit_transform(col))\n",
    "X_test[categorical_cols] = X_test[categorical_cols].apply(lambda col: le.fit_transform(col))"
   ]
  },
  {
   "cell_type": "code",
   "execution_count": 20,
   "id": "e1a81c80",
   "metadata": {
    "execution": {
     "iopub.execute_input": "2022-04-18T07:48:28.677315Z",
     "iopub.status.busy": "2022-04-18T07:48:28.676987Z",
     "iopub.status.idle": "2022-04-18T07:48:28.691662Z",
     "shell.execute_reply": "2022-04-18T07:48:28.690775Z"
    },
    "papermill": {
     "duration": 0.050155,
     "end_time": "2022-04-18T07:48:28.693592",
     "exception": false,
     "start_time": "2022-04-18T07:48:28.643437",
     "status": "completed"
    },
    "tags": []
   },
   "outputs": [
    {
     "data": {
      "text/html": [
       "<div>\n",
       "<style scoped>\n",
       "    .dataframe tbody tr th:only-of-type {\n",
       "        vertical-align: middle;\n",
       "    }\n",
       "\n",
       "    .dataframe tbody tr th {\n",
       "        vertical-align: top;\n",
       "    }\n",
       "\n",
       "    .dataframe thead th {\n",
       "        text-align: right;\n",
       "    }\n",
       "</style>\n",
       "<table border=\"1\" class=\"dataframe\">\n",
       "  <thead>\n",
       "    <tr style=\"text-align: right;\">\n",
       "      <th></th>\n",
       "      <th>HomePlanet</th>\n",
       "      <th>CryoSleep</th>\n",
       "      <th>Destination</th>\n",
       "      <th>VIP</th>\n",
       "      <th>Side</th>\n",
       "    </tr>\n",
       "  </thead>\n",
       "  <tbody>\n",
       "    <tr>\n",
       "      <th>0</th>\n",
       "      <td>0</td>\n",
       "      <td>1</td>\n",
       "      <td>2</td>\n",
       "      <td>0</td>\n",
       "      <td>1</td>\n",
       "    </tr>\n",
       "    <tr>\n",
       "      <th>1</th>\n",
       "      <td>0</td>\n",
       "      <td>0</td>\n",
       "      <td>2</td>\n",
       "      <td>0</td>\n",
       "      <td>1</td>\n",
       "    </tr>\n",
       "    <tr>\n",
       "      <th>2</th>\n",
       "      <td>1</td>\n",
       "      <td>1</td>\n",
       "      <td>0</td>\n",
       "      <td>0</td>\n",
       "      <td>1</td>\n",
       "    </tr>\n",
       "    <tr>\n",
       "      <th>3</th>\n",
       "      <td>1</td>\n",
       "      <td>0</td>\n",
       "      <td>2</td>\n",
       "      <td>0</td>\n",
       "      <td>1</td>\n",
       "    </tr>\n",
       "    <tr>\n",
       "      <th>4</th>\n",
       "      <td>0</td>\n",
       "      <td>0</td>\n",
       "      <td>2</td>\n",
       "      <td>0</td>\n",
       "      <td>1</td>\n",
       "    </tr>\n",
       "    <tr>\n",
       "      <th>...</th>\n",
       "      <td>...</td>\n",
       "      <td>...</td>\n",
       "      <td>...</td>\n",
       "      <td>...</td>\n",
       "      <td>...</td>\n",
       "    </tr>\n",
       "    <tr>\n",
       "      <th>4272</th>\n",
       "      <td>0</td>\n",
       "      <td>1</td>\n",
       "      <td>2</td>\n",
       "      <td>0</td>\n",
       "      <td>1</td>\n",
       "    </tr>\n",
       "    <tr>\n",
       "      <th>4273</th>\n",
       "      <td>0</td>\n",
       "      <td>0</td>\n",
       "      <td>2</td>\n",
       "      <td>0</td>\n",
       "      <td>1</td>\n",
       "    </tr>\n",
       "    <tr>\n",
       "      <th>4274</th>\n",
       "      <td>2</td>\n",
       "      <td>1</td>\n",
       "      <td>0</td>\n",
       "      <td>0</td>\n",
       "      <td>0</td>\n",
       "    </tr>\n",
       "    <tr>\n",
       "      <th>4275</th>\n",
       "      <td>1</td>\n",
       "      <td>0</td>\n",
       "      <td>0</td>\n",
       "      <td>0</td>\n",
       "      <td>0</td>\n",
       "    </tr>\n",
       "    <tr>\n",
       "      <th>4276</th>\n",
       "      <td>0</td>\n",
       "      <td>1</td>\n",
       "      <td>1</td>\n",
       "      <td>0</td>\n",
       "      <td>1</td>\n",
       "    </tr>\n",
       "  </tbody>\n",
       "</table>\n",
       "<p>4277 rows × 5 columns</p>\n",
       "</div>"
      ],
      "text/plain": [
       "      HomePlanet  CryoSleep  Destination  VIP  Side\n",
       "0              0          1            2    0     1\n",
       "1              0          0            2    0     1\n",
       "2              1          1            0    0     1\n",
       "3              1          0            2    0     1\n",
       "4              0          0            2    0     1\n",
       "...          ...        ...          ...  ...   ...\n",
       "4272           0          1            2    0     1\n",
       "4273           0          0            2    0     1\n",
       "4274           2          1            0    0     0\n",
       "4275           1          0            0    0     0\n",
       "4276           0          1            1    0     1\n",
       "\n",
       "[4277 rows x 5 columns]"
      ]
     },
     "execution_count": 20,
     "metadata": {},
     "output_type": "execute_result"
    }
   ],
   "source": [
    "X_test[categorical_cols]"
   ]
  },
  {
   "cell_type": "code",
   "execution_count": 21,
   "id": "5b7c8b91",
   "metadata": {
    "execution": {
     "iopub.execute_input": "2022-04-18T07:48:28.759117Z",
     "iopub.status.busy": "2022-04-18T07:48:28.758129Z",
     "iopub.status.idle": "2022-04-18T07:48:28.777957Z",
     "shell.execute_reply": "2022-04-18T07:48:28.777373Z"
    },
    "papermill": {
     "duration": 0.054562,
     "end_time": "2022-04-18T07:48:28.780035",
     "exception": false,
     "start_time": "2022-04-18T07:48:28.725473",
     "status": "completed"
    },
    "tags": []
   },
   "outputs": [
    {
     "data": {
      "text/html": [
       "<div>\n",
       "<style scoped>\n",
       "    .dataframe tbody tr th:only-of-type {\n",
       "        vertical-align: middle;\n",
       "    }\n",
       "\n",
       "    .dataframe tbody tr th {\n",
       "        vertical-align: top;\n",
       "    }\n",
       "\n",
       "    .dataframe thead th {\n",
       "        text-align: right;\n",
       "    }\n",
       "</style>\n",
       "<table border=\"1\" class=\"dataframe\">\n",
       "  <thead>\n",
       "    <tr style=\"text-align: right;\">\n",
       "      <th></th>\n",
       "      <th>HomePlanet</th>\n",
       "      <th>CryoSleep</th>\n",
       "      <th>Destination</th>\n",
       "      <th>Age</th>\n",
       "      <th>VIP</th>\n",
       "      <th>RoomService</th>\n",
       "      <th>FoodCourt</th>\n",
       "      <th>ShoppingMall</th>\n",
       "      <th>Spa</th>\n",
       "      <th>VRDeck</th>\n",
       "      <th>Side</th>\n",
       "    </tr>\n",
       "  </thead>\n",
       "  <tbody>\n",
       "    <tr>\n",
       "      <th>0</th>\n",
       "      <td>0</td>\n",
       "      <td>1</td>\n",
       "      <td>2</td>\n",
       "      <td>27.000000</td>\n",
       "      <td>0</td>\n",
       "      <td>0.0</td>\n",
       "      <td>0.0</td>\n",
       "      <td>0.0</td>\n",
       "      <td>0.0</td>\n",
       "      <td>0.0</td>\n",
       "      <td>1</td>\n",
       "    </tr>\n",
       "    <tr>\n",
       "      <th>1</th>\n",
       "      <td>0</td>\n",
       "      <td>0</td>\n",
       "      <td>2</td>\n",
       "      <td>19.000000</td>\n",
       "      <td>0</td>\n",
       "      <td>0.0</td>\n",
       "      <td>9.0</td>\n",
       "      <td>0.0</td>\n",
       "      <td>2823.0</td>\n",
       "      <td>0.0</td>\n",
       "      <td>1</td>\n",
       "    </tr>\n",
       "    <tr>\n",
       "      <th>2</th>\n",
       "      <td>1</td>\n",
       "      <td>1</td>\n",
       "      <td>0</td>\n",
       "      <td>31.000000</td>\n",
       "      <td>0</td>\n",
       "      <td>0.0</td>\n",
       "      <td>0.0</td>\n",
       "      <td>0.0</td>\n",
       "      <td>0.0</td>\n",
       "      <td>0.0</td>\n",
       "      <td>1</td>\n",
       "    </tr>\n",
       "    <tr>\n",
       "      <th>3</th>\n",
       "      <td>1</td>\n",
       "      <td>0</td>\n",
       "      <td>2</td>\n",
       "      <td>38.000000</td>\n",
       "      <td>0</td>\n",
       "      <td>0.0</td>\n",
       "      <td>6652.0</td>\n",
       "      <td>0.0</td>\n",
       "      <td>181.0</td>\n",
       "      <td>585.0</td>\n",
       "      <td>1</td>\n",
       "    </tr>\n",
       "    <tr>\n",
       "      <th>4</th>\n",
       "      <td>0</td>\n",
       "      <td>0</td>\n",
       "      <td>2</td>\n",
       "      <td>20.000000</td>\n",
       "      <td>0</td>\n",
       "      <td>10.0</td>\n",
       "      <td>0.0</td>\n",
       "      <td>635.0</td>\n",
       "      <td>0.0</td>\n",
       "      <td>0.0</td>\n",
       "      <td>1</td>\n",
       "    </tr>\n",
       "    <tr>\n",
       "      <th>...</th>\n",
       "      <td>...</td>\n",
       "      <td>...</td>\n",
       "      <td>...</td>\n",
       "      <td>...</td>\n",
       "      <td>...</td>\n",
       "      <td>...</td>\n",
       "      <td>...</td>\n",
       "      <td>...</td>\n",
       "      <td>...</td>\n",
       "      <td>...</td>\n",
       "      <td>...</td>\n",
       "    </tr>\n",
       "    <tr>\n",
       "      <th>4272</th>\n",
       "      <td>0</td>\n",
       "      <td>1</td>\n",
       "      <td>2</td>\n",
       "      <td>34.000000</td>\n",
       "      <td>0</td>\n",
       "      <td>0.0</td>\n",
       "      <td>0.0</td>\n",
       "      <td>0.0</td>\n",
       "      <td>0.0</td>\n",
       "      <td>0.0</td>\n",
       "      <td>1</td>\n",
       "    </tr>\n",
       "    <tr>\n",
       "      <th>4273</th>\n",
       "      <td>0</td>\n",
       "      <td>0</td>\n",
       "      <td>2</td>\n",
       "      <td>42.000000</td>\n",
       "      <td>0</td>\n",
       "      <td>0.0</td>\n",
       "      <td>847.0</td>\n",
       "      <td>17.0</td>\n",
       "      <td>10.0</td>\n",
       "      <td>144.0</td>\n",
       "      <td>1</td>\n",
       "    </tr>\n",
       "    <tr>\n",
       "      <th>4274</th>\n",
       "      <td>2</td>\n",
       "      <td>1</td>\n",
       "      <td>0</td>\n",
       "      <td>28.658146</td>\n",
       "      <td>0</td>\n",
       "      <td>0.0</td>\n",
       "      <td>0.0</td>\n",
       "      <td>0.0</td>\n",
       "      <td>0.0</td>\n",
       "      <td>0.0</td>\n",
       "      <td>0</td>\n",
       "    </tr>\n",
       "    <tr>\n",
       "      <th>4275</th>\n",
       "      <td>1</td>\n",
       "      <td>0</td>\n",
       "      <td>0</td>\n",
       "      <td>28.658146</td>\n",
       "      <td>0</td>\n",
       "      <td>0.0</td>\n",
       "      <td>2680.0</td>\n",
       "      <td>0.0</td>\n",
       "      <td>0.0</td>\n",
       "      <td>523.0</td>\n",
       "      <td>0</td>\n",
       "    </tr>\n",
       "    <tr>\n",
       "      <th>4276</th>\n",
       "      <td>0</td>\n",
       "      <td>1</td>\n",
       "      <td>1</td>\n",
       "      <td>43.000000</td>\n",
       "      <td>0</td>\n",
       "      <td>0.0</td>\n",
       "      <td>0.0</td>\n",
       "      <td>0.0</td>\n",
       "      <td>0.0</td>\n",
       "      <td>0.0</td>\n",
       "      <td>1</td>\n",
       "    </tr>\n",
       "  </tbody>\n",
       "</table>\n",
       "<p>4277 rows × 11 columns</p>\n",
       "</div>"
      ],
      "text/plain": [
       "      HomePlanet  CryoSleep  Destination        Age  VIP  RoomService  \\\n",
       "0              0          1            2  27.000000    0          0.0   \n",
       "1              0          0            2  19.000000    0          0.0   \n",
       "2              1          1            0  31.000000    0          0.0   \n",
       "3              1          0            2  38.000000    0          0.0   \n",
       "4              0          0            2  20.000000    0         10.0   \n",
       "...          ...        ...          ...        ...  ...          ...   \n",
       "4272           0          1            2  34.000000    0          0.0   \n",
       "4273           0          0            2  42.000000    0          0.0   \n",
       "4274           2          1            0  28.658146    0          0.0   \n",
       "4275           1          0            0  28.658146    0          0.0   \n",
       "4276           0          1            1  43.000000    0          0.0   \n",
       "\n",
       "      FoodCourt  ShoppingMall     Spa  VRDeck  Side  \n",
       "0           0.0           0.0     0.0     0.0     1  \n",
       "1           9.0           0.0  2823.0     0.0     1  \n",
       "2           0.0           0.0     0.0     0.0     1  \n",
       "3        6652.0           0.0   181.0   585.0     1  \n",
       "4           0.0         635.0     0.0     0.0     1  \n",
       "...         ...           ...     ...     ...   ...  \n",
       "4272        0.0           0.0     0.0     0.0     1  \n",
       "4273      847.0          17.0    10.0   144.0     1  \n",
       "4274        0.0           0.0     0.0     0.0     0  \n",
       "4275     2680.0           0.0     0.0   523.0     0  \n",
       "4276        0.0           0.0     0.0     0.0     1  \n",
       "\n",
       "[4277 rows x 11 columns]"
      ]
     },
     "execution_count": 21,
     "metadata": {},
     "output_type": "execute_result"
    }
   ],
   "source": [
    "X_test"
   ]
  },
  {
   "cell_type": "code",
   "execution_count": 22,
   "id": "edae9626",
   "metadata": {
    "execution": {
     "iopub.execute_input": "2022-04-18T07:48:28.847388Z",
     "iopub.status.busy": "2022-04-18T07:48:28.846616Z",
     "iopub.status.idle": "2022-04-18T07:48:28.849880Z",
     "shell.execute_reply": "2022-04-18T07:48:28.849293Z"
    },
    "papermill": {
     "duration": 0.038647,
     "end_time": "2022-04-18T07:48:28.851695",
     "exception": false,
     "start_time": "2022-04-18T07:48:28.813048",
     "status": "completed"
    },
    "tags": []
   },
   "outputs": [],
   "source": [
    "#from sklearn.preprocessing import OneHotEncoder\n",
    "#ohe = OneHotEncoder() "
   ]
  },
  {
   "cell_type": "code",
   "execution_count": 23,
   "id": "1954ccc6",
   "metadata": {
    "execution": {
     "iopub.execute_input": "2022-04-18T07:48:28.919858Z",
     "iopub.status.busy": "2022-04-18T07:48:28.919352Z",
     "iopub.status.idle": "2022-04-18T07:48:28.922143Z",
     "shell.execute_reply": "2022-04-18T07:48:28.921625Z"
    },
    "papermill": {
     "duration": 0.039749,
     "end_time": "2022-04-18T07:48:28.923831",
     "exception": false,
     "start_time": "2022-04-18T07:48:28.884082",
     "status": "completed"
    },
    "tags": []
   },
   "outputs": [],
   "source": [
    "#X_ohe = pd.DataFrame(ohe.fit_transform(X).toarray())\n",
    "#X_ohe_test = pd.DataFrame(ohe.fit_transform(X_test).toarray())\n"
   ]
  },
  {
   "cell_type": "code",
   "execution_count": 24,
   "id": "b0dbc7a7",
   "metadata": {
    "execution": {
     "iopub.execute_input": "2022-04-18T07:48:28.990017Z",
     "iopub.status.busy": "2022-04-18T07:48:28.989484Z",
     "iopub.status.idle": "2022-04-18T07:48:28.992677Z",
     "shell.execute_reply": "2022-04-18T07:48:28.991897Z"
    },
    "papermill": {
     "duration": 0.038442,
     "end_time": "2022-04-18T07:48:28.994566",
     "exception": false,
     "start_time": "2022-04-18T07:48:28.956124",
     "status": "completed"
    },
    "tags": []
   },
   "outputs": [],
   "source": [
    "#X = X.join(X_ohe)\n",
    "#X"
   ]
  },
  {
   "cell_type": "code",
   "execution_count": 25,
   "id": "45f685c1",
   "metadata": {
    "execution": {
     "iopub.execute_input": "2022-04-18T07:48:29.062874Z",
     "iopub.status.busy": "2022-04-18T07:48:29.062345Z",
     "iopub.status.idle": "2022-04-18T07:48:29.065261Z",
     "shell.execute_reply": "2022-04-18T07:48:29.064712Z"
    },
    "papermill": {
     "duration": 0.039211,
     "end_time": "2022-04-18T07:48:29.067044",
     "exception": false,
     "start_time": "2022-04-18T07:48:29.027833",
     "status": "completed"
    },
    "tags": []
   },
   "outputs": [],
   "source": [
    "#from sklearn.model_selection import train_test_split\n",
    "#X_train, X_test, y_train, y_test = train_test_split(X, y, test_size=0.33, random_state=42)"
   ]
  },
  {
   "cell_type": "code",
   "execution_count": 26,
   "id": "6a8fef73",
   "metadata": {
    "execution": {
     "iopub.execute_input": "2022-04-18T07:48:29.134283Z",
     "iopub.status.busy": "2022-04-18T07:48:29.133748Z",
     "iopub.status.idle": "2022-04-18T07:48:29.397850Z",
     "shell.execute_reply": "2022-04-18T07:48:29.397005Z"
    },
    "papermill": {
     "duration": 0.300563,
     "end_time": "2022-04-18T07:48:29.400247",
     "exception": false,
     "start_time": "2022-04-18T07:48:29.099684",
     "status": "completed"
    },
    "tags": []
   },
   "outputs": [],
   "source": [
    "from sklearn.linear_model import LogisticRegression\n",
    "logReg = LogisticRegression()\n",
    "from sklearn.ensemble import RandomForestRegressor\n",
    "rf = RandomForestRegressor(n_estimators = 2000,random_state = 42)"
   ]
  },
  {
   "cell_type": "code",
   "execution_count": 27,
   "id": "85465758",
   "metadata": {
    "execution": {
     "iopub.execute_input": "2022-04-18T07:48:29.467497Z",
     "iopub.status.busy": "2022-04-18T07:48:29.467184Z",
     "iopub.status.idle": "2022-04-18T07:48:29.486739Z",
     "shell.execute_reply": "2022-04-18T07:48:29.485356Z"
    },
    "papermill": {
     "duration": 0.055074,
     "end_time": "2022-04-18T07:48:29.488877",
     "exception": false,
     "start_time": "2022-04-18T07:48:29.433803",
     "status": "completed"
    },
    "tags": []
   },
   "outputs": [
    {
     "name": "stdout",
     "output_type": "stream",
     "text": [
      "0.0\n",
      "0.0\n",
      "0.0\n",
      "0.0\n",
      "0.0\n",
      "0.0\n",
      "0.0\n",
      "0.0\n",
      "0.0\n",
      "0.0\n",
      "0.0\n"
     ]
    }
   ],
   "source": [
    "X.iloc[:,5:10] = X.iloc[:,5:10].apply(lambda x: (x-x.mean())/ x.std(), axis=0)\n",
    "for i in X.columns:\n",
    "    print(X[i].isnull().sum()/len(X)*100)"
   ]
  },
  {
   "cell_type": "code",
   "execution_count": 28,
   "id": "45695abe",
   "metadata": {
    "execution": {
     "iopub.execute_input": "2022-04-18T07:48:29.556245Z",
     "iopub.status.busy": "2022-04-18T07:48:29.555292Z",
     "iopub.status.idle": "2022-04-18T07:48:29.565442Z",
     "shell.execute_reply": "2022-04-18T07:48:29.564751Z"
    },
    "papermill": {
     "duration": 0.045869,
     "end_time": "2022-04-18T07:48:29.567532",
     "exception": false,
     "start_time": "2022-04-18T07:48:29.521663",
     "status": "completed"
    },
    "tags": []
   },
   "outputs": [],
   "source": [
    "X_test.iloc[:,5:10] = X_test.iloc[:,5:10].apply(lambda x: (x-x.mean())/ x.std(), axis=0)"
   ]
  },
  {
   "cell_type": "code",
   "execution_count": 29,
   "id": "d318582e",
   "metadata": {
    "execution": {
     "iopub.execute_input": "2022-04-18T07:48:29.634601Z",
     "iopub.status.busy": "2022-04-18T07:48:29.634037Z",
     "iopub.status.idle": "2022-04-18T07:48:29.651446Z",
     "shell.execute_reply": "2022-04-18T07:48:29.650575Z"
    },
    "papermill": {
     "duration": 0.053428,
     "end_time": "2022-04-18T07:48:29.653417",
     "exception": false,
     "start_time": "2022-04-18T07:48:29.599989",
     "status": "completed"
    },
    "tags": []
   },
   "outputs": [
    {
     "data": {
      "text/html": [
       "<div>\n",
       "<style scoped>\n",
       "    .dataframe tbody tr th:only-of-type {\n",
       "        vertical-align: middle;\n",
       "    }\n",
       "\n",
       "    .dataframe tbody tr th {\n",
       "        vertical-align: top;\n",
       "    }\n",
       "\n",
       "    .dataframe thead th {\n",
       "        text-align: right;\n",
       "    }\n",
       "</style>\n",
       "<table border=\"1\" class=\"dataframe\">\n",
       "  <thead>\n",
       "    <tr style=\"text-align: right;\">\n",
       "      <th></th>\n",
       "      <th>HomePlanet</th>\n",
       "      <th>CryoSleep</th>\n",
       "      <th>Destination</th>\n",
       "      <th>Age</th>\n",
       "      <th>VIP</th>\n",
       "      <th>RoomService</th>\n",
       "      <th>FoodCourt</th>\n",
       "      <th>ShoppingMall</th>\n",
       "      <th>Spa</th>\n",
       "      <th>VRDeck</th>\n",
       "      <th>Side</th>\n",
       "    </tr>\n",
       "  </thead>\n",
       "  <tbody>\n",
       "    <tr>\n",
       "      <th>0</th>\n",
       "      <td>0</td>\n",
       "      <td>1</td>\n",
       "      <td>2</td>\n",
       "      <td>27.000000</td>\n",
       "      <td>0</td>\n",
       "      <td>-0.364737</td>\n",
       "      <td>-0.291318</td>\n",
       "      <td>-0.319822</td>\n",
       "      <td>-0.274526</td>\n",
       "      <td>-0.251531</td>\n",
       "      <td>1</td>\n",
       "    </tr>\n",
       "    <tr>\n",
       "      <th>1</th>\n",
       "      <td>0</td>\n",
       "      <td>0</td>\n",
       "      <td>2</td>\n",
       "      <td>19.000000</td>\n",
       "      <td>0</td>\n",
       "      <td>-0.364737</td>\n",
       "      <td>-0.285352</td>\n",
       "      <td>-0.319822</td>\n",
       "      <td>2.282741</td>\n",
       "      <td>-0.251531</td>\n",
       "      <td>1</td>\n",
       "    </tr>\n",
       "    <tr>\n",
       "      <th>2</th>\n",
       "      <td>1</td>\n",
       "      <td>1</td>\n",
       "      <td>0</td>\n",
       "      <td>31.000000</td>\n",
       "      <td>0</td>\n",
       "      <td>-0.364737</td>\n",
       "      <td>-0.291318</td>\n",
       "      <td>-0.319822</td>\n",
       "      <td>-0.274526</td>\n",
       "      <td>-0.251531</td>\n",
       "      <td>1</td>\n",
       "    </tr>\n",
       "    <tr>\n",
       "      <th>3</th>\n",
       "      <td>1</td>\n",
       "      <td>0</td>\n",
       "      <td>2</td>\n",
       "      <td>38.000000</td>\n",
       "      <td>0</td>\n",
       "      <td>-0.364737</td>\n",
       "      <td>4.118042</td>\n",
       "      <td>-0.319822</td>\n",
       "      <td>-0.110563</td>\n",
       "      <td>0.222048</td>\n",
       "      <td>1</td>\n",
       "    </tr>\n",
       "    <tr>\n",
       "      <th>4</th>\n",
       "      <td>0</td>\n",
       "      <td>0</td>\n",
       "      <td>2</td>\n",
       "      <td>20.000000</td>\n",
       "      <td>0</td>\n",
       "      <td>-0.348102</td>\n",
       "      <td>-0.291318</td>\n",
       "      <td>0.825649</td>\n",
       "      <td>-0.274526</td>\n",
       "      <td>-0.251531</td>\n",
       "      <td>1</td>\n",
       "    </tr>\n",
       "    <tr>\n",
       "      <th>...</th>\n",
       "      <td>...</td>\n",
       "      <td>...</td>\n",
       "      <td>...</td>\n",
       "      <td>...</td>\n",
       "      <td>...</td>\n",
       "      <td>...</td>\n",
       "      <td>...</td>\n",
       "      <td>...</td>\n",
       "      <td>...</td>\n",
       "      <td>...</td>\n",
       "      <td>...</td>\n",
       "    </tr>\n",
       "    <tr>\n",
       "      <th>4272</th>\n",
       "      <td>0</td>\n",
       "      <td>1</td>\n",
       "      <td>2</td>\n",
       "      <td>34.000000</td>\n",
       "      <td>0</td>\n",
       "      <td>-0.364737</td>\n",
       "      <td>-0.291318</td>\n",
       "      <td>-0.319822</td>\n",
       "      <td>-0.274526</td>\n",
       "      <td>-0.251531</td>\n",
       "      <td>1</td>\n",
       "    </tr>\n",
       "    <tr>\n",
       "      <th>4273</th>\n",
       "      <td>0</td>\n",
       "      <td>0</td>\n",
       "      <td>2</td>\n",
       "      <td>42.000000</td>\n",
       "      <td>0</td>\n",
       "      <td>-0.364737</td>\n",
       "      <td>0.270127</td>\n",
       "      <td>-0.289156</td>\n",
       "      <td>-0.265467</td>\n",
       "      <td>-0.134958</td>\n",
       "      <td>1</td>\n",
       "    </tr>\n",
       "    <tr>\n",
       "      <th>4274</th>\n",
       "      <td>2</td>\n",
       "      <td>1</td>\n",
       "      <td>0</td>\n",
       "      <td>28.658146</td>\n",
       "      <td>0</td>\n",
       "      <td>-0.364737</td>\n",
       "      <td>-0.291318</td>\n",
       "      <td>-0.319822</td>\n",
       "      <td>-0.274526</td>\n",
       "      <td>-0.251531</td>\n",
       "      <td>0</td>\n",
       "    </tr>\n",
       "    <tr>\n",
       "      <th>4275</th>\n",
       "      <td>1</td>\n",
       "      <td>0</td>\n",
       "      <td>0</td>\n",
       "      <td>28.658146</td>\n",
       "      <td>0</td>\n",
       "      <td>-0.364737</td>\n",
       "      <td>1.485153</td>\n",
       "      <td>-0.319822</td>\n",
       "      <td>-0.274526</td>\n",
       "      <td>0.171856</td>\n",
       "      <td>0</td>\n",
       "    </tr>\n",
       "    <tr>\n",
       "      <th>4276</th>\n",
       "      <td>0</td>\n",
       "      <td>1</td>\n",
       "      <td>1</td>\n",
       "      <td>43.000000</td>\n",
       "      <td>0</td>\n",
       "      <td>-0.364737</td>\n",
       "      <td>-0.291318</td>\n",
       "      <td>-0.319822</td>\n",
       "      <td>-0.274526</td>\n",
       "      <td>-0.251531</td>\n",
       "      <td>1</td>\n",
       "    </tr>\n",
       "  </tbody>\n",
       "</table>\n",
       "<p>4277 rows × 11 columns</p>\n",
       "</div>"
      ],
      "text/plain": [
       "      HomePlanet  CryoSleep  Destination        Age  VIP  RoomService  \\\n",
       "0              0          1            2  27.000000    0    -0.364737   \n",
       "1              0          0            2  19.000000    0    -0.364737   \n",
       "2              1          1            0  31.000000    0    -0.364737   \n",
       "3              1          0            2  38.000000    0    -0.364737   \n",
       "4              0          0            2  20.000000    0    -0.348102   \n",
       "...          ...        ...          ...        ...  ...          ...   \n",
       "4272           0          1            2  34.000000    0    -0.364737   \n",
       "4273           0          0            2  42.000000    0    -0.364737   \n",
       "4274           2          1            0  28.658146    0    -0.364737   \n",
       "4275           1          0            0  28.658146    0    -0.364737   \n",
       "4276           0          1            1  43.000000    0    -0.364737   \n",
       "\n",
       "      FoodCourt  ShoppingMall       Spa    VRDeck  Side  \n",
       "0     -0.291318     -0.319822 -0.274526 -0.251531     1  \n",
       "1     -0.285352     -0.319822  2.282741 -0.251531     1  \n",
       "2     -0.291318     -0.319822 -0.274526 -0.251531     1  \n",
       "3      4.118042     -0.319822 -0.110563  0.222048     1  \n",
       "4     -0.291318      0.825649 -0.274526 -0.251531     1  \n",
       "...         ...           ...       ...       ...   ...  \n",
       "4272  -0.291318     -0.319822 -0.274526 -0.251531     1  \n",
       "4273   0.270127     -0.289156 -0.265467 -0.134958     1  \n",
       "4274  -0.291318     -0.319822 -0.274526 -0.251531     0  \n",
       "4275   1.485153     -0.319822 -0.274526  0.171856     0  \n",
       "4276  -0.291318     -0.319822 -0.274526 -0.251531     1  \n",
       "\n",
       "[4277 rows x 11 columns]"
      ]
     },
     "execution_count": 29,
     "metadata": {},
     "output_type": "execute_result"
    }
   ],
   "source": [
    "X_test"
   ]
  },
  {
   "cell_type": "code",
   "execution_count": 30,
   "id": "73c1e967",
   "metadata": {
    "execution": {
     "iopub.execute_input": "2022-04-18T07:48:29.723365Z",
     "iopub.status.busy": "2022-04-18T07:48:29.722825Z",
     "iopub.status.idle": "2022-04-18T07:48:29.726335Z",
     "shell.execute_reply": "2022-04-18T07:48:29.725772Z"
    },
    "papermill": {
     "duration": 0.039616,
     "end_time": "2022-04-18T07:48:29.728082",
     "exception": false,
     "start_time": "2022-04-18T07:48:29.688466",
     "status": "completed"
    },
    "tags": []
   },
   "outputs": [],
   "source": [
    "#logReg.fit(X, y)"
   ]
  },
  {
   "cell_type": "code",
   "execution_count": 31,
   "id": "4746ad20",
   "metadata": {
    "execution": {
     "iopub.execute_input": "2022-04-18T07:48:29.798202Z",
     "iopub.status.busy": "2022-04-18T07:48:29.797627Z",
     "iopub.status.idle": "2022-04-18T07:49:10.896835Z",
     "shell.execute_reply": "2022-04-18T07:49:10.895972Z"
    },
    "papermill": {
     "duration": 41.169808,
     "end_time": "2022-04-18T07:49:10.932165",
     "exception": false,
     "start_time": "2022-04-18T07:48:29.762357",
     "status": "completed"
    },
    "tags": []
   },
   "outputs": [
    {
     "data": {
      "text/plain": [
       "RandomForestRegressor(n_estimators=2000, random_state=42)"
      ]
     },
     "execution_count": 31,
     "metadata": {},
     "output_type": "execute_result"
    }
   ],
   "source": [
    "rf.fit(X, y)"
   ]
  },
  {
   "cell_type": "code",
   "execution_count": 32,
   "id": "5e70e4bc",
   "metadata": {
    "execution": {
     "iopub.execute_input": "2022-04-18T07:49:11.003536Z",
     "iopub.status.busy": "2022-04-18T07:49:11.003000Z",
     "iopub.status.idle": "2022-04-18T07:49:13.639830Z",
     "shell.execute_reply": "2022-04-18T07:49:13.638838Z"
    },
    "papermill": {
     "duration": 2.674271,
     "end_time": "2022-04-18T07:49:13.642073",
     "exception": false,
     "start_time": "2022-04-18T07:49:10.967802",
     "status": "completed"
    },
    "tags": []
   },
   "outputs": [
    {
     "data": {
      "text/plain": [
       "0.8047685329723897"
      ]
     },
     "execution_count": 32,
     "metadata": {},
     "output_type": "execute_result"
    }
   ],
   "source": [
    "score = rf.score(X, y)\n",
    "score"
   ]
  },
  {
   "cell_type": "code",
   "execution_count": 33,
   "id": "67fd0ac5",
   "metadata": {
    "execution": {
     "iopub.execute_input": "2022-04-18T07:49:13.712672Z",
     "iopub.status.busy": "2022-04-18T07:49:13.712202Z",
     "iopub.status.idle": "2022-04-18T07:49:15.092459Z",
     "shell.execute_reply": "2022-04-18T07:49:15.091589Z"
    },
    "papermill": {
     "duration": 1.418675,
     "end_time": "2022-04-18T07:49:15.094907",
     "exception": false,
     "start_time": "2022-04-18T07:49:13.676232",
     "status": "completed"
    },
    "tags": []
   },
   "outputs": [],
   "source": [
    "predictions = rf.predict(X_test)"
   ]
  },
  {
   "cell_type": "code",
   "execution_count": 34,
   "id": "3754c318",
   "metadata": {
    "execution": {
     "iopub.execute_input": "2022-04-18T07:49:15.164403Z",
     "iopub.status.busy": "2022-04-18T07:49:15.164084Z",
     "iopub.status.idle": "2022-04-18T07:49:15.169371Z",
     "shell.execute_reply": "2022-04-18T07:49:15.168705Z"
    },
    "papermill": {
     "duration": 0.042774,
     "end_time": "2022-04-18T07:49:15.171655",
     "exception": false,
     "start_time": "2022-04-18T07:49:15.128881",
     "status": "completed"
    },
    "tags": []
   },
   "outputs": [],
   "source": [
    "pred = []\n",
    "for i in predictions:\n",
    "    if i<0.5:\n",
    "        pred.append('False')\n",
    "    else:\n",
    "        pred.append('True')"
   ]
  },
  {
   "cell_type": "code",
   "execution_count": 35,
   "id": "bca96dbf",
   "metadata": {
    "execution": {
     "iopub.execute_input": "2022-04-18T07:49:15.241928Z",
     "iopub.status.busy": "2022-04-18T07:49:15.241456Z",
     "iopub.status.idle": "2022-04-18T07:49:15.253851Z",
     "shell.execute_reply": "2022-04-18T07:49:15.253165Z"
    },
    "papermill": {
     "duration": 0.049427,
     "end_time": "2022-04-18T07:49:15.255940",
     "exception": false,
     "start_time": "2022-04-18T07:49:15.206513",
     "status": "completed"
    },
    "tags": []
   },
   "outputs": [],
   "source": [
    "df = pd.DataFrame(pred)\n",
    "df.to_csv('result.csv')"
   ]
  },
  {
   "cell_type": "code",
   "execution_count": 36,
   "id": "dd8db4da",
   "metadata": {
    "execution": {
     "iopub.execute_input": "2022-04-18T07:49:15.326165Z",
     "iopub.status.busy": "2022-04-18T07:49:15.325888Z",
     "iopub.status.idle": "2022-04-18T07:49:15.328910Z",
     "shell.execute_reply": "2022-04-18T07:49:15.328268Z"
    },
    "papermill": {
     "duration": 0.039932,
     "end_time": "2022-04-18T07:49:15.330510",
     "exception": false,
     "start_time": "2022-04-18T07:49:15.290578",
     "status": "completed"
    },
    "tags": []
   },
   "outputs": [],
   "source": [
    "#score = logReg.score(X, y)\n",
    "#print(score)"
   ]
  },
  {
   "cell_type": "code",
   "execution_count": 37,
   "id": "3bff8989",
   "metadata": {
    "execution": {
     "iopub.execute_input": "2022-04-18T07:49:15.400402Z",
     "iopub.status.busy": "2022-04-18T07:49:15.399821Z",
     "iopub.status.idle": "2022-04-18T07:49:15.402852Z",
     "shell.execute_reply": "2022-04-18T07:49:15.402234Z"
    },
    "papermill": {
     "duration": 0.03992,
     "end_time": "2022-04-18T07:49:15.404530",
     "exception": false,
     "start_time": "2022-04-18T07:49:15.364610",
     "status": "completed"
    },
    "tags": []
   },
   "outputs": [],
   "source": [
    "#df = pd.DataFrame(logReg.predict(X_test))\n",
    "#df"
   ]
  },
  {
   "cell_type": "code",
   "execution_count": 38,
   "id": "95df04f3",
   "metadata": {
    "execution": {
     "iopub.execute_input": "2022-04-18T07:49:15.473931Z",
     "iopub.status.busy": "2022-04-18T07:49:15.473416Z",
     "iopub.status.idle": "2022-04-18T07:49:15.476601Z",
     "shell.execute_reply": "2022-04-18T07:49:15.475885Z"
    },
    "papermill": {
     "duration": 0.040008,
     "end_time": "2022-04-18T07:49:15.478237",
     "exception": false,
     "start_time": "2022-04-18T07:49:15.438229",
     "status": "completed"
    },
    "tags": []
   },
   "outputs": [],
   "source": [
    "#df.to_csv('result.csv')"
   ]
  },
  {
   "cell_type": "code",
   "execution_count": null,
   "id": "32b11a14",
   "metadata": {
    "papermill": {
     "duration": 0.033745,
     "end_time": "2022-04-18T07:49:15.545819",
     "exception": false,
     "start_time": "2022-04-18T07:49:15.512074",
     "status": "completed"
    },
    "tags": []
   },
   "outputs": [],
   "source": []
  }
 ],
 "metadata": {
  "kernelspec": {
   "display_name": "Python 3",
   "language": "python",
   "name": "python3"
  },
  "language_info": {
   "codemirror_mode": {
    "name": "ipython",
    "version": 3
   },
   "file_extension": ".py",
   "mimetype": "text/x-python",
   "name": "python",
   "nbconvert_exporter": "python",
   "pygments_lexer": "ipython3",
   "version": "3.7.12"
  },
  "papermill": {
   "default_parameters": {},
   "duration": 59.281564,
   "end_time": "2022-04-18T07:49:16.408326",
   "environment_variables": {},
   "exception": null,
   "input_path": "__notebook__.ipynb",
   "output_path": "__notebook__.ipynb",
   "parameters": {},
   "start_time": "2022-04-18T07:48:17.126762",
   "version": "2.3.4"
  }
 },
 "nbformat": 4,
 "nbformat_minor": 5
}
