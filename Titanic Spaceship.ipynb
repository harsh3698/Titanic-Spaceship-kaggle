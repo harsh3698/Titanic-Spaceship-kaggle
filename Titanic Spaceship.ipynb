{
 "cells": [
  {
   "cell_type": "code",
   "execution_count": 1,
   "id": "ad6b3579",
   "metadata": {
    "_cell_guid": "b1076dfc-b9ad-4769-8c92-a6c4dae69d19",
    "_uuid": "8f2839f25d086af736a60e9eeb907d3b93b6e0e5",
    "execution": {
     "iopub.execute_input": "2022-04-18T07:03:17.486151Z",
     "iopub.status.busy": "2022-04-18T07:03:17.485574Z",
     "iopub.status.idle": "2022-04-18T07:03:18.641858Z",
     "shell.execute_reply": "2022-04-18T07:03:18.640930Z"
    },
    "papermill": {
     "duration": 1.187133,
     "end_time": "2022-04-18T07:03:18.644222",
     "exception": false,
     "start_time": "2022-04-18T07:03:17.457089",
     "status": "completed"
    },
    "tags": []
   },
   "outputs": [
    {
     "name": "stdout",
     "output_type": "stream",
     "text": [
      "/kaggle/input/spaceship-titanic/sample_submission.csv\n",
      "/kaggle/input/spaceship-titanic/train.csv\n",
      "/kaggle/input/spaceship-titanic/test.csv\n"
     ]
    }
   ],
   "source": [
    "import numpy as np\n",
    "import pandas as pd \n",
    "import matplotlib.pyplot as plt\n",
    "import os\n",
    "import seaborn as sns\n",
    "for dirname, _, filenames in os.walk('/kaggle/input'):\n",
    "    for filename in filenames:\n",
    "        print(os.path.join(dirname, filename))"
   ]
  },
  {
   "cell_type": "code",
   "execution_count": 2,
   "id": "21244f7d",
   "metadata": {
    "execution": {
     "iopub.execute_input": "2022-04-18T07:03:18.696962Z",
     "iopub.status.busy": "2022-04-18T07:03:18.696672Z",
     "iopub.status.idle": "2022-04-18T07:03:18.767424Z",
     "shell.execute_reply": "2022-04-18T07:03:18.766616Z"
    },
    "papermill": {
     "duration": 0.099289,
     "end_time": "2022-04-18T07:03:18.769703",
     "exception": false,
     "start_time": "2022-04-18T07:03:18.670414",
     "status": "completed"
    },
    "tags": []
   },
   "outputs": [],
   "source": [
    "dataset = pd.read_csv('/kaggle/input/spaceship-titanic/train.csv')\n",
    "dataset_test = pd.read_csv('../input/spaceship-titanic/test.csv')"
   ]
  },
  {
   "cell_type": "code",
   "execution_count": 3,
   "id": "ccdd34e7",
   "metadata": {
    "execution": {
     "iopub.execute_input": "2022-04-18T07:03:18.822752Z",
     "iopub.status.busy": "2022-04-18T07:03:18.822429Z",
     "iopub.status.idle": "2022-04-18T07:03:18.854633Z",
     "shell.execute_reply": "2022-04-18T07:03:18.853966Z"
    },
    "papermill": {
     "duration": 0.061091,
     "end_time": "2022-04-18T07:03:18.857076",
     "exception": false,
     "start_time": "2022-04-18T07:03:18.795985",
     "status": "completed"
    },
    "tags": []
   },
   "outputs": [
    {
     "name": "stdout",
     "output_type": "stream",
     "text": [
      "<class 'pandas.core.frame.DataFrame'>\n",
      "RangeIndex: 8693 entries, 0 to 8692\n",
      "Data columns (total 14 columns):\n",
      " #   Column        Non-Null Count  Dtype  \n",
      "---  ------        --------------  -----  \n",
      " 0   PassengerId   8693 non-null   object \n",
      " 1   HomePlanet    8492 non-null   object \n",
      " 2   CryoSleep     8476 non-null   object \n",
      " 3   Cabin         8494 non-null   object \n",
      " 4   Destination   8511 non-null   object \n",
      " 5   Age           8514 non-null   float64\n",
      " 6   VIP           8490 non-null   object \n",
      " 7   RoomService   8512 non-null   float64\n",
      " 8   FoodCourt     8510 non-null   float64\n",
      " 9   ShoppingMall  8485 non-null   float64\n",
      " 10  Spa           8510 non-null   float64\n",
      " 11  VRDeck        8505 non-null   float64\n",
      " 12  Name          8493 non-null   object \n",
      " 13  Transported   8693 non-null   bool   \n",
      "dtypes: bool(1), float64(6), object(7)\n",
      "memory usage: 891.5+ KB\n"
     ]
    }
   ],
   "source": [
    "dataset.info()"
   ]
  },
  {
   "cell_type": "code",
   "execution_count": 4,
   "id": "50aec026",
   "metadata": {
    "execution": {
     "iopub.execute_input": "2022-04-18T07:03:18.910982Z",
     "iopub.status.busy": "2022-04-18T07:03:18.910412Z",
     "iopub.status.idle": "2022-04-18T07:03:18.924159Z",
     "shell.execute_reply": "2022-04-18T07:03:18.922595Z"
    },
    "papermill": {
     "duration": 0.043433,
     "end_time": "2022-04-18T07:03:18.926350",
     "exception": false,
     "start_time": "2022-04-18T07:03:18.882917",
     "status": "completed"
    },
    "tags": []
   },
   "outputs": [
    {
     "name": "stdout",
     "output_type": "stream",
     "text": [
      "<class 'pandas.core.frame.DataFrame'>\n",
      "RangeIndex: 4277 entries, 0 to 4276\n",
      "Data columns (total 13 columns):\n",
      " #   Column        Non-Null Count  Dtype  \n",
      "---  ------        --------------  -----  \n",
      " 0   PassengerId   4277 non-null   object \n",
      " 1   HomePlanet    4190 non-null   object \n",
      " 2   CryoSleep     4184 non-null   object \n",
      " 3   Cabin         4177 non-null   object \n",
      " 4   Destination   4185 non-null   object \n",
      " 5   Age           4186 non-null   float64\n",
      " 6   VIP           4184 non-null   object \n",
      " 7   RoomService   4195 non-null   float64\n",
      " 8   FoodCourt     4171 non-null   float64\n",
      " 9   ShoppingMall  4179 non-null   float64\n",
      " 10  Spa           4176 non-null   float64\n",
      " 11  VRDeck        4197 non-null   float64\n",
      " 12  Name          4183 non-null   object \n",
      "dtypes: float64(6), object(7)\n",
      "memory usage: 434.5+ KB\n"
     ]
    }
   ],
   "source": [
    "dataset_test.info()"
   ]
  },
  {
   "cell_type": "code",
   "execution_count": 5,
   "id": "6de7f99e",
   "metadata": {
    "execution": {
     "iopub.execute_input": "2022-04-18T07:03:18.982417Z",
     "iopub.status.busy": "2022-04-18T07:03:18.981638Z",
     "iopub.status.idle": "2022-04-18T07:03:18.989283Z",
     "shell.execute_reply": "2022-04-18T07:03:18.988306Z"
    },
    "papermill": {
     "duration": 0.038621,
     "end_time": "2022-04-18T07:03:18.991580",
     "exception": false,
     "start_time": "2022-04-18T07:03:18.952959",
     "status": "completed"
    },
    "tags": []
   },
   "outputs": [],
   "source": [
    "X = dataset.iloc[:,:-1]\n",
    "y = dataset.iloc[:,-1]"
   ]
  },
  {
   "cell_type": "code",
   "execution_count": 6,
   "id": "a0776b69",
   "metadata": {
    "execution": {
     "iopub.execute_input": "2022-04-18T07:03:19.047382Z",
     "iopub.status.busy": "2022-04-18T07:03:19.047077Z",
     "iopub.status.idle": "2022-04-18T07:03:19.058201Z",
     "shell.execute_reply": "2022-04-18T07:03:19.057579Z"
    },
    "papermill": {
     "duration": 0.041027,
     "end_time": "2022-04-18T07:03:19.059890",
     "exception": false,
     "start_time": "2022-04-18T07:03:19.018863",
     "status": "completed"
    },
    "tags": []
   },
   "outputs": [
    {
     "data": {
      "text/plain": [
       "Index(['HomePlanet', 'CryoSleep', 'Cabin', 'Destination', 'Age', 'VIP',\n",
       "       'RoomService', 'FoodCourt', 'ShoppingMall', 'Spa', 'VRDeck'],\n",
       "      dtype='object')"
      ]
     },
     "execution_count": 6,
     "metadata": {},
     "output_type": "execute_result"
    }
   ],
   "source": [
    "X_test = dataset_test\n",
    "X = X.drop(columns = [\"PassengerId\",\"Name\"])\n",
    "X_test = X_test.drop(columns = [\"PassengerId\",\"Name\"])\n",
    "X.columns"
   ]
  },
  {
   "cell_type": "code",
   "execution_count": 7,
   "id": "4d5368c8",
   "metadata": {
    "execution": {
     "iopub.execute_input": "2022-04-18T07:03:19.126893Z",
     "iopub.status.busy": "2022-04-18T07:03:19.126327Z",
     "iopub.status.idle": "2022-04-18T07:03:19.132980Z",
     "shell.execute_reply": "2022-04-18T07:03:19.132033Z"
    },
    "papermill": {
     "duration": 0.043426,
     "end_time": "2022-04-18T07:03:19.136530",
     "exception": false,
     "start_time": "2022-04-18T07:03:19.093104",
     "status": "completed"
    },
    "tags": []
   },
   "outputs": [
    {
     "data": {
      "text/plain": [
       "Index(['HomePlanet', 'CryoSleep', 'Cabin', 'Destination', 'Age', 'VIP',\n",
       "       'RoomService', 'FoodCourt', 'ShoppingMall', 'Spa', 'VRDeck'],\n",
       "      dtype='object')"
      ]
     },
     "execution_count": 7,
     "metadata": {},
     "output_type": "execute_result"
    }
   ],
   "source": [
    "X_test.columns"
   ]
  },
  {
   "cell_type": "code",
   "execution_count": 8,
   "id": "7f6187c6",
   "metadata": {
    "execution": {
     "iopub.execute_input": "2022-04-18T07:03:19.200297Z",
     "iopub.status.busy": "2022-04-18T07:03:19.199871Z",
     "iopub.status.idle": "2022-04-18T07:03:19.212962Z",
     "shell.execute_reply": "2022-04-18T07:03:19.211841Z"
    },
    "papermill": {
     "duration": 0.043498,
     "end_time": "2022-04-18T07:03:19.215235",
     "exception": false,
     "start_time": "2022-04-18T07:03:19.171737",
     "status": "completed"
    },
    "tags": []
   },
   "outputs": [
    {
     "name": "stdout",
     "output_type": "stream",
     "text": [
      "HomePlanet      2.312205\n",
      "CryoSleep       2.496261\n",
      "Cabin           2.289198\n",
      "Destination     2.093639\n",
      "Age             2.059128\n",
      "VIP             2.335212\n",
      "RoomService     2.082135\n",
      "FoodCourt       2.105142\n",
      "ShoppingMall    2.392730\n",
      "Spa             2.105142\n",
      "VRDeck          2.162660\n",
      "dtype: float64\n",
      "HomePlanet      1.000805\n",
      "CryoSleep       1.069826\n",
      "Cabin           1.150351\n",
      "Destination     1.058323\n",
      "Age             1.046819\n",
      "VIP             1.069826\n",
      "RoomService     0.943288\n",
      "FoodCourt       1.219372\n",
      "ShoppingMall    1.127344\n",
      "Spa             1.161854\n",
      "VRDeck          0.920281\n",
      "dtype: float64\n"
     ]
    }
   ],
   "source": [
    "print(X.isnull().sum()/len(X)*100)\n",
    "print(X_test.isnull().sum()/len(X)*100)"
   ]
  },
  {
   "cell_type": "code",
   "execution_count": 9,
   "id": "694db810",
   "metadata": {
    "execution": {
     "iopub.execute_input": "2022-04-18T07:03:19.270523Z",
     "iopub.status.busy": "2022-04-18T07:03:19.269982Z",
     "iopub.status.idle": "2022-04-18T07:03:19.309776Z",
     "shell.execute_reply": "2022-04-18T07:03:19.308420Z"
    },
    "papermill": {
     "duration": 0.071507,
     "end_time": "2022-04-18T07:03:19.313574",
     "exception": false,
     "start_time": "2022-04-18T07:03:19.242067",
     "status": "completed"
    },
    "tags": []
   },
   "outputs": [
    {
     "name": "stdout",
     "output_type": "stream",
     "text": [
      "HomePlanet      0.0\n",
      "CryoSleep       0.0\n",
      "Cabin           0.0\n",
      "Destination     0.0\n",
      "Age             0.0\n",
      "VIP             0.0\n",
      "RoomService     0.0\n",
      "FoodCourt       0.0\n",
      "ShoppingMall    0.0\n",
      "Spa             0.0\n",
      "VRDeck          0.0\n",
      "dtype: float64\n",
      "HomePlanet      0.0\n",
      "CryoSleep       0.0\n",
      "Cabin           0.0\n",
      "Destination     0.0\n",
      "Age             0.0\n",
      "VIP             0.0\n",
      "RoomService     0.0\n",
      "FoodCourt       0.0\n",
      "ShoppingMall    0.0\n",
      "Spa             0.0\n",
      "VRDeck          0.0\n",
      "dtype: float64\n"
     ]
    }
   ],
   "source": [
    "for i in X.columns:\n",
    "    if X[i].dtype not in ['int64','float64']:\n",
    "        X[i] = X[i].ffill().bfill()\n",
    "    else:\n",
    "        X[i] = X[i].fillna(X[i].mean())\n",
    "print(X.isnull().sum()/len(X)*100)\n",
    "for i in X_test.columns:\n",
    "    if X_test[i].dtype not in ['int64','float64']:\n",
    "        X_test[i] = X_test[i].ffill().bfill()\n",
    "    else:\n",
    "        X_test[i] = X_test[i].fillna(X_test[i].mean())\n",
    "print(X_test.isnull().sum()/len(X_test)*100)"
   ]
  },
  {
   "cell_type": "code",
   "execution_count": 10,
   "id": "227c8eb2",
   "metadata": {
    "execution": {
     "iopub.execute_input": "2022-04-18T07:03:19.369810Z",
     "iopub.status.busy": "2022-04-18T07:03:19.369559Z",
     "iopub.status.idle": "2022-04-18T07:03:19.416479Z",
     "shell.execute_reply": "2022-04-18T07:03:19.415840Z"
    },
    "papermill": {
     "duration": 0.077798,
     "end_time": "2022-04-18T07:03:19.419381",
     "exception": false,
     "start_time": "2022-04-18T07:03:19.341583",
     "status": "completed"
    },
    "tags": []
   },
   "outputs": [
    {
     "name": "stdout",
     "output_type": "stream",
     "text": [
      "     HomePlanet  CryoSleep     Cabin    Destination   Age    VIP  RoomService  \\\n",
      "0        Europa      False     B/0/P    TRAPPIST-1e  39.0  False          0.0   \n",
      "1         Earth      False     F/0/S    TRAPPIST-1e  24.0  False        109.0   \n",
      "2        Europa      False     A/0/S    TRAPPIST-1e  58.0   True         43.0   \n",
      "3        Europa      False     A/0/S    TRAPPIST-1e  33.0  False          0.0   \n",
      "4         Earth      False     F/1/S    TRAPPIST-1e  16.0  False        303.0   \n",
      "...         ...        ...       ...            ...   ...    ...          ...   \n",
      "8688     Europa      False    A/98/P    55 Cancri e  41.0   True          0.0   \n",
      "8689      Earth       True  G/1499/S  PSO J318.5-22  18.0  False          0.0   \n",
      "8690      Earth      False  G/1500/S    TRAPPIST-1e  26.0  False          0.0   \n",
      "8691     Europa      False   E/608/S    55 Cancri e  32.0  False          0.0   \n",
      "8692     Europa      False   E/608/S    TRAPPIST-1e  44.0  False        126.0   \n",
      "\n",
      "      FoodCourt  ShoppingMall     Spa  VRDeck Deck   Num Side  \n",
      "0           0.0           0.0     0.0     0.0    B     0    P  \n",
      "1           9.0          25.0   549.0    44.0    F     0    S  \n",
      "2        3576.0           0.0  6715.0    49.0    A     0    S  \n",
      "3        1283.0         371.0  3329.0   193.0    A     0    S  \n",
      "4          70.0         151.0   565.0     2.0    F     1    S  \n",
      "...         ...           ...     ...     ...  ...   ...  ...  \n",
      "8688     6819.0           0.0  1643.0    74.0    A    98    P  \n",
      "8689        0.0           0.0     0.0     0.0    G  1499    S  \n",
      "8690        0.0        1872.0     1.0     0.0    G  1500    S  \n",
      "8691     1049.0           0.0   353.0  3235.0    E   608    S  \n",
      "8692     4688.0           0.0     0.0    12.0    E   608    S  \n",
      "\n",
      "[8693 rows x 14 columns]\n",
      "     HomePlanet  CryoSleep     Cabin    Destination        Age    VIP  \\\n",
      "0         Earth       True     G/3/S    TRAPPIST-1e  27.000000  False   \n",
      "1         Earth      False     F/4/S    TRAPPIST-1e  19.000000  False   \n",
      "2        Europa       True     C/0/S    55 Cancri e  31.000000  False   \n",
      "3        Europa      False     C/1/S    TRAPPIST-1e  38.000000  False   \n",
      "4         Earth      False     F/5/S    TRAPPIST-1e  20.000000  False   \n",
      "...         ...        ...       ...            ...        ...    ...   \n",
      "4272      Earth       True  G/1496/S    TRAPPIST-1e  34.000000  False   \n",
      "4273      Earth      False  G/1496/S    TRAPPIST-1e  42.000000  False   \n",
      "4274       Mars       True   D/296/P    55 Cancri e  28.658146  False   \n",
      "4275     Europa      False   D/297/P    55 Cancri e  28.658146  False   \n",
      "4276      Earth       True  G/1498/S  PSO J318.5-22  43.000000  False   \n",
      "\n",
      "      RoomService  FoodCourt  ShoppingMall     Spa  VRDeck Deck   Num Side  \n",
      "0             0.0        0.0           0.0     0.0     0.0    G     3    S  \n",
      "1             0.0        9.0           0.0  2823.0     0.0    F     4    S  \n",
      "2             0.0        0.0           0.0     0.0     0.0    C     0    S  \n",
      "3             0.0     6652.0           0.0   181.0   585.0    C     1    S  \n",
      "4            10.0        0.0         635.0     0.0     0.0    F     5    S  \n",
      "...           ...        ...           ...     ...     ...  ...   ...  ...  \n",
      "4272          0.0        0.0           0.0     0.0     0.0    G  1496    S  \n",
      "4273          0.0      847.0          17.0    10.0   144.0    G  1496    S  \n",
      "4274          0.0        0.0           0.0     0.0     0.0    D   296    P  \n",
      "4275          0.0     2680.0           0.0     0.0   523.0    D   297    P  \n",
      "4276          0.0        0.0           0.0     0.0     0.0    G  1498    S  \n",
      "\n",
      "[4277 rows x 14 columns]\n"
     ]
    }
   ],
   "source": [
    "X[[\"Deck\",\"Num\",\"Side\"]] = X[\"Cabin\"].str.split('/', expand = True)\n",
    "X_test[[\"Deck\",\"Num\",\"Side\"]] = X_test[\"Cabin\"].str.split('/', expand = True)\n",
    "print(X)\n",
    "print(X_test)"
   ]
  },
  {
   "cell_type": "code",
   "execution_count": 11,
   "id": "d133c95d",
   "metadata": {
    "execution": {
     "iopub.execute_input": "2022-04-18T07:03:19.475820Z",
     "iopub.status.busy": "2022-04-18T07:03:19.475306Z",
     "iopub.status.idle": "2022-04-18T07:03:19.481576Z",
     "shell.execute_reply": "2022-04-18T07:03:19.480917Z"
    },
    "papermill": {
     "duration": 0.036681,
     "end_time": "2022-04-18T07:03:19.483407",
     "exception": false,
     "start_time": "2022-04-18T07:03:19.446726",
     "status": "completed"
    },
    "tags": []
   },
   "outputs": [
    {
     "data": {
      "text/plain": [
       "0       P\n",
       "1       S\n",
       "2       S\n",
       "3       S\n",
       "4       S\n",
       "       ..\n",
       "8688    P\n",
       "8689    S\n",
       "8690    S\n",
       "8691    S\n",
       "8692    S\n",
       "Name: Side, Length: 8693, dtype: object"
      ]
     },
     "execution_count": 11,
     "metadata": {},
     "output_type": "execute_result"
    }
   ],
   "source": [
    "X['Side']"
   ]
  },
  {
   "cell_type": "code",
   "execution_count": 12,
   "id": "221eceb0",
   "metadata": {
    "execution": {
     "iopub.execute_input": "2022-04-18T07:03:19.542119Z",
     "iopub.status.busy": "2022-04-18T07:03:19.541550Z",
     "iopub.status.idle": "2022-04-18T07:03:19.545769Z",
     "shell.execute_reply": "2022-04-18T07:03:19.545059Z"
    },
    "papermill": {
     "duration": 0.035378,
     "end_time": "2022-04-18T07:03:19.547681",
     "exception": false,
     "start_time": "2022-04-18T07:03:19.512303",
     "status": "completed"
    },
    "tags": []
   },
   "outputs": [],
   "source": [
    "del X['Cabin']\n",
    "del X_test['Cabin']"
   ]
  },
  {
   "cell_type": "code",
   "execution_count": 13,
   "id": "228f689b",
   "metadata": {
    "execution": {
     "iopub.execute_input": "2022-04-18T07:03:19.607699Z",
     "iopub.status.busy": "2022-04-18T07:03:19.607238Z",
     "iopub.status.idle": "2022-04-18T07:03:19.614852Z",
     "shell.execute_reply": "2022-04-18T07:03:19.613987Z"
    },
    "papermill": {
     "duration": 0.039079,
     "end_time": "2022-04-18T07:03:19.616837",
     "exception": false,
     "start_time": "2022-04-18T07:03:19.577758",
     "status": "completed"
    },
    "tags": []
   },
   "outputs": [],
   "source": [
    "X['CryoSleep'] = X['CryoSleep'].astype('bool')\n",
    "X['VIP'] = X['VIP'].astype('bool')\n",
    "X_test['CryoSleep'] = X_test['CryoSleep'].astype('bool')\n",
    "X_test['VIP'] = X_test['VIP'].astype('bool')"
   ]
  },
  {
   "cell_type": "code",
   "execution_count": 14,
   "id": "588cf287",
   "metadata": {
    "execution": {
     "iopub.execute_input": "2022-04-18T07:03:19.674197Z",
     "iopub.status.busy": "2022-04-18T07:03:19.673911Z",
     "iopub.status.idle": "2022-04-18T07:03:19.680480Z",
     "shell.execute_reply": "2022-04-18T07:03:19.679579Z"
    },
    "papermill": {
     "duration": 0.037719,
     "end_time": "2022-04-18T07:03:19.682622",
     "exception": false,
     "start_time": "2022-04-18T07:03:19.644903",
     "status": "completed"
    },
    "tags": []
   },
   "outputs": [],
   "source": [
    "del X['Num']\n",
    "del X_test['Num']\n",
    "del X['Deck']\n",
    "del X_test['Deck']"
   ]
  },
  {
   "cell_type": "code",
   "execution_count": 15,
   "id": "2a560a7f",
   "metadata": {
    "execution": {
     "iopub.execute_input": "2022-04-18T07:03:19.739534Z",
     "iopub.status.busy": "2022-04-18T07:03:19.739228Z",
     "iopub.status.idle": "2022-04-18T07:03:19.761666Z",
     "shell.execute_reply": "2022-04-18T07:03:19.760975Z"
    },
    "papermill": {
     "duration": 0.05328,
     "end_time": "2022-04-18T07:03:19.763620",
     "exception": false,
     "start_time": "2022-04-18T07:03:19.710340",
     "status": "completed"
    },
    "tags": []
   },
   "outputs": [
    {
     "name": "stdout",
     "output_type": "stream",
     "text": [
      "     HomePlanet  CryoSleep    Destination   Age    VIP  RoomService  \\\n",
      "0        Europa      False    TRAPPIST-1e  39.0  False          0.0   \n",
      "1         Earth      False    TRAPPIST-1e  24.0  False        109.0   \n",
      "2        Europa      False    TRAPPIST-1e  58.0   True         43.0   \n",
      "3        Europa      False    TRAPPIST-1e  33.0  False          0.0   \n",
      "4         Earth      False    TRAPPIST-1e  16.0  False        303.0   \n",
      "...         ...        ...            ...   ...    ...          ...   \n",
      "8688     Europa      False    55 Cancri e  41.0   True          0.0   \n",
      "8689      Earth       True  PSO J318.5-22  18.0  False          0.0   \n",
      "8690      Earth      False    TRAPPIST-1e  26.0  False          0.0   \n",
      "8691     Europa      False    55 Cancri e  32.0  False          0.0   \n",
      "8692     Europa      False    TRAPPIST-1e  44.0  False        126.0   \n",
      "\n",
      "      FoodCourt  ShoppingMall     Spa  VRDeck Side  \n",
      "0           0.0           0.0     0.0     0.0    P  \n",
      "1           9.0          25.0   549.0    44.0    S  \n",
      "2        3576.0           0.0  6715.0    49.0    S  \n",
      "3        1283.0         371.0  3329.0   193.0    S  \n",
      "4          70.0         151.0   565.0     2.0    S  \n",
      "...         ...           ...     ...     ...  ...  \n",
      "8688     6819.0           0.0  1643.0    74.0    P  \n",
      "8689        0.0           0.0     0.0     0.0    S  \n",
      "8690        0.0        1872.0     1.0     0.0    S  \n",
      "8691     1049.0           0.0   353.0  3235.0    S  \n",
      "8692     4688.0           0.0     0.0    12.0    S  \n",
      "\n",
      "[8693 rows x 11 columns]\n",
      "     HomePlanet  CryoSleep    Destination        Age    VIP  RoomService  \\\n",
      "0         Earth       True    TRAPPIST-1e  27.000000  False          0.0   \n",
      "1         Earth      False    TRAPPIST-1e  19.000000  False          0.0   \n",
      "2        Europa       True    55 Cancri e  31.000000  False          0.0   \n",
      "3        Europa      False    TRAPPIST-1e  38.000000  False          0.0   \n",
      "4         Earth      False    TRAPPIST-1e  20.000000  False         10.0   \n",
      "...         ...        ...            ...        ...    ...          ...   \n",
      "4272      Earth       True    TRAPPIST-1e  34.000000  False          0.0   \n",
      "4273      Earth      False    TRAPPIST-1e  42.000000  False          0.0   \n",
      "4274       Mars       True    55 Cancri e  28.658146  False          0.0   \n",
      "4275     Europa      False    55 Cancri e  28.658146  False          0.0   \n",
      "4276      Earth       True  PSO J318.5-22  43.000000  False          0.0   \n",
      "\n",
      "      FoodCourt  ShoppingMall     Spa  VRDeck Side  \n",
      "0           0.0           0.0     0.0     0.0    S  \n",
      "1           9.0           0.0  2823.0     0.0    S  \n",
      "2           0.0           0.0     0.0     0.0    S  \n",
      "3        6652.0           0.0   181.0   585.0    S  \n",
      "4           0.0         635.0     0.0     0.0    S  \n",
      "...         ...           ...     ...     ...  ...  \n",
      "4272        0.0           0.0     0.0     0.0    S  \n",
      "4273      847.0          17.0    10.0   144.0    S  \n",
      "4274        0.0           0.0     0.0     0.0    P  \n",
      "4275     2680.0           0.0     0.0   523.0    P  \n",
      "4276        0.0           0.0     0.0     0.0    S  \n",
      "\n",
      "[4277 rows x 11 columns]\n"
     ]
    }
   ],
   "source": [
    "print(X)\n",
    "print(X_test)"
   ]
  },
  {
   "cell_type": "code",
   "execution_count": 16,
   "id": "71f78b36",
   "metadata": {
    "execution": {
     "iopub.execute_input": "2022-04-18T07:03:19.825038Z",
     "iopub.status.busy": "2022-04-18T07:03:19.824558Z",
     "iopub.status.idle": "2022-04-18T07:03:19.835414Z",
     "shell.execute_reply": "2022-04-18T07:03:19.834771Z"
    },
    "papermill": {
     "duration": 0.042706,
     "end_time": "2022-04-18T07:03:19.837442",
     "exception": false,
     "start_time": "2022-04-18T07:03:19.794736",
     "status": "completed"
    },
    "tags": []
   },
   "outputs": [],
   "source": [
    "categorical_cols = X.select_dtypes(include=['object','bool']).columns.tolist()\n",
    "#categorical_cols = X.columns[categorical_feature_mask].tolist()\n",
    "categorical_cols_test = X_test.select_dtypes(include=['object','bool']).columns.tolist()\n",
    "#categorical_cols_test = X_test.columns[categorical_feature_mask_test].tolist()"
   ]
  },
  {
   "cell_type": "code",
   "execution_count": 17,
   "id": "f3d51664",
   "metadata": {
    "execution": {
     "iopub.execute_input": "2022-04-18T07:03:19.895012Z",
     "iopub.status.busy": "2022-04-18T07:03:19.894449Z",
     "iopub.status.idle": "2022-04-18T07:03:19.899479Z",
     "shell.execute_reply": "2022-04-18T07:03:19.898674Z"
    },
    "papermill": {
     "duration": 0.036234,
     "end_time": "2022-04-18T07:03:19.901388",
     "exception": false,
     "start_time": "2022-04-18T07:03:19.865154",
     "status": "completed"
    },
    "tags": []
   },
   "outputs": [
    {
     "data": {
      "text/plain": [
       "['HomePlanet', 'CryoSleep', 'Destination', 'VIP', 'Side']"
      ]
     },
     "execution_count": 17,
     "metadata": {},
     "output_type": "execute_result"
    }
   ],
   "source": [
    "categorical_cols"
   ]
  },
  {
   "cell_type": "code",
   "execution_count": 18,
   "id": "08dacc35",
   "metadata": {
    "execution": {
     "iopub.execute_input": "2022-04-18T07:03:19.959747Z",
     "iopub.status.busy": "2022-04-18T07:03:19.959004Z",
     "iopub.status.idle": "2022-04-18T07:03:20.115013Z",
     "shell.execute_reply": "2022-04-18T07:03:20.114164Z"
    },
    "papermill": {
     "duration": 0.187671,
     "end_time": "2022-04-18T07:03:20.117369",
     "exception": false,
     "start_time": "2022-04-18T07:03:19.929698",
     "status": "completed"
    },
    "tags": []
   },
   "outputs": [],
   "source": [
    "from sklearn.preprocessing import LabelEncoder\n",
    "le = LabelEncoder()"
   ]
  },
  {
   "cell_type": "code",
   "execution_count": 19,
   "id": "ab3c58cf",
   "metadata": {
    "execution": {
     "iopub.execute_input": "2022-04-18T07:03:20.176654Z",
     "iopub.status.busy": "2022-04-18T07:03:20.176141Z",
     "iopub.status.idle": "2022-04-18T07:03:20.196587Z",
     "shell.execute_reply": "2022-04-18T07:03:20.195573Z"
    },
    "papermill": {
     "duration": 0.052972,
     "end_time": "2022-04-18T07:03:20.198813",
     "exception": false,
     "start_time": "2022-04-18T07:03:20.145841",
     "status": "completed"
    },
    "tags": []
   },
   "outputs": [],
   "source": [
    "X[categorical_cols] = X[categorical_cols].apply(lambda col: le.fit_transform(col))\n",
    "X_test[categorical_cols] = X_test[categorical_cols].apply(lambda col: le.fit_transform(col))"
   ]
  },
  {
   "cell_type": "code",
   "execution_count": 20,
   "id": "c0996e9b",
   "metadata": {
    "execution": {
     "iopub.execute_input": "2022-04-18T07:03:20.257263Z",
     "iopub.status.busy": "2022-04-18T07:03:20.256973Z",
     "iopub.status.idle": "2022-04-18T07:03:20.271801Z",
     "shell.execute_reply": "2022-04-18T07:03:20.271175Z"
    },
    "papermill": {
     "duration": 0.046119,
     "end_time": "2022-04-18T07:03:20.273585",
     "exception": false,
     "start_time": "2022-04-18T07:03:20.227466",
     "status": "completed"
    },
    "tags": []
   },
   "outputs": [
    {
     "data": {
      "text/html": [
       "<div>\n",
       "<style scoped>\n",
       "    .dataframe tbody tr th:only-of-type {\n",
       "        vertical-align: middle;\n",
       "    }\n",
       "\n",
       "    .dataframe tbody tr th {\n",
       "        vertical-align: top;\n",
       "    }\n",
       "\n",
       "    .dataframe thead th {\n",
       "        text-align: right;\n",
       "    }\n",
       "</style>\n",
       "<table border=\"1\" class=\"dataframe\">\n",
       "  <thead>\n",
       "    <tr style=\"text-align: right;\">\n",
       "      <th></th>\n",
       "      <th>HomePlanet</th>\n",
       "      <th>CryoSleep</th>\n",
       "      <th>Destination</th>\n",
       "      <th>VIP</th>\n",
       "      <th>Side</th>\n",
       "    </tr>\n",
       "  </thead>\n",
       "  <tbody>\n",
       "    <tr>\n",
       "      <th>0</th>\n",
       "      <td>0</td>\n",
       "      <td>1</td>\n",
       "      <td>2</td>\n",
       "      <td>0</td>\n",
       "      <td>1</td>\n",
       "    </tr>\n",
       "    <tr>\n",
       "      <th>1</th>\n",
       "      <td>0</td>\n",
       "      <td>0</td>\n",
       "      <td>2</td>\n",
       "      <td>0</td>\n",
       "      <td>1</td>\n",
       "    </tr>\n",
       "    <tr>\n",
       "      <th>2</th>\n",
       "      <td>1</td>\n",
       "      <td>1</td>\n",
       "      <td>0</td>\n",
       "      <td>0</td>\n",
       "      <td>1</td>\n",
       "    </tr>\n",
       "    <tr>\n",
       "      <th>3</th>\n",
       "      <td>1</td>\n",
       "      <td>0</td>\n",
       "      <td>2</td>\n",
       "      <td>0</td>\n",
       "      <td>1</td>\n",
       "    </tr>\n",
       "    <tr>\n",
       "      <th>4</th>\n",
       "      <td>0</td>\n",
       "      <td>0</td>\n",
       "      <td>2</td>\n",
       "      <td>0</td>\n",
       "      <td>1</td>\n",
       "    </tr>\n",
       "    <tr>\n",
       "      <th>...</th>\n",
       "      <td>...</td>\n",
       "      <td>...</td>\n",
       "      <td>...</td>\n",
       "      <td>...</td>\n",
       "      <td>...</td>\n",
       "    </tr>\n",
       "    <tr>\n",
       "      <th>4272</th>\n",
       "      <td>0</td>\n",
       "      <td>1</td>\n",
       "      <td>2</td>\n",
       "      <td>0</td>\n",
       "      <td>1</td>\n",
       "    </tr>\n",
       "    <tr>\n",
       "      <th>4273</th>\n",
       "      <td>0</td>\n",
       "      <td>0</td>\n",
       "      <td>2</td>\n",
       "      <td>0</td>\n",
       "      <td>1</td>\n",
       "    </tr>\n",
       "    <tr>\n",
       "      <th>4274</th>\n",
       "      <td>2</td>\n",
       "      <td>1</td>\n",
       "      <td>0</td>\n",
       "      <td>0</td>\n",
       "      <td>0</td>\n",
       "    </tr>\n",
       "    <tr>\n",
       "      <th>4275</th>\n",
       "      <td>1</td>\n",
       "      <td>0</td>\n",
       "      <td>0</td>\n",
       "      <td>0</td>\n",
       "      <td>0</td>\n",
       "    </tr>\n",
       "    <tr>\n",
       "      <th>4276</th>\n",
       "      <td>0</td>\n",
       "      <td>1</td>\n",
       "      <td>1</td>\n",
       "      <td>0</td>\n",
       "      <td>1</td>\n",
       "    </tr>\n",
       "  </tbody>\n",
       "</table>\n",
       "<p>4277 rows × 5 columns</p>\n",
       "</div>"
      ],
      "text/plain": [
       "      HomePlanet  CryoSleep  Destination  VIP  Side\n",
       "0              0          1            2    0     1\n",
       "1              0          0            2    0     1\n",
       "2              1          1            0    0     1\n",
       "3              1          0            2    0     1\n",
       "4              0          0            2    0     1\n",
       "...          ...        ...          ...  ...   ...\n",
       "4272           0          1            2    0     1\n",
       "4273           0          0            2    0     1\n",
       "4274           2          1            0    0     0\n",
       "4275           1          0            0    0     0\n",
       "4276           0          1            1    0     1\n",
       "\n",
       "[4277 rows x 5 columns]"
      ]
     },
     "execution_count": 20,
     "metadata": {},
     "output_type": "execute_result"
    }
   ],
   "source": [
    "X_test[categorical_cols]"
   ]
  },
  {
   "cell_type": "code",
   "execution_count": 21,
   "id": "d3a39b8c",
   "metadata": {
    "execution": {
     "iopub.execute_input": "2022-04-18T07:03:20.334698Z",
     "iopub.status.busy": "2022-04-18T07:03:20.334251Z",
     "iopub.status.idle": "2022-04-18T07:03:20.353809Z",
     "shell.execute_reply": "2022-04-18T07:03:20.353189Z"
    },
    "papermill": {
     "duration": 0.051771,
     "end_time": "2022-04-18T07:03:20.355521",
     "exception": false,
     "start_time": "2022-04-18T07:03:20.303750",
     "status": "completed"
    },
    "tags": []
   },
   "outputs": [
    {
     "data": {
      "text/html": [
       "<div>\n",
       "<style scoped>\n",
       "    .dataframe tbody tr th:only-of-type {\n",
       "        vertical-align: middle;\n",
       "    }\n",
       "\n",
       "    .dataframe tbody tr th {\n",
       "        vertical-align: top;\n",
       "    }\n",
       "\n",
       "    .dataframe thead th {\n",
       "        text-align: right;\n",
       "    }\n",
       "</style>\n",
       "<table border=\"1\" class=\"dataframe\">\n",
       "  <thead>\n",
       "    <tr style=\"text-align: right;\">\n",
       "      <th></th>\n",
       "      <th>HomePlanet</th>\n",
       "      <th>CryoSleep</th>\n",
       "      <th>Destination</th>\n",
       "      <th>Age</th>\n",
       "      <th>VIP</th>\n",
       "      <th>RoomService</th>\n",
       "      <th>FoodCourt</th>\n",
       "      <th>ShoppingMall</th>\n",
       "      <th>Spa</th>\n",
       "      <th>VRDeck</th>\n",
       "      <th>Side</th>\n",
       "    </tr>\n",
       "  </thead>\n",
       "  <tbody>\n",
       "    <tr>\n",
       "      <th>0</th>\n",
       "      <td>0</td>\n",
       "      <td>1</td>\n",
       "      <td>2</td>\n",
       "      <td>27.000000</td>\n",
       "      <td>0</td>\n",
       "      <td>0.0</td>\n",
       "      <td>0.0</td>\n",
       "      <td>0.0</td>\n",
       "      <td>0.0</td>\n",
       "      <td>0.0</td>\n",
       "      <td>1</td>\n",
       "    </tr>\n",
       "    <tr>\n",
       "      <th>1</th>\n",
       "      <td>0</td>\n",
       "      <td>0</td>\n",
       "      <td>2</td>\n",
       "      <td>19.000000</td>\n",
       "      <td>0</td>\n",
       "      <td>0.0</td>\n",
       "      <td>9.0</td>\n",
       "      <td>0.0</td>\n",
       "      <td>2823.0</td>\n",
       "      <td>0.0</td>\n",
       "      <td>1</td>\n",
       "    </tr>\n",
       "    <tr>\n",
       "      <th>2</th>\n",
       "      <td>1</td>\n",
       "      <td>1</td>\n",
       "      <td>0</td>\n",
       "      <td>31.000000</td>\n",
       "      <td>0</td>\n",
       "      <td>0.0</td>\n",
       "      <td>0.0</td>\n",
       "      <td>0.0</td>\n",
       "      <td>0.0</td>\n",
       "      <td>0.0</td>\n",
       "      <td>1</td>\n",
       "    </tr>\n",
       "    <tr>\n",
       "      <th>3</th>\n",
       "      <td>1</td>\n",
       "      <td>0</td>\n",
       "      <td>2</td>\n",
       "      <td>38.000000</td>\n",
       "      <td>0</td>\n",
       "      <td>0.0</td>\n",
       "      <td>6652.0</td>\n",
       "      <td>0.0</td>\n",
       "      <td>181.0</td>\n",
       "      <td>585.0</td>\n",
       "      <td>1</td>\n",
       "    </tr>\n",
       "    <tr>\n",
       "      <th>4</th>\n",
       "      <td>0</td>\n",
       "      <td>0</td>\n",
       "      <td>2</td>\n",
       "      <td>20.000000</td>\n",
       "      <td>0</td>\n",
       "      <td>10.0</td>\n",
       "      <td>0.0</td>\n",
       "      <td>635.0</td>\n",
       "      <td>0.0</td>\n",
       "      <td>0.0</td>\n",
       "      <td>1</td>\n",
       "    </tr>\n",
       "    <tr>\n",
       "      <th>...</th>\n",
       "      <td>...</td>\n",
       "      <td>...</td>\n",
       "      <td>...</td>\n",
       "      <td>...</td>\n",
       "      <td>...</td>\n",
       "      <td>...</td>\n",
       "      <td>...</td>\n",
       "      <td>...</td>\n",
       "      <td>...</td>\n",
       "      <td>...</td>\n",
       "      <td>...</td>\n",
       "    </tr>\n",
       "    <tr>\n",
       "      <th>4272</th>\n",
       "      <td>0</td>\n",
       "      <td>1</td>\n",
       "      <td>2</td>\n",
       "      <td>34.000000</td>\n",
       "      <td>0</td>\n",
       "      <td>0.0</td>\n",
       "      <td>0.0</td>\n",
       "      <td>0.0</td>\n",
       "      <td>0.0</td>\n",
       "      <td>0.0</td>\n",
       "      <td>1</td>\n",
       "    </tr>\n",
       "    <tr>\n",
       "      <th>4273</th>\n",
       "      <td>0</td>\n",
       "      <td>0</td>\n",
       "      <td>2</td>\n",
       "      <td>42.000000</td>\n",
       "      <td>0</td>\n",
       "      <td>0.0</td>\n",
       "      <td>847.0</td>\n",
       "      <td>17.0</td>\n",
       "      <td>10.0</td>\n",
       "      <td>144.0</td>\n",
       "      <td>1</td>\n",
       "    </tr>\n",
       "    <tr>\n",
       "      <th>4274</th>\n",
       "      <td>2</td>\n",
       "      <td>1</td>\n",
       "      <td>0</td>\n",
       "      <td>28.658146</td>\n",
       "      <td>0</td>\n",
       "      <td>0.0</td>\n",
       "      <td>0.0</td>\n",
       "      <td>0.0</td>\n",
       "      <td>0.0</td>\n",
       "      <td>0.0</td>\n",
       "      <td>0</td>\n",
       "    </tr>\n",
       "    <tr>\n",
       "      <th>4275</th>\n",
       "      <td>1</td>\n",
       "      <td>0</td>\n",
       "      <td>0</td>\n",
       "      <td>28.658146</td>\n",
       "      <td>0</td>\n",
       "      <td>0.0</td>\n",
       "      <td>2680.0</td>\n",
       "      <td>0.0</td>\n",
       "      <td>0.0</td>\n",
       "      <td>523.0</td>\n",
       "      <td>0</td>\n",
       "    </tr>\n",
       "    <tr>\n",
       "      <th>4276</th>\n",
       "      <td>0</td>\n",
       "      <td>1</td>\n",
       "      <td>1</td>\n",
       "      <td>43.000000</td>\n",
       "      <td>0</td>\n",
       "      <td>0.0</td>\n",
       "      <td>0.0</td>\n",
       "      <td>0.0</td>\n",
       "      <td>0.0</td>\n",
       "      <td>0.0</td>\n",
       "      <td>1</td>\n",
       "    </tr>\n",
       "  </tbody>\n",
       "</table>\n",
       "<p>4277 rows × 11 columns</p>\n",
       "</div>"
      ],
      "text/plain": [
       "      HomePlanet  CryoSleep  Destination        Age  VIP  RoomService  \\\n",
       "0              0          1            2  27.000000    0          0.0   \n",
       "1              0          0            2  19.000000    0          0.0   \n",
       "2              1          1            0  31.000000    0          0.0   \n",
       "3              1          0            2  38.000000    0          0.0   \n",
       "4              0          0            2  20.000000    0         10.0   \n",
       "...          ...        ...          ...        ...  ...          ...   \n",
       "4272           0          1            2  34.000000    0          0.0   \n",
       "4273           0          0            2  42.000000    0          0.0   \n",
       "4274           2          1            0  28.658146    0          0.0   \n",
       "4275           1          0            0  28.658146    0          0.0   \n",
       "4276           0          1            1  43.000000    0          0.0   \n",
       "\n",
       "      FoodCourt  ShoppingMall     Spa  VRDeck  Side  \n",
       "0           0.0           0.0     0.0     0.0     1  \n",
       "1           9.0           0.0  2823.0     0.0     1  \n",
       "2           0.0           0.0     0.0     0.0     1  \n",
       "3        6652.0           0.0   181.0   585.0     1  \n",
       "4           0.0         635.0     0.0     0.0     1  \n",
       "...         ...           ...     ...     ...   ...  \n",
       "4272        0.0           0.0     0.0     0.0     1  \n",
       "4273      847.0          17.0    10.0   144.0     1  \n",
       "4274        0.0           0.0     0.0     0.0     0  \n",
       "4275     2680.0           0.0     0.0   523.0     0  \n",
       "4276        0.0           0.0     0.0     0.0     1  \n",
       "\n",
       "[4277 rows x 11 columns]"
      ]
     },
     "execution_count": 21,
     "metadata": {},
     "output_type": "execute_result"
    }
   ],
   "source": [
    "X_test"
   ]
  },
  {
   "cell_type": "code",
   "execution_count": 22,
   "id": "f5e3078a",
   "metadata": {
    "execution": {
     "iopub.execute_input": "2022-04-18T07:03:20.415300Z",
     "iopub.status.busy": "2022-04-18T07:03:20.414855Z",
     "iopub.status.idle": "2022-04-18T07:03:20.418356Z",
     "shell.execute_reply": "2022-04-18T07:03:20.417786Z"
    },
    "papermill": {
     "duration": 0.035212,
     "end_time": "2022-04-18T07:03:20.419978",
     "exception": false,
     "start_time": "2022-04-18T07:03:20.384766",
     "status": "completed"
    },
    "tags": []
   },
   "outputs": [],
   "source": [
    "#from sklearn.preprocessing import OneHotEncoder\n",
    "#ohe = OneHotEncoder() "
   ]
  },
  {
   "cell_type": "code",
   "execution_count": 23,
   "id": "903a4629",
   "metadata": {
    "execution": {
     "iopub.execute_input": "2022-04-18T07:03:20.479828Z",
     "iopub.status.busy": "2022-04-18T07:03:20.479305Z",
     "iopub.status.idle": "2022-04-18T07:03:20.483062Z",
     "shell.execute_reply": "2022-04-18T07:03:20.482305Z"
    },
    "papermill": {
     "duration": 0.03568,
     "end_time": "2022-04-18T07:03:20.484759",
     "exception": false,
     "start_time": "2022-04-18T07:03:20.449079",
     "status": "completed"
    },
    "tags": []
   },
   "outputs": [],
   "source": [
    "#X_ohe = pd.DataFrame(ohe.fit_transform(X).toarray())\n",
    "#X_ohe_test = pd.DataFrame(ohe.fit_transform(X_test).toarray())\n"
   ]
  },
  {
   "cell_type": "code",
   "execution_count": 24,
   "id": "0960843d",
   "metadata": {
    "execution": {
     "iopub.execute_input": "2022-04-18T07:03:20.547084Z",
     "iopub.status.busy": "2022-04-18T07:03:20.546241Z",
     "iopub.status.idle": "2022-04-18T07:03:20.550060Z",
     "shell.execute_reply": "2022-04-18T07:03:20.549236Z"
    },
    "papermill": {
     "duration": 0.038256,
     "end_time": "2022-04-18T07:03:20.551958",
     "exception": false,
     "start_time": "2022-04-18T07:03:20.513702",
     "status": "completed"
    },
    "tags": []
   },
   "outputs": [],
   "source": [
    "#X = X.join(X_ohe)\n",
    "#X"
   ]
  },
  {
   "cell_type": "code",
   "execution_count": 25,
   "id": "866b3d31",
   "metadata": {
    "execution": {
     "iopub.execute_input": "2022-04-18T07:03:20.612814Z",
     "iopub.status.busy": "2022-04-18T07:03:20.612128Z",
     "iopub.status.idle": "2022-04-18T07:03:20.616078Z",
     "shell.execute_reply": "2022-04-18T07:03:20.615268Z"
    },
    "papermill": {
     "duration": 0.036326,
     "end_time": "2022-04-18T07:03:20.618186",
     "exception": false,
     "start_time": "2022-04-18T07:03:20.581860",
     "status": "completed"
    },
    "tags": []
   },
   "outputs": [],
   "source": [
    "#from sklearn.model_selection import train_test_split\n",
    "#X_train, X_test, y_train, y_test = train_test_split(X, y, test_size=0.33, random_state=42)"
   ]
  },
  {
   "cell_type": "code",
   "execution_count": 26,
   "id": "5c71a24d",
   "metadata": {
    "execution": {
     "iopub.execute_input": "2022-04-18T07:03:20.680149Z",
     "iopub.status.busy": "2022-04-18T07:03:20.679851Z",
     "iopub.status.idle": "2022-04-18T07:03:20.835298Z",
     "shell.execute_reply": "2022-04-18T07:03:20.834369Z"
    },
    "papermill": {
     "duration": 0.188813,
     "end_time": "2022-04-18T07:03:20.837808",
     "exception": false,
     "start_time": "2022-04-18T07:03:20.648995",
     "status": "completed"
    },
    "tags": []
   },
   "outputs": [],
   "source": [
    "from sklearn.linear_model import LogisticRegression\n",
    "logReg = LogisticRegression()"
   ]
  },
  {
   "cell_type": "code",
   "execution_count": 27,
   "id": "c427e20c",
   "metadata": {
    "execution": {
     "iopub.execute_input": "2022-04-18T07:03:20.900398Z",
     "iopub.status.busy": "2022-04-18T07:03:20.899686Z",
     "iopub.status.idle": "2022-04-18T07:03:20.919570Z",
     "shell.execute_reply": "2022-04-18T07:03:20.918928Z"
    },
    "papermill": {
     "duration": 0.053525,
     "end_time": "2022-04-18T07:03:20.922144",
     "exception": false,
     "start_time": "2022-04-18T07:03:20.868619",
     "status": "completed"
    },
    "tags": []
   },
   "outputs": [
    {
     "name": "stdout",
     "output_type": "stream",
     "text": [
      "0.0\n",
      "0.0\n",
      "0.0\n",
      "0.0\n",
      "0.0\n",
      "0.0\n",
      "0.0\n",
      "0.0\n",
      "0.0\n",
      "0.0\n",
      "0.0\n"
     ]
    }
   ],
   "source": [
    "X.iloc[:,5:10] = X.iloc[:,5:10].apply(lambda x: (x-x.mean())/ x.std(), axis=0)\n",
    "for i in X.columns:\n",
    "    print(X[i].isnull().sum()/len(X)*100)"
   ]
  },
  {
   "cell_type": "code",
   "execution_count": 28,
   "id": "2db00b52",
   "metadata": {
    "execution": {
     "iopub.execute_input": "2022-04-18T07:03:20.984794Z",
     "iopub.status.busy": "2022-04-18T07:03:20.984290Z",
     "iopub.status.idle": "2022-04-18T07:03:20.995568Z",
     "shell.execute_reply": "2022-04-18T07:03:20.994604Z"
    },
    "papermill": {
     "duration": 0.044299,
     "end_time": "2022-04-18T07:03:20.997908",
     "exception": false,
     "start_time": "2022-04-18T07:03:20.953609",
     "status": "completed"
    },
    "tags": []
   },
   "outputs": [],
   "source": [
    "X_test.iloc[:,5:10] = X_test.iloc[:,5:10].apply(lambda x: (x-x.mean())/ x.std(), axis=0)"
   ]
  },
  {
   "cell_type": "code",
   "execution_count": 29,
   "id": "68da7679",
   "metadata": {
    "execution": {
     "iopub.execute_input": "2022-04-18T07:03:21.060156Z",
     "iopub.status.busy": "2022-04-18T07:03:21.059850Z",
     "iopub.status.idle": "2022-04-18T07:03:21.078996Z",
     "shell.execute_reply": "2022-04-18T07:03:21.078175Z"
    },
    "papermill": {
     "duration": 0.052146,
     "end_time": "2022-04-18T07:03:21.081001",
     "exception": false,
     "start_time": "2022-04-18T07:03:21.028855",
     "status": "completed"
    },
    "tags": []
   },
   "outputs": [
    {
     "data": {
      "text/html": [
       "<div>\n",
       "<style scoped>\n",
       "    .dataframe tbody tr th:only-of-type {\n",
       "        vertical-align: middle;\n",
       "    }\n",
       "\n",
       "    .dataframe tbody tr th {\n",
       "        vertical-align: top;\n",
       "    }\n",
       "\n",
       "    .dataframe thead th {\n",
       "        text-align: right;\n",
       "    }\n",
       "</style>\n",
       "<table border=\"1\" class=\"dataframe\">\n",
       "  <thead>\n",
       "    <tr style=\"text-align: right;\">\n",
       "      <th></th>\n",
       "      <th>HomePlanet</th>\n",
       "      <th>CryoSleep</th>\n",
       "      <th>Destination</th>\n",
       "      <th>Age</th>\n",
       "      <th>VIP</th>\n",
       "      <th>RoomService</th>\n",
       "      <th>FoodCourt</th>\n",
       "      <th>ShoppingMall</th>\n",
       "      <th>Spa</th>\n",
       "      <th>VRDeck</th>\n",
       "      <th>Side</th>\n",
       "    </tr>\n",
       "  </thead>\n",
       "  <tbody>\n",
       "    <tr>\n",
       "      <th>0</th>\n",
       "      <td>0</td>\n",
       "      <td>1</td>\n",
       "      <td>2</td>\n",
       "      <td>27.000000</td>\n",
       "      <td>0</td>\n",
       "      <td>-0.364737</td>\n",
       "      <td>-0.291318</td>\n",
       "      <td>-0.319822</td>\n",
       "      <td>-0.274526</td>\n",
       "      <td>-0.251531</td>\n",
       "      <td>1</td>\n",
       "    </tr>\n",
       "    <tr>\n",
       "      <th>1</th>\n",
       "      <td>0</td>\n",
       "      <td>0</td>\n",
       "      <td>2</td>\n",
       "      <td>19.000000</td>\n",
       "      <td>0</td>\n",
       "      <td>-0.364737</td>\n",
       "      <td>-0.285352</td>\n",
       "      <td>-0.319822</td>\n",
       "      <td>2.282741</td>\n",
       "      <td>-0.251531</td>\n",
       "      <td>1</td>\n",
       "    </tr>\n",
       "    <tr>\n",
       "      <th>2</th>\n",
       "      <td>1</td>\n",
       "      <td>1</td>\n",
       "      <td>0</td>\n",
       "      <td>31.000000</td>\n",
       "      <td>0</td>\n",
       "      <td>-0.364737</td>\n",
       "      <td>-0.291318</td>\n",
       "      <td>-0.319822</td>\n",
       "      <td>-0.274526</td>\n",
       "      <td>-0.251531</td>\n",
       "      <td>1</td>\n",
       "    </tr>\n",
       "    <tr>\n",
       "      <th>3</th>\n",
       "      <td>1</td>\n",
       "      <td>0</td>\n",
       "      <td>2</td>\n",
       "      <td>38.000000</td>\n",
       "      <td>0</td>\n",
       "      <td>-0.364737</td>\n",
       "      <td>4.118042</td>\n",
       "      <td>-0.319822</td>\n",
       "      <td>-0.110563</td>\n",
       "      <td>0.222048</td>\n",
       "      <td>1</td>\n",
       "    </tr>\n",
       "    <tr>\n",
       "      <th>4</th>\n",
       "      <td>0</td>\n",
       "      <td>0</td>\n",
       "      <td>2</td>\n",
       "      <td>20.000000</td>\n",
       "      <td>0</td>\n",
       "      <td>-0.348102</td>\n",
       "      <td>-0.291318</td>\n",
       "      <td>0.825649</td>\n",
       "      <td>-0.274526</td>\n",
       "      <td>-0.251531</td>\n",
       "      <td>1</td>\n",
       "    </tr>\n",
       "    <tr>\n",
       "      <th>...</th>\n",
       "      <td>...</td>\n",
       "      <td>...</td>\n",
       "      <td>...</td>\n",
       "      <td>...</td>\n",
       "      <td>...</td>\n",
       "      <td>...</td>\n",
       "      <td>...</td>\n",
       "      <td>...</td>\n",
       "      <td>...</td>\n",
       "      <td>...</td>\n",
       "      <td>...</td>\n",
       "    </tr>\n",
       "    <tr>\n",
       "      <th>4272</th>\n",
       "      <td>0</td>\n",
       "      <td>1</td>\n",
       "      <td>2</td>\n",
       "      <td>34.000000</td>\n",
       "      <td>0</td>\n",
       "      <td>-0.364737</td>\n",
       "      <td>-0.291318</td>\n",
       "      <td>-0.319822</td>\n",
       "      <td>-0.274526</td>\n",
       "      <td>-0.251531</td>\n",
       "      <td>1</td>\n",
       "    </tr>\n",
       "    <tr>\n",
       "      <th>4273</th>\n",
       "      <td>0</td>\n",
       "      <td>0</td>\n",
       "      <td>2</td>\n",
       "      <td>42.000000</td>\n",
       "      <td>0</td>\n",
       "      <td>-0.364737</td>\n",
       "      <td>0.270127</td>\n",
       "      <td>-0.289156</td>\n",
       "      <td>-0.265467</td>\n",
       "      <td>-0.134958</td>\n",
       "      <td>1</td>\n",
       "    </tr>\n",
       "    <tr>\n",
       "      <th>4274</th>\n",
       "      <td>2</td>\n",
       "      <td>1</td>\n",
       "      <td>0</td>\n",
       "      <td>28.658146</td>\n",
       "      <td>0</td>\n",
       "      <td>-0.364737</td>\n",
       "      <td>-0.291318</td>\n",
       "      <td>-0.319822</td>\n",
       "      <td>-0.274526</td>\n",
       "      <td>-0.251531</td>\n",
       "      <td>0</td>\n",
       "    </tr>\n",
       "    <tr>\n",
       "      <th>4275</th>\n",
       "      <td>1</td>\n",
       "      <td>0</td>\n",
       "      <td>0</td>\n",
       "      <td>28.658146</td>\n",
       "      <td>0</td>\n",
       "      <td>-0.364737</td>\n",
       "      <td>1.485153</td>\n",
       "      <td>-0.319822</td>\n",
       "      <td>-0.274526</td>\n",
       "      <td>0.171856</td>\n",
       "      <td>0</td>\n",
       "    </tr>\n",
       "    <tr>\n",
       "      <th>4276</th>\n",
       "      <td>0</td>\n",
       "      <td>1</td>\n",
       "      <td>1</td>\n",
       "      <td>43.000000</td>\n",
       "      <td>0</td>\n",
       "      <td>-0.364737</td>\n",
       "      <td>-0.291318</td>\n",
       "      <td>-0.319822</td>\n",
       "      <td>-0.274526</td>\n",
       "      <td>-0.251531</td>\n",
       "      <td>1</td>\n",
       "    </tr>\n",
       "  </tbody>\n",
       "</table>\n",
       "<p>4277 rows × 11 columns</p>\n",
       "</div>"
      ],
      "text/plain": [
       "      HomePlanet  CryoSleep  Destination        Age  VIP  RoomService  \\\n",
       "0              0          1            2  27.000000    0    -0.364737   \n",
       "1              0          0            2  19.000000    0    -0.364737   \n",
       "2              1          1            0  31.000000    0    -0.364737   \n",
       "3              1          0            2  38.000000    0    -0.364737   \n",
       "4              0          0            2  20.000000    0    -0.348102   \n",
       "...          ...        ...          ...        ...  ...          ...   \n",
       "4272           0          1            2  34.000000    0    -0.364737   \n",
       "4273           0          0            2  42.000000    0    -0.364737   \n",
       "4274           2          1            0  28.658146    0    -0.364737   \n",
       "4275           1          0            0  28.658146    0    -0.364737   \n",
       "4276           0          1            1  43.000000    0    -0.364737   \n",
       "\n",
       "      FoodCourt  ShoppingMall       Spa    VRDeck  Side  \n",
       "0     -0.291318     -0.319822 -0.274526 -0.251531     1  \n",
       "1     -0.285352     -0.319822  2.282741 -0.251531     1  \n",
       "2     -0.291318     -0.319822 -0.274526 -0.251531     1  \n",
       "3      4.118042     -0.319822 -0.110563  0.222048     1  \n",
       "4     -0.291318      0.825649 -0.274526 -0.251531     1  \n",
       "...         ...           ...       ...       ...   ...  \n",
       "4272  -0.291318     -0.319822 -0.274526 -0.251531     1  \n",
       "4273   0.270127     -0.289156 -0.265467 -0.134958     1  \n",
       "4274  -0.291318     -0.319822 -0.274526 -0.251531     0  \n",
       "4275   1.485153     -0.319822 -0.274526  0.171856     0  \n",
       "4276  -0.291318     -0.319822 -0.274526 -0.251531     1  \n",
       "\n",
       "[4277 rows x 11 columns]"
      ]
     },
     "execution_count": 29,
     "metadata": {},
     "output_type": "execute_result"
    }
   ],
   "source": [
    "X_test"
   ]
  },
  {
   "cell_type": "code",
   "execution_count": 30,
   "id": "bc5bba45",
   "metadata": {
    "execution": {
     "iopub.execute_input": "2022-04-18T07:03:21.144589Z",
     "iopub.status.busy": "2022-04-18T07:03:21.144242Z",
     "iopub.status.idle": "2022-04-18T07:03:21.236735Z",
     "shell.execute_reply": "2022-04-18T07:03:21.235712Z"
    },
    "papermill": {
     "duration": 0.127139,
     "end_time": "2022-04-18T07:03:21.239625",
     "exception": false,
     "start_time": "2022-04-18T07:03:21.112486",
     "status": "completed"
    },
    "tags": []
   },
   "outputs": [
    {
     "data": {
      "text/plain": [
       "LogisticRegression()"
      ]
     },
     "execution_count": 30,
     "metadata": {},
     "output_type": "execute_result"
    }
   ],
   "source": [
    "logReg.fit(X, y)"
   ]
  },
  {
   "cell_type": "code",
   "execution_count": 31,
   "id": "166b4ee3",
   "metadata": {
    "execution": {
     "iopub.execute_input": "2022-04-18T07:03:21.358276Z",
     "iopub.status.busy": "2022-04-18T07:03:21.357934Z",
     "iopub.status.idle": "2022-04-18T07:03:21.369635Z",
     "shell.execute_reply": "2022-04-18T07:03:21.368692Z"
    },
    "papermill": {
     "duration": 0.069423,
     "end_time": "2022-04-18T07:03:21.372382",
     "exception": false,
     "start_time": "2022-04-18T07:03:21.302959",
     "status": "completed"
    },
    "tags": []
   },
   "outputs": [
    {
     "name": "stdout",
     "output_type": "stream",
     "text": [
      "0.7881053721385023\n"
     ]
    }
   ],
   "source": [
    "score = logReg.score(X, y)\n",
    "print(score)"
   ]
  },
  {
   "cell_type": "code",
   "execution_count": 32,
   "id": "21509d1a",
   "metadata": {
    "execution": {
     "iopub.execute_input": "2022-04-18T07:03:21.491373Z",
     "iopub.status.busy": "2022-04-18T07:03:21.490434Z",
     "iopub.status.idle": "2022-04-18T07:03:21.509107Z",
     "shell.execute_reply": "2022-04-18T07:03:21.508023Z"
    },
    "papermill": {
     "duration": 0.078836,
     "end_time": "2022-04-18T07:03:21.512243",
     "exception": false,
     "start_time": "2022-04-18T07:03:21.433407",
     "status": "completed"
    },
    "tags": []
   },
   "outputs": [
    {
     "data": {
      "text/html": [
       "<div>\n",
       "<style scoped>\n",
       "    .dataframe tbody tr th:only-of-type {\n",
       "        vertical-align: middle;\n",
       "    }\n",
       "\n",
       "    .dataframe tbody tr th {\n",
       "        vertical-align: top;\n",
       "    }\n",
       "\n",
       "    .dataframe thead th {\n",
       "        text-align: right;\n",
       "    }\n",
       "</style>\n",
       "<table border=\"1\" class=\"dataframe\">\n",
       "  <thead>\n",
       "    <tr style=\"text-align: right;\">\n",
       "      <th></th>\n",
       "      <th>0</th>\n",
       "    </tr>\n",
       "  </thead>\n",
       "  <tbody>\n",
       "    <tr>\n",
       "      <th>0</th>\n",
       "      <td>True</td>\n",
       "    </tr>\n",
       "    <tr>\n",
       "      <th>1</th>\n",
       "      <td>False</td>\n",
       "    </tr>\n",
       "    <tr>\n",
       "      <th>2</th>\n",
       "      <td>True</td>\n",
       "    </tr>\n",
       "    <tr>\n",
       "      <th>3</th>\n",
       "      <td>True</td>\n",
       "    </tr>\n",
       "    <tr>\n",
       "      <th>4</th>\n",
       "      <td>True</td>\n",
       "    </tr>\n",
       "    <tr>\n",
       "      <th>...</th>\n",
       "      <td>...</td>\n",
       "    </tr>\n",
       "    <tr>\n",
       "      <th>4272</th>\n",
       "      <td>True</td>\n",
       "    </tr>\n",
       "    <tr>\n",
       "      <th>4273</th>\n",
       "      <td>True</td>\n",
       "    </tr>\n",
       "    <tr>\n",
       "      <th>4274</th>\n",
       "      <td>True</td>\n",
       "    </tr>\n",
       "    <tr>\n",
       "      <th>4275</th>\n",
       "      <td>True</td>\n",
       "    </tr>\n",
       "    <tr>\n",
       "      <th>4276</th>\n",
       "      <td>True</td>\n",
       "    </tr>\n",
       "  </tbody>\n",
       "</table>\n",
       "<p>4277 rows × 1 columns</p>\n",
       "</div>"
      ],
      "text/plain": [
       "          0\n",
       "0      True\n",
       "1     False\n",
       "2      True\n",
       "3      True\n",
       "4      True\n",
       "...     ...\n",
       "4272   True\n",
       "4273   True\n",
       "4274   True\n",
       "4275   True\n",
       "4276   True\n",
       "\n",
       "[4277 rows x 1 columns]"
      ]
     },
     "execution_count": 32,
     "metadata": {},
     "output_type": "execute_result"
    }
   ],
   "source": [
    "df = pd.DataFrame(logReg.predict(X_test))\n",
    "df"
   ]
  },
  {
   "cell_type": "code",
   "execution_count": 33,
   "id": "f01e9b93",
   "metadata": {
    "execution": {
     "iopub.execute_input": "2022-04-18T07:03:21.630597Z",
     "iopub.status.busy": "2022-04-18T07:03:21.630258Z",
     "iopub.status.idle": "2022-04-18T07:03:21.642689Z",
     "shell.execute_reply": "2022-04-18T07:03:21.641739Z"
    },
    "papermill": {
     "duration": 0.06857,
     "end_time": "2022-04-18T07:03:21.645005",
     "exception": false,
     "start_time": "2022-04-18T07:03:21.576435",
     "status": "completed"
    },
    "tags": []
   },
   "outputs": [],
   "source": [
    "df.to_csv('result.csv')"
   ]
  },
  {
   "cell_type": "code",
   "execution_count": null,
   "id": "b92ba318",
   "metadata": {
    "papermill": {
     "duration": 0.030719,
     "end_time": "2022-04-18T07:03:21.707271",
     "exception": false,
     "start_time": "2022-04-18T07:03:21.676552",
     "status": "completed"
    },
    "tags": []
   },
   "outputs": [],
   "source": []
  }
 ],
 "metadata": {
  "kernelspec": {
   "display_name": "Python 3",
   "language": "python",
   "name": "python3"
  },
  "language_info": {
   "codemirror_mode": {
    "name": "ipython",
    "version": 3
   },
   "file_extension": ".py",
   "mimetype": "text/x-python",
   "name": "python",
   "nbconvert_exporter": "python",
   "pygments_lexer": "ipython3",
   "version": "3.7.12"
  },
  "papermill": {
   "default_parameters": {},
   "duration": 14.262772,
   "end_time": "2022-04-18T07:03:22.459849",
   "environment_variables": {},
   "exception": null,
   "input_path": "__notebook__.ipynb",
   "output_path": "__notebook__.ipynb",
   "parameters": {},
   "start_time": "2022-04-18T07:03:08.197077",
   "version": "2.3.4"
  }
 },
 "nbformat": 4,
 "nbformat_minor": 5
}
