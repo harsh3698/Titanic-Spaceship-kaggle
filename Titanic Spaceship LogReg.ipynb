{
 "cells": [
  {
   "cell_type": "code",
   "execution_count": 1,
   "id": "a7b43e3b",
   "metadata": {
    "_cell_guid": "b1076dfc-b9ad-4769-8c92-a6c4dae69d19",
    "_uuid": "8f2839f25d086af736a60e9eeb907d3b93b6e0e5",
    "execution": {
     "iopub.execute_input": "2022-04-18T08:01:34.174941Z",
     "iopub.status.busy": "2022-04-18T08:01:34.173885Z",
     "iopub.status.idle": "2022-04-18T08:01:35.312466Z",
     "shell.execute_reply": "2022-04-18T08:01:35.310321Z"
    },
    "papermill": {
     "duration": 1.180335,
     "end_time": "2022-04-18T08:01:35.315137",
     "exception": false,
     "start_time": "2022-04-18T08:01:34.134802",
     "status": "completed"
    },
    "tags": []
   },
   "outputs": [
    {
     "name": "stdout",
     "output_type": "stream",
     "text": [
      "/kaggle/input/spaceship-titanic/sample_submission.csv\n",
      "/kaggle/input/spaceship-titanic/train.csv\n",
      "/kaggle/input/spaceship-titanic/test.csv\n"
     ]
    }
   ],
   "source": [
    "import numpy as np\n",
    "import pandas as pd \n",
    "import matplotlib.pyplot as plt\n",
    "import os\n",
    "import seaborn as sns\n",
    "for dirname, _, filenames in os.walk('/kaggle/input'):\n",
    "    for filename in filenames:\n",
    "        print(os.path.join(dirname, filename))"
   ]
  },
  {
   "cell_type": "code",
   "execution_count": 2,
   "id": "159c078a",
   "metadata": {
    "execution": {
     "iopub.execute_input": "2022-04-18T08:01:35.387177Z",
     "iopub.status.busy": "2022-04-18T08:01:35.386917Z",
     "iopub.status.idle": "2022-04-18T08:01:35.472189Z",
     "shell.execute_reply": "2022-04-18T08:01:35.471162Z"
    },
    "papermill": {
     "duration": 0.124511,
     "end_time": "2022-04-18T08:01:35.474532",
     "exception": false,
     "start_time": "2022-04-18T08:01:35.350021",
     "status": "completed"
    },
    "tags": []
   },
   "outputs": [],
   "source": [
    "dataset = pd.read_csv('/kaggle/input/spaceship-titanic/train.csv')\n",
    "dataset_test = pd.read_csv('../input/spaceship-titanic/test.csv')"
   ]
  },
  {
   "cell_type": "code",
   "execution_count": 3,
   "id": "6a28d155",
   "metadata": {
    "execution": {
     "iopub.execute_input": "2022-04-18T08:01:35.544213Z",
     "iopub.status.busy": "2022-04-18T08:01:35.543898Z",
     "iopub.status.idle": "2022-04-18T08:01:35.579253Z",
     "shell.execute_reply": "2022-04-18T08:01:35.578500Z"
    },
    "papermill": {
     "duration": 0.07287,
     "end_time": "2022-04-18T08:01:35.581576",
     "exception": false,
     "start_time": "2022-04-18T08:01:35.508706",
     "status": "completed"
    },
    "tags": []
   },
   "outputs": [
    {
     "name": "stdout",
     "output_type": "stream",
     "text": [
      "<class 'pandas.core.frame.DataFrame'>\n",
      "RangeIndex: 8693 entries, 0 to 8692\n",
      "Data columns (total 14 columns):\n",
      " #   Column        Non-Null Count  Dtype  \n",
      "---  ------        --------------  -----  \n",
      " 0   PassengerId   8693 non-null   object \n",
      " 1   HomePlanet    8492 non-null   object \n",
      " 2   CryoSleep     8476 non-null   object \n",
      " 3   Cabin         8494 non-null   object \n",
      " 4   Destination   8511 non-null   object \n",
      " 5   Age           8514 non-null   float64\n",
      " 6   VIP           8490 non-null   object \n",
      " 7   RoomService   8512 non-null   float64\n",
      " 8   FoodCourt     8510 non-null   float64\n",
      " 9   ShoppingMall  8485 non-null   float64\n",
      " 10  Spa           8510 non-null   float64\n",
      " 11  VRDeck        8505 non-null   float64\n",
      " 12  Name          8493 non-null   object \n",
      " 13  Transported   8693 non-null   bool   \n",
      "dtypes: bool(1), float64(6), object(7)\n",
      "memory usage: 891.5+ KB\n"
     ]
    }
   ],
   "source": [
    "dataset.info()"
   ]
  },
  {
   "cell_type": "code",
   "execution_count": 4,
   "id": "6c895cc4",
   "metadata": {
    "execution": {
     "iopub.execute_input": "2022-04-18T08:01:35.657988Z",
     "iopub.status.busy": "2022-04-18T08:01:35.657377Z",
     "iopub.status.idle": "2022-04-18T08:01:35.673170Z",
     "shell.execute_reply": "2022-04-18T08:01:35.672078Z"
    },
    "papermill": {
     "duration": 0.055405,
     "end_time": "2022-04-18T08:01:35.675581",
     "exception": false,
     "start_time": "2022-04-18T08:01:35.620176",
     "status": "completed"
    },
    "tags": []
   },
   "outputs": [
    {
     "name": "stdout",
     "output_type": "stream",
     "text": [
      "<class 'pandas.core.frame.DataFrame'>\n",
      "RangeIndex: 4277 entries, 0 to 4276\n",
      "Data columns (total 13 columns):\n",
      " #   Column        Non-Null Count  Dtype  \n",
      "---  ------        --------------  -----  \n",
      " 0   PassengerId   4277 non-null   object \n",
      " 1   HomePlanet    4190 non-null   object \n",
      " 2   CryoSleep     4184 non-null   object \n",
      " 3   Cabin         4177 non-null   object \n",
      " 4   Destination   4185 non-null   object \n",
      " 5   Age           4186 non-null   float64\n",
      " 6   VIP           4184 non-null   object \n",
      " 7   RoomService   4195 non-null   float64\n",
      " 8   FoodCourt     4171 non-null   float64\n",
      " 9   ShoppingMall  4179 non-null   float64\n",
      " 10  Spa           4176 non-null   float64\n",
      " 11  VRDeck        4197 non-null   float64\n",
      " 12  Name          4183 non-null   object \n",
      "dtypes: float64(6), object(7)\n",
      "memory usage: 434.5+ KB\n"
     ]
    }
   ],
   "source": [
    "dataset_test.info()"
   ]
  },
  {
   "cell_type": "code",
   "execution_count": 5,
   "id": "d30dabc1",
   "metadata": {
    "execution": {
     "iopub.execute_input": "2022-04-18T08:01:35.751845Z",
     "iopub.status.busy": "2022-04-18T08:01:35.751498Z",
     "iopub.status.idle": "2022-04-18T08:01:35.759486Z",
     "shell.execute_reply": "2022-04-18T08:01:35.758334Z"
    },
    "papermill": {
     "duration": 0.049855,
     "end_time": "2022-04-18T08:01:35.761563",
     "exception": false,
     "start_time": "2022-04-18T08:01:35.711708",
     "status": "completed"
    },
    "tags": []
   },
   "outputs": [],
   "source": [
    "X = dataset.iloc[:,:-1]\n",
    "y = dataset.iloc[:,-1]"
   ]
  },
  {
   "cell_type": "code",
   "execution_count": 6,
   "id": "3e3dc0e7",
   "metadata": {
    "execution": {
     "iopub.execute_input": "2022-04-18T08:01:35.837056Z",
     "iopub.status.busy": "2022-04-18T08:01:35.836581Z",
     "iopub.status.idle": "2022-04-18T08:01:35.848052Z",
     "shell.execute_reply": "2022-04-18T08:01:35.847331Z"
    },
    "papermill": {
     "duration": 0.051981,
     "end_time": "2022-04-18T08:01:35.850591",
     "exception": false,
     "start_time": "2022-04-18T08:01:35.798610",
     "status": "completed"
    },
    "tags": []
   },
   "outputs": [
    {
     "data": {
      "text/plain": [
       "Index(['HomePlanet', 'CryoSleep', 'Cabin', 'Destination', 'Age', 'VIP',\n",
       "       'RoomService', 'FoodCourt', 'ShoppingMall', 'Spa', 'VRDeck'],\n",
       "      dtype='object')"
      ]
     },
     "execution_count": 6,
     "metadata": {},
     "output_type": "execute_result"
    }
   ],
   "source": [
    "X_test = dataset_test\n",
    "X = X.drop(columns = [\"PassengerId\",\"Name\"])\n",
    "X_test = X_test.drop(columns = [\"PassengerId\",\"Name\"])\n",
    "X.columns"
   ]
  },
  {
   "cell_type": "code",
   "execution_count": 7,
   "id": "81f25bd1",
   "metadata": {
    "execution": {
     "iopub.execute_input": "2022-04-18T08:01:35.925189Z",
     "iopub.status.busy": "2022-04-18T08:01:35.924378Z",
     "iopub.status.idle": "2022-04-18T08:01:35.929723Z",
     "shell.execute_reply": "2022-04-18T08:01:35.929137Z"
    },
    "papermill": {
     "duration": 0.044851,
     "end_time": "2022-04-18T08:01:35.931565",
     "exception": false,
     "start_time": "2022-04-18T08:01:35.886714",
     "status": "completed"
    },
    "tags": []
   },
   "outputs": [
    {
     "data": {
      "text/plain": [
       "Index(['HomePlanet', 'CryoSleep', 'Cabin', 'Destination', 'Age', 'VIP',\n",
       "       'RoomService', 'FoodCourt', 'ShoppingMall', 'Spa', 'VRDeck'],\n",
       "      dtype='object')"
      ]
     },
     "execution_count": 7,
     "metadata": {},
     "output_type": "execute_result"
    }
   ],
   "source": [
    "X_test.columns"
   ]
  },
  {
   "cell_type": "code",
   "execution_count": 8,
   "id": "49fb5a59",
   "metadata": {
    "execution": {
     "iopub.execute_input": "2022-04-18T08:01:36.005282Z",
     "iopub.status.busy": "2022-04-18T08:01:36.004494Z",
     "iopub.status.idle": "2022-04-18T08:01:36.023827Z",
     "shell.execute_reply": "2022-04-18T08:01:36.022232Z"
    },
    "papermill": {
     "duration": 0.059211,
     "end_time": "2022-04-18T08:01:36.026253",
     "exception": false,
     "start_time": "2022-04-18T08:01:35.967042",
     "status": "completed"
    },
    "tags": []
   },
   "outputs": [
    {
     "name": "stdout",
     "output_type": "stream",
     "text": [
      "HomePlanet      2.312205\n",
      "CryoSleep       2.496261\n",
      "Cabin           2.289198\n",
      "Destination     2.093639\n",
      "Age             2.059128\n",
      "VIP             2.335212\n",
      "RoomService     2.082135\n",
      "FoodCourt       2.105142\n",
      "ShoppingMall    2.392730\n",
      "Spa             2.105142\n",
      "VRDeck          2.162660\n",
      "dtype: float64\n",
      "HomePlanet      1.000805\n",
      "CryoSleep       1.069826\n",
      "Cabin           1.150351\n",
      "Destination     1.058323\n",
      "Age             1.046819\n",
      "VIP             1.069826\n",
      "RoomService     0.943288\n",
      "FoodCourt       1.219372\n",
      "ShoppingMall    1.127344\n",
      "Spa             1.161854\n",
      "VRDeck          0.920281\n",
      "dtype: float64\n"
     ]
    }
   ],
   "source": [
    "print(X.isnull().sum()/len(X)*100)\n",
    "print(X_test.isnull().sum()/len(X)*100)"
   ]
  },
  {
   "cell_type": "code",
   "execution_count": 9,
   "id": "4b96e1d7",
   "metadata": {
    "execution": {
     "iopub.execute_input": "2022-04-18T08:01:36.102578Z",
     "iopub.status.busy": "2022-04-18T08:01:36.102267Z",
     "iopub.status.idle": "2022-04-18T08:01:36.159516Z",
     "shell.execute_reply": "2022-04-18T08:01:36.157721Z"
    },
    "papermill": {
     "duration": 0.099305,
     "end_time": "2022-04-18T08:01:36.161977",
     "exception": false,
     "start_time": "2022-04-18T08:01:36.062672",
     "status": "completed"
    },
    "tags": []
   },
   "outputs": [
    {
     "name": "stdout",
     "output_type": "stream",
     "text": [
      "HomePlanet      0.0\n",
      "CryoSleep       0.0\n",
      "Cabin           0.0\n",
      "Destination     0.0\n",
      "Age             0.0\n",
      "VIP             0.0\n",
      "RoomService     0.0\n",
      "FoodCourt       0.0\n",
      "ShoppingMall    0.0\n",
      "Spa             0.0\n",
      "VRDeck          0.0\n",
      "dtype: float64\n",
      "HomePlanet      0.0\n",
      "CryoSleep       0.0\n",
      "Cabin           0.0\n",
      "Destination     0.0\n",
      "Age             0.0\n",
      "VIP             0.0\n",
      "RoomService     0.0\n",
      "FoodCourt       0.0\n",
      "ShoppingMall    0.0\n",
      "Spa             0.0\n",
      "VRDeck          0.0\n",
      "dtype: float64\n"
     ]
    }
   ],
   "source": [
    "for i in X.columns:\n",
    "    if X[i].dtype not in ['int64','float64']:\n",
    "        X[i] = X[i].ffill().bfill()\n",
    "    else:\n",
    "        X[i] = X[i].fillna(X[i].mean())\n",
    "print(X.isnull().sum()/len(X)*100)\n",
    "for i in X_test.columns:\n",
    "    if X_test[i].dtype not in ['int64','float64']:\n",
    "        X_test[i] = X_test[i].ffill().bfill()\n",
    "    else:\n",
    "        X_test[i] = X_test[i].fillna(X_test[i].mean())\n",
    "print(X_test.isnull().sum()/len(X_test)*100)"
   ]
  },
  {
   "cell_type": "code",
   "execution_count": 10,
   "id": "4dcad0b8",
   "metadata": {
    "execution": {
     "iopub.execute_input": "2022-04-18T08:01:36.236790Z",
     "iopub.status.busy": "2022-04-18T08:01:36.236455Z",
     "iopub.status.idle": "2022-04-18T08:01:36.295744Z",
     "shell.execute_reply": "2022-04-18T08:01:36.294728Z"
    },
    "papermill": {
     "duration": 0.100134,
     "end_time": "2022-04-18T08:01:36.298596",
     "exception": false,
     "start_time": "2022-04-18T08:01:36.198462",
     "status": "completed"
    },
    "tags": []
   },
   "outputs": [
    {
     "name": "stdout",
     "output_type": "stream",
     "text": [
      "     HomePlanet  CryoSleep     Cabin    Destination   Age    VIP  RoomService  \\\n",
      "0        Europa      False     B/0/P    TRAPPIST-1e  39.0  False          0.0   \n",
      "1         Earth      False     F/0/S    TRAPPIST-1e  24.0  False        109.0   \n",
      "2        Europa      False     A/0/S    TRAPPIST-1e  58.0   True         43.0   \n",
      "3        Europa      False     A/0/S    TRAPPIST-1e  33.0  False          0.0   \n",
      "4         Earth      False     F/1/S    TRAPPIST-1e  16.0  False        303.0   \n",
      "...         ...        ...       ...            ...   ...    ...          ...   \n",
      "8688     Europa      False    A/98/P    55 Cancri e  41.0   True          0.0   \n",
      "8689      Earth       True  G/1499/S  PSO J318.5-22  18.0  False          0.0   \n",
      "8690      Earth      False  G/1500/S    TRAPPIST-1e  26.0  False          0.0   \n",
      "8691     Europa      False   E/608/S    55 Cancri e  32.0  False          0.0   \n",
      "8692     Europa      False   E/608/S    TRAPPIST-1e  44.0  False        126.0   \n",
      "\n",
      "      FoodCourt  ShoppingMall     Spa  VRDeck Deck   Num Side  \n",
      "0           0.0           0.0     0.0     0.0    B     0    P  \n",
      "1           9.0          25.0   549.0    44.0    F     0    S  \n",
      "2        3576.0           0.0  6715.0    49.0    A     0    S  \n",
      "3        1283.0         371.0  3329.0   193.0    A     0    S  \n",
      "4          70.0         151.0   565.0     2.0    F     1    S  \n",
      "...         ...           ...     ...     ...  ...   ...  ...  \n",
      "8688     6819.0           0.0  1643.0    74.0    A    98    P  \n",
      "8689        0.0           0.0     0.0     0.0    G  1499    S  \n",
      "8690        0.0        1872.0     1.0     0.0    G  1500    S  \n",
      "8691     1049.0           0.0   353.0  3235.0    E   608    S  \n",
      "8692     4688.0           0.0     0.0    12.0    E   608    S  \n",
      "\n",
      "[8693 rows x 14 columns]\n",
      "     HomePlanet  CryoSleep     Cabin    Destination        Age    VIP  \\\n",
      "0         Earth       True     G/3/S    TRAPPIST-1e  27.000000  False   \n",
      "1         Earth      False     F/4/S    TRAPPIST-1e  19.000000  False   \n",
      "2        Europa       True     C/0/S    55 Cancri e  31.000000  False   \n",
      "3        Europa      False     C/1/S    TRAPPIST-1e  38.000000  False   \n",
      "4         Earth      False     F/5/S    TRAPPIST-1e  20.000000  False   \n",
      "...         ...        ...       ...            ...        ...    ...   \n",
      "4272      Earth       True  G/1496/S    TRAPPIST-1e  34.000000  False   \n",
      "4273      Earth      False  G/1496/S    TRAPPIST-1e  42.000000  False   \n",
      "4274       Mars       True   D/296/P    55 Cancri e  28.658146  False   \n",
      "4275     Europa      False   D/297/P    55 Cancri e  28.658146  False   \n",
      "4276      Earth       True  G/1498/S  PSO J318.5-22  43.000000  False   \n",
      "\n",
      "      RoomService  FoodCourt  ShoppingMall     Spa  VRDeck Deck   Num Side  \n",
      "0             0.0        0.0           0.0     0.0     0.0    G     3    S  \n",
      "1             0.0        9.0           0.0  2823.0     0.0    F     4    S  \n",
      "2             0.0        0.0           0.0     0.0     0.0    C     0    S  \n",
      "3             0.0     6652.0           0.0   181.0   585.0    C     1    S  \n",
      "4            10.0        0.0         635.0     0.0     0.0    F     5    S  \n",
      "...           ...        ...           ...     ...     ...  ...   ...  ...  \n",
      "4272          0.0        0.0           0.0     0.0     0.0    G  1496    S  \n",
      "4273          0.0      847.0          17.0    10.0   144.0    G  1496    S  \n",
      "4274          0.0        0.0           0.0     0.0     0.0    D   296    P  \n",
      "4275          0.0     2680.0           0.0     0.0   523.0    D   297    P  \n",
      "4276          0.0        0.0           0.0     0.0     0.0    G  1498    S  \n",
      "\n",
      "[4277 rows x 14 columns]\n"
     ]
    }
   ],
   "source": [
    "X[[\"Deck\",\"Num\",\"Side\"]] = X[\"Cabin\"].str.split('/', expand = True)\n",
    "X_test[[\"Deck\",\"Num\",\"Side\"]] = X_test[\"Cabin\"].str.split('/', expand = True)\n",
    "print(X)\n",
    "print(X_test)"
   ]
  },
  {
   "cell_type": "code",
   "execution_count": 11,
   "id": "9663299a",
   "metadata": {
    "execution": {
     "iopub.execute_input": "2022-04-18T08:01:36.374687Z",
     "iopub.status.busy": "2022-04-18T08:01:36.373947Z",
     "iopub.status.idle": "2022-04-18T08:01:36.381112Z",
     "shell.execute_reply": "2022-04-18T08:01:36.380480Z"
    },
    "papermill": {
     "duration": 0.047177,
     "end_time": "2022-04-18T08:01:36.382875",
     "exception": false,
     "start_time": "2022-04-18T08:01:36.335698",
     "status": "completed"
    },
    "tags": []
   },
   "outputs": [
    {
     "data": {
      "text/plain": [
       "0       P\n",
       "1       S\n",
       "2       S\n",
       "3       S\n",
       "4       S\n",
       "       ..\n",
       "8688    P\n",
       "8689    S\n",
       "8690    S\n",
       "8691    S\n",
       "8692    S\n",
       "Name: Side, Length: 8693, dtype: object"
      ]
     },
     "execution_count": 11,
     "metadata": {},
     "output_type": "execute_result"
    }
   ],
   "source": [
    "X['Side']"
   ]
  },
  {
   "cell_type": "code",
   "execution_count": 12,
   "id": "dc6f8e12",
   "metadata": {
    "execution": {
     "iopub.execute_input": "2022-04-18T08:01:36.459600Z",
     "iopub.status.busy": "2022-04-18T08:01:36.459303Z",
     "iopub.status.idle": "2022-04-18T08:01:36.464362Z",
     "shell.execute_reply": "2022-04-18T08:01:36.463482Z"
    },
    "papermill": {
     "duration": 0.046174,
     "end_time": "2022-04-18T08:01:36.466460",
     "exception": false,
     "start_time": "2022-04-18T08:01:36.420286",
     "status": "completed"
    },
    "tags": []
   },
   "outputs": [],
   "source": [
    "del X['Cabin']\n",
    "del X_test['Cabin']"
   ]
  },
  {
   "cell_type": "code",
   "execution_count": 13,
   "id": "14a5cac4",
   "metadata": {
    "execution": {
     "iopub.execute_input": "2022-04-18T08:01:36.545538Z",
     "iopub.status.busy": "2022-04-18T08:01:36.545109Z",
     "iopub.status.idle": "2022-04-18T08:01:36.554725Z",
     "shell.execute_reply": "2022-04-18T08:01:36.553759Z"
    },
    "papermill": {
     "duration": 0.052878,
     "end_time": "2022-04-18T08:01:36.556869",
     "exception": false,
     "start_time": "2022-04-18T08:01:36.503991",
     "status": "completed"
    },
    "tags": []
   },
   "outputs": [],
   "source": [
    "X['CryoSleep'] = X['CryoSleep'].astype('bool')\n",
    "X['VIP'] = X['VIP'].astype('bool')\n",
    "X_test['CryoSleep'] = X_test['CryoSleep'].astype('bool')\n",
    "X_test['VIP'] = X_test['VIP'].astype('bool')"
   ]
  },
  {
   "cell_type": "code",
   "execution_count": 14,
   "id": "2f6d3057",
   "metadata": {
    "execution": {
     "iopub.execute_input": "2022-04-18T08:01:36.634503Z",
     "iopub.status.busy": "2022-04-18T08:01:36.634198Z",
     "iopub.status.idle": "2022-04-18T08:01:36.641452Z",
     "shell.execute_reply": "2022-04-18T08:01:36.640854Z"
    },
    "papermill": {
     "duration": 0.048122,
     "end_time": "2022-04-18T08:01:36.643399",
     "exception": false,
     "start_time": "2022-04-18T08:01:36.595277",
     "status": "completed"
    },
    "tags": []
   },
   "outputs": [],
   "source": [
    "del X['Num']\n",
    "del X_test['Num']\n",
    "del X['Deck']\n",
    "del X_test['Deck']"
   ]
  },
  {
   "cell_type": "code",
   "execution_count": 15,
   "id": "3499639d",
   "metadata": {
    "execution": {
     "iopub.execute_input": "2022-04-18T08:01:36.719120Z",
     "iopub.status.busy": "2022-04-18T08:01:36.718757Z",
     "iopub.status.idle": "2022-04-18T08:01:36.742541Z",
     "shell.execute_reply": "2022-04-18T08:01:36.741499Z"
    },
    "papermill": {
     "duration": 0.064686,
     "end_time": "2022-04-18T08:01:36.745183",
     "exception": false,
     "start_time": "2022-04-18T08:01:36.680497",
     "status": "completed"
    },
    "tags": []
   },
   "outputs": [
    {
     "name": "stdout",
     "output_type": "stream",
     "text": [
      "     HomePlanet  CryoSleep    Destination   Age    VIP  RoomService  \\\n",
      "0        Europa      False    TRAPPIST-1e  39.0  False          0.0   \n",
      "1         Earth      False    TRAPPIST-1e  24.0  False        109.0   \n",
      "2        Europa      False    TRAPPIST-1e  58.0   True         43.0   \n",
      "3        Europa      False    TRAPPIST-1e  33.0  False          0.0   \n",
      "4         Earth      False    TRAPPIST-1e  16.0  False        303.0   \n",
      "...         ...        ...            ...   ...    ...          ...   \n",
      "8688     Europa      False    55 Cancri e  41.0   True          0.0   \n",
      "8689      Earth       True  PSO J318.5-22  18.0  False          0.0   \n",
      "8690      Earth      False    TRAPPIST-1e  26.0  False          0.0   \n",
      "8691     Europa      False    55 Cancri e  32.0  False          0.0   \n",
      "8692     Europa      False    TRAPPIST-1e  44.0  False        126.0   \n",
      "\n",
      "      FoodCourt  ShoppingMall     Spa  VRDeck Side  \n",
      "0           0.0           0.0     0.0     0.0    P  \n",
      "1           9.0          25.0   549.0    44.0    S  \n",
      "2        3576.0           0.0  6715.0    49.0    S  \n",
      "3        1283.0         371.0  3329.0   193.0    S  \n",
      "4          70.0         151.0   565.0     2.0    S  \n",
      "...         ...           ...     ...     ...  ...  \n",
      "8688     6819.0           0.0  1643.0    74.0    P  \n",
      "8689        0.0           0.0     0.0     0.0    S  \n",
      "8690        0.0        1872.0     1.0     0.0    S  \n",
      "8691     1049.0           0.0   353.0  3235.0    S  \n",
      "8692     4688.0           0.0     0.0    12.0    S  \n",
      "\n",
      "[8693 rows x 11 columns]\n",
      "     HomePlanet  CryoSleep    Destination        Age    VIP  RoomService  \\\n",
      "0         Earth       True    TRAPPIST-1e  27.000000  False          0.0   \n",
      "1         Earth      False    TRAPPIST-1e  19.000000  False          0.0   \n",
      "2        Europa       True    55 Cancri e  31.000000  False          0.0   \n",
      "3        Europa      False    TRAPPIST-1e  38.000000  False          0.0   \n",
      "4         Earth      False    TRAPPIST-1e  20.000000  False         10.0   \n",
      "...         ...        ...            ...        ...    ...          ...   \n",
      "4272      Earth       True    TRAPPIST-1e  34.000000  False          0.0   \n",
      "4273      Earth      False    TRAPPIST-1e  42.000000  False          0.0   \n",
      "4274       Mars       True    55 Cancri e  28.658146  False          0.0   \n",
      "4275     Europa      False    55 Cancri e  28.658146  False          0.0   \n",
      "4276      Earth       True  PSO J318.5-22  43.000000  False          0.0   \n",
      "\n",
      "      FoodCourt  ShoppingMall     Spa  VRDeck Side  \n",
      "0           0.0           0.0     0.0     0.0    S  \n",
      "1           9.0           0.0  2823.0     0.0    S  \n",
      "2           0.0           0.0     0.0     0.0    S  \n",
      "3        6652.0           0.0   181.0   585.0    S  \n",
      "4           0.0         635.0     0.0     0.0    S  \n",
      "...         ...           ...     ...     ...  ...  \n",
      "4272        0.0           0.0     0.0     0.0    S  \n",
      "4273      847.0          17.0    10.0   144.0    S  \n",
      "4274        0.0           0.0     0.0     0.0    P  \n",
      "4275     2680.0           0.0     0.0   523.0    P  \n",
      "4276        0.0           0.0     0.0     0.0    S  \n",
      "\n",
      "[4277 rows x 11 columns]\n"
     ]
    }
   ],
   "source": [
    "print(X)\n",
    "print(X_test)"
   ]
  },
  {
   "cell_type": "code",
   "execution_count": 16,
   "id": "3d9dfcb8",
   "metadata": {
    "execution": {
     "iopub.execute_input": "2022-04-18T08:01:36.823734Z",
     "iopub.status.busy": "2022-04-18T08:01:36.823142Z",
     "iopub.status.idle": "2022-04-18T08:01:36.834075Z",
     "shell.execute_reply": "2022-04-18T08:01:36.833298Z"
    },
    "papermill": {
     "duration": 0.052704,
     "end_time": "2022-04-18T08:01:36.836297",
     "exception": false,
     "start_time": "2022-04-18T08:01:36.783593",
     "status": "completed"
    },
    "tags": []
   },
   "outputs": [],
   "source": [
    "categorical_cols = X.select_dtypes(include=['object','bool']).columns.tolist()\n",
    "#categorical_cols = X.columns[categorical_feature_mask].tolist()\n",
    "categorical_cols_test = X_test.select_dtypes(include=['object','bool']).columns.tolist()\n",
    "#categorical_cols_test = X_test.columns[categorical_feature_mask_test].tolist()"
   ]
  },
  {
   "cell_type": "code",
   "execution_count": 17,
   "id": "b56dd891",
   "metadata": {
    "execution": {
     "iopub.execute_input": "2022-04-18T08:01:36.913533Z",
     "iopub.status.busy": "2022-04-18T08:01:36.913067Z",
     "iopub.status.idle": "2022-04-18T08:01:36.917792Z",
     "shell.execute_reply": "2022-04-18T08:01:36.917049Z"
    },
    "papermill": {
     "duration": 0.045639,
     "end_time": "2022-04-18T08:01:36.919741",
     "exception": false,
     "start_time": "2022-04-18T08:01:36.874102",
     "status": "completed"
    },
    "tags": []
   },
   "outputs": [
    {
     "data": {
      "text/plain": [
       "['HomePlanet', 'CryoSleep', 'Destination', 'VIP', 'Side']"
      ]
     },
     "execution_count": 17,
     "metadata": {},
     "output_type": "execute_result"
    }
   ],
   "source": [
    "categorical_cols"
   ]
  },
  {
   "cell_type": "code",
   "execution_count": 18,
   "id": "4fe347e7",
   "metadata": {
    "execution": {
     "iopub.execute_input": "2022-04-18T08:01:36.997884Z",
     "iopub.status.busy": "2022-04-18T08:01:36.997595Z",
     "iopub.status.idle": "2022-04-18T08:01:37.148089Z",
     "shell.execute_reply": "2022-04-18T08:01:37.147220Z"
    },
    "papermill": {
     "duration": 0.192571,
     "end_time": "2022-04-18T08:01:37.150553",
     "exception": false,
     "start_time": "2022-04-18T08:01:36.957982",
     "status": "completed"
    },
    "tags": []
   },
   "outputs": [],
   "source": [
    "from sklearn.preprocessing import LabelEncoder\n",
    "le = LabelEncoder()"
   ]
  },
  {
   "cell_type": "code",
   "execution_count": 19,
   "id": "f0415f0b",
   "metadata": {
    "execution": {
     "iopub.execute_input": "2022-04-18T08:01:37.228266Z",
     "iopub.status.busy": "2022-04-18T08:01:37.227714Z",
     "iopub.status.idle": "2022-04-18T08:01:37.252436Z",
     "shell.execute_reply": "2022-04-18T08:01:37.251846Z"
    },
    "papermill": {
     "duration": 0.065935,
     "end_time": "2022-04-18T08:01:37.254553",
     "exception": false,
     "start_time": "2022-04-18T08:01:37.188618",
     "status": "completed"
    },
    "tags": []
   },
   "outputs": [],
   "source": [
    "X[categorical_cols] = X[categorical_cols].apply(lambda col: le.fit_transform(col))\n",
    "X_test[categorical_cols] = X_test[categorical_cols].apply(lambda col: le.fit_transform(col))"
   ]
  },
  {
   "cell_type": "code",
   "execution_count": 20,
   "id": "7ab55fbe",
   "metadata": {
    "execution": {
     "iopub.execute_input": "2022-04-18T08:01:37.331904Z",
     "iopub.status.busy": "2022-04-18T08:01:37.331363Z",
     "iopub.status.idle": "2022-04-18T08:01:37.346743Z",
     "shell.execute_reply": "2022-04-18T08:01:37.345795Z"
    },
    "papermill": {
     "duration": 0.056543,
     "end_time": "2022-04-18T08:01:37.348867",
     "exception": false,
     "start_time": "2022-04-18T08:01:37.292324",
     "status": "completed"
    },
    "tags": []
   },
   "outputs": [
    {
     "data": {
      "text/html": [
       "<div>\n",
       "<style scoped>\n",
       "    .dataframe tbody tr th:only-of-type {\n",
       "        vertical-align: middle;\n",
       "    }\n",
       "\n",
       "    .dataframe tbody tr th {\n",
       "        vertical-align: top;\n",
       "    }\n",
       "\n",
       "    .dataframe thead th {\n",
       "        text-align: right;\n",
       "    }\n",
       "</style>\n",
       "<table border=\"1\" class=\"dataframe\">\n",
       "  <thead>\n",
       "    <tr style=\"text-align: right;\">\n",
       "      <th></th>\n",
       "      <th>HomePlanet</th>\n",
       "      <th>CryoSleep</th>\n",
       "      <th>Destination</th>\n",
       "      <th>VIP</th>\n",
       "      <th>Side</th>\n",
       "    </tr>\n",
       "  </thead>\n",
       "  <tbody>\n",
       "    <tr>\n",
       "      <th>0</th>\n",
       "      <td>0</td>\n",
       "      <td>1</td>\n",
       "      <td>2</td>\n",
       "      <td>0</td>\n",
       "      <td>1</td>\n",
       "    </tr>\n",
       "    <tr>\n",
       "      <th>1</th>\n",
       "      <td>0</td>\n",
       "      <td>0</td>\n",
       "      <td>2</td>\n",
       "      <td>0</td>\n",
       "      <td>1</td>\n",
       "    </tr>\n",
       "    <tr>\n",
       "      <th>2</th>\n",
       "      <td>1</td>\n",
       "      <td>1</td>\n",
       "      <td>0</td>\n",
       "      <td>0</td>\n",
       "      <td>1</td>\n",
       "    </tr>\n",
       "    <tr>\n",
       "      <th>3</th>\n",
       "      <td>1</td>\n",
       "      <td>0</td>\n",
       "      <td>2</td>\n",
       "      <td>0</td>\n",
       "      <td>1</td>\n",
       "    </tr>\n",
       "    <tr>\n",
       "      <th>4</th>\n",
       "      <td>0</td>\n",
       "      <td>0</td>\n",
       "      <td>2</td>\n",
       "      <td>0</td>\n",
       "      <td>1</td>\n",
       "    </tr>\n",
       "    <tr>\n",
       "      <th>...</th>\n",
       "      <td>...</td>\n",
       "      <td>...</td>\n",
       "      <td>...</td>\n",
       "      <td>...</td>\n",
       "      <td>...</td>\n",
       "    </tr>\n",
       "    <tr>\n",
       "      <th>4272</th>\n",
       "      <td>0</td>\n",
       "      <td>1</td>\n",
       "      <td>2</td>\n",
       "      <td>0</td>\n",
       "      <td>1</td>\n",
       "    </tr>\n",
       "    <tr>\n",
       "      <th>4273</th>\n",
       "      <td>0</td>\n",
       "      <td>0</td>\n",
       "      <td>2</td>\n",
       "      <td>0</td>\n",
       "      <td>1</td>\n",
       "    </tr>\n",
       "    <tr>\n",
       "      <th>4274</th>\n",
       "      <td>2</td>\n",
       "      <td>1</td>\n",
       "      <td>0</td>\n",
       "      <td>0</td>\n",
       "      <td>0</td>\n",
       "    </tr>\n",
       "    <tr>\n",
       "      <th>4275</th>\n",
       "      <td>1</td>\n",
       "      <td>0</td>\n",
       "      <td>0</td>\n",
       "      <td>0</td>\n",
       "      <td>0</td>\n",
       "    </tr>\n",
       "    <tr>\n",
       "      <th>4276</th>\n",
       "      <td>0</td>\n",
       "      <td>1</td>\n",
       "      <td>1</td>\n",
       "      <td>0</td>\n",
       "      <td>1</td>\n",
       "    </tr>\n",
       "  </tbody>\n",
       "</table>\n",
       "<p>4277 rows × 5 columns</p>\n",
       "</div>"
      ],
      "text/plain": [
       "      HomePlanet  CryoSleep  Destination  VIP  Side\n",
       "0              0          1            2    0     1\n",
       "1              0          0            2    0     1\n",
       "2              1          1            0    0     1\n",
       "3              1          0            2    0     1\n",
       "4              0          0            2    0     1\n",
       "...          ...        ...          ...  ...   ...\n",
       "4272           0          1            2    0     1\n",
       "4273           0          0            2    0     1\n",
       "4274           2          1            0    0     0\n",
       "4275           1          0            0    0     0\n",
       "4276           0          1            1    0     1\n",
       "\n",
       "[4277 rows x 5 columns]"
      ]
     },
     "execution_count": 20,
     "metadata": {},
     "output_type": "execute_result"
    }
   ],
   "source": [
    "X_test[categorical_cols]"
   ]
  },
  {
   "cell_type": "code",
   "execution_count": 21,
   "id": "7f23e49d",
   "metadata": {
    "execution": {
     "iopub.execute_input": "2022-04-18T08:01:37.429579Z",
     "iopub.status.busy": "2022-04-18T08:01:37.429290Z",
     "iopub.status.idle": "2022-04-18T08:01:37.453778Z",
     "shell.execute_reply": "2022-04-18T08:01:37.452964Z"
    },
    "papermill": {
     "duration": 0.067572,
     "end_time": "2022-04-18T08:01:37.455805",
     "exception": false,
     "start_time": "2022-04-18T08:01:37.388233",
     "status": "completed"
    },
    "tags": []
   },
   "outputs": [
    {
     "data": {
      "text/html": [
       "<div>\n",
       "<style scoped>\n",
       "    .dataframe tbody tr th:only-of-type {\n",
       "        vertical-align: middle;\n",
       "    }\n",
       "\n",
       "    .dataframe tbody tr th {\n",
       "        vertical-align: top;\n",
       "    }\n",
       "\n",
       "    .dataframe thead th {\n",
       "        text-align: right;\n",
       "    }\n",
       "</style>\n",
       "<table border=\"1\" class=\"dataframe\">\n",
       "  <thead>\n",
       "    <tr style=\"text-align: right;\">\n",
       "      <th></th>\n",
       "      <th>HomePlanet</th>\n",
       "      <th>CryoSleep</th>\n",
       "      <th>Destination</th>\n",
       "      <th>Age</th>\n",
       "      <th>VIP</th>\n",
       "      <th>RoomService</th>\n",
       "      <th>FoodCourt</th>\n",
       "      <th>ShoppingMall</th>\n",
       "      <th>Spa</th>\n",
       "      <th>VRDeck</th>\n",
       "      <th>Side</th>\n",
       "    </tr>\n",
       "  </thead>\n",
       "  <tbody>\n",
       "    <tr>\n",
       "      <th>0</th>\n",
       "      <td>0</td>\n",
       "      <td>1</td>\n",
       "      <td>2</td>\n",
       "      <td>27.000000</td>\n",
       "      <td>0</td>\n",
       "      <td>0.0</td>\n",
       "      <td>0.0</td>\n",
       "      <td>0.0</td>\n",
       "      <td>0.0</td>\n",
       "      <td>0.0</td>\n",
       "      <td>1</td>\n",
       "    </tr>\n",
       "    <tr>\n",
       "      <th>1</th>\n",
       "      <td>0</td>\n",
       "      <td>0</td>\n",
       "      <td>2</td>\n",
       "      <td>19.000000</td>\n",
       "      <td>0</td>\n",
       "      <td>0.0</td>\n",
       "      <td>9.0</td>\n",
       "      <td>0.0</td>\n",
       "      <td>2823.0</td>\n",
       "      <td>0.0</td>\n",
       "      <td>1</td>\n",
       "    </tr>\n",
       "    <tr>\n",
       "      <th>2</th>\n",
       "      <td>1</td>\n",
       "      <td>1</td>\n",
       "      <td>0</td>\n",
       "      <td>31.000000</td>\n",
       "      <td>0</td>\n",
       "      <td>0.0</td>\n",
       "      <td>0.0</td>\n",
       "      <td>0.0</td>\n",
       "      <td>0.0</td>\n",
       "      <td>0.0</td>\n",
       "      <td>1</td>\n",
       "    </tr>\n",
       "    <tr>\n",
       "      <th>3</th>\n",
       "      <td>1</td>\n",
       "      <td>0</td>\n",
       "      <td>2</td>\n",
       "      <td>38.000000</td>\n",
       "      <td>0</td>\n",
       "      <td>0.0</td>\n",
       "      <td>6652.0</td>\n",
       "      <td>0.0</td>\n",
       "      <td>181.0</td>\n",
       "      <td>585.0</td>\n",
       "      <td>1</td>\n",
       "    </tr>\n",
       "    <tr>\n",
       "      <th>4</th>\n",
       "      <td>0</td>\n",
       "      <td>0</td>\n",
       "      <td>2</td>\n",
       "      <td>20.000000</td>\n",
       "      <td>0</td>\n",
       "      <td>10.0</td>\n",
       "      <td>0.0</td>\n",
       "      <td>635.0</td>\n",
       "      <td>0.0</td>\n",
       "      <td>0.0</td>\n",
       "      <td>1</td>\n",
       "    </tr>\n",
       "    <tr>\n",
       "      <th>...</th>\n",
       "      <td>...</td>\n",
       "      <td>...</td>\n",
       "      <td>...</td>\n",
       "      <td>...</td>\n",
       "      <td>...</td>\n",
       "      <td>...</td>\n",
       "      <td>...</td>\n",
       "      <td>...</td>\n",
       "      <td>...</td>\n",
       "      <td>...</td>\n",
       "      <td>...</td>\n",
       "    </tr>\n",
       "    <tr>\n",
       "      <th>4272</th>\n",
       "      <td>0</td>\n",
       "      <td>1</td>\n",
       "      <td>2</td>\n",
       "      <td>34.000000</td>\n",
       "      <td>0</td>\n",
       "      <td>0.0</td>\n",
       "      <td>0.0</td>\n",
       "      <td>0.0</td>\n",
       "      <td>0.0</td>\n",
       "      <td>0.0</td>\n",
       "      <td>1</td>\n",
       "    </tr>\n",
       "    <tr>\n",
       "      <th>4273</th>\n",
       "      <td>0</td>\n",
       "      <td>0</td>\n",
       "      <td>2</td>\n",
       "      <td>42.000000</td>\n",
       "      <td>0</td>\n",
       "      <td>0.0</td>\n",
       "      <td>847.0</td>\n",
       "      <td>17.0</td>\n",
       "      <td>10.0</td>\n",
       "      <td>144.0</td>\n",
       "      <td>1</td>\n",
       "    </tr>\n",
       "    <tr>\n",
       "      <th>4274</th>\n",
       "      <td>2</td>\n",
       "      <td>1</td>\n",
       "      <td>0</td>\n",
       "      <td>28.658146</td>\n",
       "      <td>0</td>\n",
       "      <td>0.0</td>\n",
       "      <td>0.0</td>\n",
       "      <td>0.0</td>\n",
       "      <td>0.0</td>\n",
       "      <td>0.0</td>\n",
       "      <td>0</td>\n",
       "    </tr>\n",
       "    <tr>\n",
       "      <th>4275</th>\n",
       "      <td>1</td>\n",
       "      <td>0</td>\n",
       "      <td>0</td>\n",
       "      <td>28.658146</td>\n",
       "      <td>0</td>\n",
       "      <td>0.0</td>\n",
       "      <td>2680.0</td>\n",
       "      <td>0.0</td>\n",
       "      <td>0.0</td>\n",
       "      <td>523.0</td>\n",
       "      <td>0</td>\n",
       "    </tr>\n",
       "    <tr>\n",
       "      <th>4276</th>\n",
       "      <td>0</td>\n",
       "      <td>1</td>\n",
       "      <td>1</td>\n",
       "      <td>43.000000</td>\n",
       "      <td>0</td>\n",
       "      <td>0.0</td>\n",
       "      <td>0.0</td>\n",
       "      <td>0.0</td>\n",
       "      <td>0.0</td>\n",
       "      <td>0.0</td>\n",
       "      <td>1</td>\n",
       "    </tr>\n",
       "  </tbody>\n",
       "</table>\n",
       "<p>4277 rows × 11 columns</p>\n",
       "</div>"
      ],
      "text/plain": [
       "      HomePlanet  CryoSleep  Destination        Age  VIP  RoomService  \\\n",
       "0              0          1            2  27.000000    0          0.0   \n",
       "1              0          0            2  19.000000    0          0.0   \n",
       "2              1          1            0  31.000000    0          0.0   \n",
       "3              1          0            2  38.000000    0          0.0   \n",
       "4              0          0            2  20.000000    0         10.0   \n",
       "...          ...        ...          ...        ...  ...          ...   \n",
       "4272           0          1            2  34.000000    0          0.0   \n",
       "4273           0          0            2  42.000000    0          0.0   \n",
       "4274           2          1            0  28.658146    0          0.0   \n",
       "4275           1          0            0  28.658146    0          0.0   \n",
       "4276           0          1            1  43.000000    0          0.0   \n",
       "\n",
       "      FoodCourt  ShoppingMall     Spa  VRDeck  Side  \n",
       "0           0.0           0.0     0.0     0.0     1  \n",
       "1           9.0           0.0  2823.0     0.0     1  \n",
       "2           0.0           0.0     0.0     0.0     1  \n",
       "3        6652.0           0.0   181.0   585.0     1  \n",
       "4           0.0         635.0     0.0     0.0     1  \n",
       "...         ...           ...     ...     ...   ...  \n",
       "4272        0.0           0.0     0.0     0.0     1  \n",
       "4273      847.0          17.0    10.0   144.0     1  \n",
       "4274        0.0           0.0     0.0     0.0     0  \n",
       "4275     2680.0           0.0     0.0   523.0     0  \n",
       "4276        0.0           0.0     0.0     0.0     1  \n",
       "\n",
       "[4277 rows x 11 columns]"
      ]
     },
     "execution_count": 21,
     "metadata": {},
     "output_type": "execute_result"
    }
   ],
   "source": [
    "X_test"
   ]
  },
  {
   "cell_type": "code",
   "execution_count": 22,
   "id": "01a7ec84",
   "metadata": {
    "execution": {
     "iopub.execute_input": "2022-04-18T08:01:37.540531Z",
     "iopub.status.busy": "2022-04-18T08:01:37.540239Z",
     "iopub.status.idle": "2022-04-18T08:01:37.543584Z",
     "shell.execute_reply": "2022-04-18T08:01:37.542721Z"
    },
    "papermill": {
     "duration": 0.046228,
     "end_time": "2022-04-18T08:01:37.545646",
     "exception": false,
     "start_time": "2022-04-18T08:01:37.499418",
     "status": "completed"
    },
    "tags": []
   },
   "outputs": [],
   "source": [
    "#from sklearn.preprocessing import OneHotEncoder\n",
    "#ohe = OneHotEncoder() "
   ]
  },
  {
   "cell_type": "code",
   "execution_count": 23,
   "id": "d58a4055",
   "metadata": {
    "execution": {
     "iopub.execute_input": "2022-04-18T08:01:37.630907Z",
     "iopub.status.busy": "2022-04-18T08:01:37.630228Z",
     "iopub.status.idle": "2022-04-18T08:01:37.634332Z",
     "shell.execute_reply": "2022-04-18T08:01:37.633523Z"
    },
    "papermill": {
     "duration": 0.050678,
     "end_time": "2022-04-18T08:01:37.636626",
     "exception": false,
     "start_time": "2022-04-18T08:01:37.585948",
     "status": "completed"
    },
    "tags": []
   },
   "outputs": [],
   "source": [
    "#X_ohe = pd.DataFrame(ohe.fit_transform(X).toarray())\n",
    "#X_ohe_test = pd.DataFrame(ohe.fit_transform(X_test).toarray())\n"
   ]
  },
  {
   "cell_type": "code",
   "execution_count": 24,
   "id": "01e7668e",
   "metadata": {
    "execution": {
     "iopub.execute_input": "2022-04-18T08:01:37.716879Z",
     "iopub.status.busy": "2022-04-18T08:01:37.716508Z",
     "iopub.status.idle": "2022-04-18T08:01:37.720485Z",
     "shell.execute_reply": "2022-04-18T08:01:37.719568Z"
    },
    "papermill": {
     "duration": 0.046828,
     "end_time": "2022-04-18T08:01:37.722630",
     "exception": false,
     "start_time": "2022-04-18T08:01:37.675802",
     "status": "completed"
    },
    "tags": []
   },
   "outputs": [],
   "source": [
    "#X = X.join(X_ohe)\n",
    "#X"
   ]
  },
  {
   "cell_type": "code",
   "execution_count": 25,
   "id": "db6ef20c",
   "metadata": {
    "execution": {
     "iopub.execute_input": "2022-04-18T08:01:37.804177Z",
     "iopub.status.busy": "2022-04-18T08:01:37.803889Z",
     "iopub.status.idle": "2022-04-18T08:01:37.807727Z",
     "shell.execute_reply": "2022-04-18T08:01:37.806888Z"
    },
    "papermill": {
     "duration": 0.048035,
     "end_time": "2022-04-18T08:01:37.809801",
     "exception": false,
     "start_time": "2022-04-18T08:01:37.761766",
     "status": "completed"
    },
    "tags": []
   },
   "outputs": [],
   "source": [
    "#from sklearn.model_selection import train_test_split\n",
    "#X_train, X_test, y_train, y_test = train_test_split(X, y, test_size=0.33, random_state=42)"
   ]
  },
  {
   "cell_type": "code",
   "execution_count": 26,
   "id": "8faa3e18",
   "metadata": {
    "execution": {
     "iopub.execute_input": "2022-04-18T08:01:37.891072Z",
     "iopub.status.busy": "2022-04-18T08:01:37.890133Z",
     "iopub.status.idle": "2022-04-18T08:01:38.035587Z",
     "shell.execute_reply": "2022-04-18T08:01:38.034655Z"
    },
    "papermill": {
     "duration": 0.188308,
     "end_time": "2022-04-18T08:01:38.037981",
     "exception": false,
     "start_time": "2022-04-18T08:01:37.849673",
     "status": "completed"
    },
    "tags": []
   },
   "outputs": [],
   "source": [
    "from sklearn.linear_model import LogisticRegression\n",
    "logReg = LogisticRegression()"
   ]
  },
  {
   "cell_type": "code",
   "execution_count": 27,
   "id": "3304b46b",
   "metadata": {
    "execution": {
     "iopub.execute_input": "2022-04-18T08:01:38.118461Z",
     "iopub.status.busy": "2022-04-18T08:01:38.118173Z",
     "iopub.status.idle": "2022-04-18T08:01:38.139001Z",
     "shell.execute_reply": "2022-04-18T08:01:38.137605Z"
    },
    "papermill": {
     "duration": 0.06447,
     "end_time": "2022-04-18T08:01:38.141748",
     "exception": false,
     "start_time": "2022-04-18T08:01:38.077278",
     "status": "completed"
    },
    "tags": []
   },
   "outputs": [
    {
     "name": "stdout",
     "output_type": "stream",
     "text": [
      "0.0\n",
      "0.0\n",
      "0.0\n",
      "0.0\n",
      "0.0\n",
      "0.0\n",
      "0.0\n",
      "0.0\n",
      "0.0\n",
      "0.0\n",
      "0.0\n"
     ]
    }
   ],
   "source": [
    "X.iloc[:,5:10] = X.iloc[:,5:10].apply(lambda x: (x-x.mean())/ x.std(), axis=0)\n",
    "for i in X.columns:\n",
    "    print(X[i].isnull().sum()/len(X)*100)"
   ]
  },
  {
   "cell_type": "code",
   "execution_count": 28,
   "id": "a78cb365",
   "metadata": {
    "execution": {
     "iopub.execute_input": "2022-04-18T08:01:38.223865Z",
     "iopub.status.busy": "2022-04-18T08:01:38.223534Z",
     "iopub.status.idle": "2022-04-18T08:01:38.235753Z",
     "shell.execute_reply": "2022-04-18T08:01:38.234871Z"
    },
    "papermill": {
     "duration": 0.055766,
     "end_time": "2022-04-18T08:01:38.238157",
     "exception": false,
     "start_time": "2022-04-18T08:01:38.182391",
     "status": "completed"
    },
    "tags": []
   },
   "outputs": [],
   "source": [
    "X_test.iloc[:,5:10] = X_test.iloc[:,5:10].apply(lambda x: (x-x.mean())/ x.std(), axis=0)"
   ]
  },
  {
   "cell_type": "code",
   "execution_count": 29,
   "id": "6dceae2b",
   "metadata": {
    "execution": {
     "iopub.execute_input": "2022-04-18T08:01:38.319654Z",
     "iopub.status.busy": "2022-04-18T08:01:38.319340Z",
     "iopub.status.idle": "2022-04-18T08:01:38.338963Z",
     "shell.execute_reply": "2022-04-18T08:01:38.338284Z"
    },
    "papermill": {
     "duration": 0.063027,
     "end_time": "2022-04-18T08:01:38.340966",
     "exception": false,
     "start_time": "2022-04-18T08:01:38.277939",
     "status": "completed"
    },
    "tags": []
   },
   "outputs": [
    {
     "data": {
      "text/html": [
       "<div>\n",
       "<style scoped>\n",
       "    .dataframe tbody tr th:only-of-type {\n",
       "        vertical-align: middle;\n",
       "    }\n",
       "\n",
       "    .dataframe tbody tr th {\n",
       "        vertical-align: top;\n",
       "    }\n",
       "\n",
       "    .dataframe thead th {\n",
       "        text-align: right;\n",
       "    }\n",
       "</style>\n",
       "<table border=\"1\" class=\"dataframe\">\n",
       "  <thead>\n",
       "    <tr style=\"text-align: right;\">\n",
       "      <th></th>\n",
       "      <th>HomePlanet</th>\n",
       "      <th>CryoSleep</th>\n",
       "      <th>Destination</th>\n",
       "      <th>Age</th>\n",
       "      <th>VIP</th>\n",
       "      <th>RoomService</th>\n",
       "      <th>FoodCourt</th>\n",
       "      <th>ShoppingMall</th>\n",
       "      <th>Spa</th>\n",
       "      <th>VRDeck</th>\n",
       "      <th>Side</th>\n",
       "    </tr>\n",
       "  </thead>\n",
       "  <tbody>\n",
       "    <tr>\n",
       "      <th>0</th>\n",
       "      <td>0</td>\n",
       "      <td>1</td>\n",
       "      <td>2</td>\n",
       "      <td>27.000000</td>\n",
       "      <td>0</td>\n",
       "      <td>-0.364737</td>\n",
       "      <td>-0.291318</td>\n",
       "      <td>-0.319822</td>\n",
       "      <td>-0.274526</td>\n",
       "      <td>-0.251531</td>\n",
       "      <td>1</td>\n",
       "    </tr>\n",
       "    <tr>\n",
       "      <th>1</th>\n",
       "      <td>0</td>\n",
       "      <td>0</td>\n",
       "      <td>2</td>\n",
       "      <td>19.000000</td>\n",
       "      <td>0</td>\n",
       "      <td>-0.364737</td>\n",
       "      <td>-0.285352</td>\n",
       "      <td>-0.319822</td>\n",
       "      <td>2.282741</td>\n",
       "      <td>-0.251531</td>\n",
       "      <td>1</td>\n",
       "    </tr>\n",
       "    <tr>\n",
       "      <th>2</th>\n",
       "      <td>1</td>\n",
       "      <td>1</td>\n",
       "      <td>0</td>\n",
       "      <td>31.000000</td>\n",
       "      <td>0</td>\n",
       "      <td>-0.364737</td>\n",
       "      <td>-0.291318</td>\n",
       "      <td>-0.319822</td>\n",
       "      <td>-0.274526</td>\n",
       "      <td>-0.251531</td>\n",
       "      <td>1</td>\n",
       "    </tr>\n",
       "    <tr>\n",
       "      <th>3</th>\n",
       "      <td>1</td>\n",
       "      <td>0</td>\n",
       "      <td>2</td>\n",
       "      <td>38.000000</td>\n",
       "      <td>0</td>\n",
       "      <td>-0.364737</td>\n",
       "      <td>4.118042</td>\n",
       "      <td>-0.319822</td>\n",
       "      <td>-0.110563</td>\n",
       "      <td>0.222048</td>\n",
       "      <td>1</td>\n",
       "    </tr>\n",
       "    <tr>\n",
       "      <th>4</th>\n",
       "      <td>0</td>\n",
       "      <td>0</td>\n",
       "      <td>2</td>\n",
       "      <td>20.000000</td>\n",
       "      <td>0</td>\n",
       "      <td>-0.348102</td>\n",
       "      <td>-0.291318</td>\n",
       "      <td>0.825649</td>\n",
       "      <td>-0.274526</td>\n",
       "      <td>-0.251531</td>\n",
       "      <td>1</td>\n",
       "    </tr>\n",
       "    <tr>\n",
       "      <th>...</th>\n",
       "      <td>...</td>\n",
       "      <td>...</td>\n",
       "      <td>...</td>\n",
       "      <td>...</td>\n",
       "      <td>...</td>\n",
       "      <td>...</td>\n",
       "      <td>...</td>\n",
       "      <td>...</td>\n",
       "      <td>...</td>\n",
       "      <td>...</td>\n",
       "      <td>...</td>\n",
       "    </tr>\n",
       "    <tr>\n",
       "      <th>4272</th>\n",
       "      <td>0</td>\n",
       "      <td>1</td>\n",
       "      <td>2</td>\n",
       "      <td>34.000000</td>\n",
       "      <td>0</td>\n",
       "      <td>-0.364737</td>\n",
       "      <td>-0.291318</td>\n",
       "      <td>-0.319822</td>\n",
       "      <td>-0.274526</td>\n",
       "      <td>-0.251531</td>\n",
       "      <td>1</td>\n",
       "    </tr>\n",
       "    <tr>\n",
       "      <th>4273</th>\n",
       "      <td>0</td>\n",
       "      <td>0</td>\n",
       "      <td>2</td>\n",
       "      <td>42.000000</td>\n",
       "      <td>0</td>\n",
       "      <td>-0.364737</td>\n",
       "      <td>0.270127</td>\n",
       "      <td>-0.289156</td>\n",
       "      <td>-0.265467</td>\n",
       "      <td>-0.134958</td>\n",
       "      <td>1</td>\n",
       "    </tr>\n",
       "    <tr>\n",
       "      <th>4274</th>\n",
       "      <td>2</td>\n",
       "      <td>1</td>\n",
       "      <td>0</td>\n",
       "      <td>28.658146</td>\n",
       "      <td>0</td>\n",
       "      <td>-0.364737</td>\n",
       "      <td>-0.291318</td>\n",
       "      <td>-0.319822</td>\n",
       "      <td>-0.274526</td>\n",
       "      <td>-0.251531</td>\n",
       "      <td>0</td>\n",
       "    </tr>\n",
       "    <tr>\n",
       "      <th>4275</th>\n",
       "      <td>1</td>\n",
       "      <td>0</td>\n",
       "      <td>0</td>\n",
       "      <td>28.658146</td>\n",
       "      <td>0</td>\n",
       "      <td>-0.364737</td>\n",
       "      <td>1.485153</td>\n",
       "      <td>-0.319822</td>\n",
       "      <td>-0.274526</td>\n",
       "      <td>0.171856</td>\n",
       "      <td>0</td>\n",
       "    </tr>\n",
       "    <tr>\n",
       "      <th>4276</th>\n",
       "      <td>0</td>\n",
       "      <td>1</td>\n",
       "      <td>1</td>\n",
       "      <td>43.000000</td>\n",
       "      <td>0</td>\n",
       "      <td>-0.364737</td>\n",
       "      <td>-0.291318</td>\n",
       "      <td>-0.319822</td>\n",
       "      <td>-0.274526</td>\n",
       "      <td>-0.251531</td>\n",
       "      <td>1</td>\n",
       "    </tr>\n",
       "  </tbody>\n",
       "</table>\n",
       "<p>4277 rows × 11 columns</p>\n",
       "</div>"
      ],
      "text/plain": [
       "      HomePlanet  CryoSleep  Destination        Age  VIP  RoomService  \\\n",
       "0              0          1            2  27.000000    0    -0.364737   \n",
       "1              0          0            2  19.000000    0    -0.364737   \n",
       "2              1          1            0  31.000000    0    -0.364737   \n",
       "3              1          0            2  38.000000    0    -0.364737   \n",
       "4              0          0            2  20.000000    0    -0.348102   \n",
       "...          ...        ...          ...        ...  ...          ...   \n",
       "4272           0          1            2  34.000000    0    -0.364737   \n",
       "4273           0          0            2  42.000000    0    -0.364737   \n",
       "4274           2          1            0  28.658146    0    -0.364737   \n",
       "4275           1          0            0  28.658146    0    -0.364737   \n",
       "4276           0          1            1  43.000000    0    -0.364737   \n",
       "\n",
       "      FoodCourt  ShoppingMall       Spa    VRDeck  Side  \n",
       "0     -0.291318     -0.319822 -0.274526 -0.251531     1  \n",
       "1     -0.285352     -0.319822  2.282741 -0.251531     1  \n",
       "2     -0.291318     -0.319822 -0.274526 -0.251531     1  \n",
       "3      4.118042     -0.319822 -0.110563  0.222048     1  \n",
       "4     -0.291318      0.825649 -0.274526 -0.251531     1  \n",
       "...         ...           ...       ...       ...   ...  \n",
       "4272  -0.291318     -0.319822 -0.274526 -0.251531     1  \n",
       "4273   0.270127     -0.289156 -0.265467 -0.134958     1  \n",
       "4274  -0.291318     -0.319822 -0.274526 -0.251531     0  \n",
       "4275   1.485153     -0.319822 -0.274526  0.171856     0  \n",
       "4276  -0.291318     -0.319822 -0.274526 -0.251531     1  \n",
       "\n",
       "[4277 rows x 11 columns]"
      ]
     },
     "execution_count": 29,
     "metadata": {},
     "output_type": "execute_result"
    }
   ],
   "source": [
    "X_test"
   ]
  },
  {
   "cell_type": "code",
   "execution_count": 30,
   "id": "e051988f",
   "metadata": {
    "execution": {
     "iopub.execute_input": "2022-04-18T08:01:38.425225Z",
     "iopub.status.busy": "2022-04-18T08:01:38.424731Z",
     "iopub.status.idle": "2022-04-18T08:01:38.525581Z",
     "shell.execute_reply": "2022-04-18T08:01:38.524319Z"
    },
    "papermill": {
     "duration": 0.147496,
     "end_time": "2022-04-18T08:01:38.529280",
     "exception": false,
     "start_time": "2022-04-18T08:01:38.381784",
     "status": "completed"
    },
    "tags": []
   },
   "outputs": [
    {
     "data": {
      "text/plain": [
       "LogisticRegression()"
      ]
     },
     "execution_count": 30,
     "metadata": {},
     "output_type": "execute_result"
    }
   ],
   "source": [
    "logReg.fit(X, y)"
   ]
  },
  {
   "cell_type": "code",
   "execution_count": 31,
   "id": "ca1ce0ee",
   "metadata": {
    "execution": {
     "iopub.execute_input": "2022-04-18T08:01:38.661589Z",
     "iopub.status.busy": "2022-04-18T08:01:38.661298Z",
     "iopub.status.idle": "2022-04-18T08:01:38.673450Z",
     "shell.execute_reply": "2022-04-18T08:01:38.672289Z"
    },
    "papermill": {
     "duration": 0.072151,
     "end_time": "2022-04-18T08:01:38.676882",
     "exception": false,
     "start_time": "2022-04-18T08:01:38.604731",
     "status": "completed"
    },
    "tags": []
   },
   "outputs": [
    {
     "name": "stdout",
     "output_type": "stream",
     "text": [
      "0.7881053721385023\n"
     ]
    }
   ],
   "source": [
    "score = logReg.score(X, y)\n",
    "print(score)"
   ]
  },
  {
   "cell_type": "code",
   "execution_count": 32,
   "id": "f49a08cc",
   "metadata": {
    "execution": {
     "iopub.execute_input": "2022-04-18T08:01:38.811771Z",
     "iopub.status.busy": "2022-04-18T08:01:38.811118Z",
     "iopub.status.idle": "2022-04-18T08:01:38.829032Z",
     "shell.execute_reply": "2022-04-18T08:01:38.828201Z"
    },
    "papermill": {
     "duration": 0.080745,
     "end_time": "2022-04-18T08:01:38.832351",
     "exception": false,
     "start_time": "2022-04-18T08:01:38.751606",
     "status": "completed"
    },
    "tags": []
   },
   "outputs": [
    {
     "data": {
      "text/html": [
       "<div>\n",
       "<style scoped>\n",
       "    .dataframe tbody tr th:only-of-type {\n",
       "        vertical-align: middle;\n",
       "    }\n",
       "\n",
       "    .dataframe tbody tr th {\n",
       "        vertical-align: top;\n",
       "    }\n",
       "\n",
       "    .dataframe thead th {\n",
       "        text-align: right;\n",
       "    }\n",
       "</style>\n",
       "<table border=\"1\" class=\"dataframe\">\n",
       "  <thead>\n",
       "    <tr style=\"text-align: right;\">\n",
       "      <th></th>\n",
       "      <th>0</th>\n",
       "    </tr>\n",
       "  </thead>\n",
       "  <tbody>\n",
       "    <tr>\n",
       "      <th>0</th>\n",
       "      <td>True</td>\n",
       "    </tr>\n",
       "    <tr>\n",
       "      <th>1</th>\n",
       "      <td>False</td>\n",
       "    </tr>\n",
       "    <tr>\n",
       "      <th>2</th>\n",
       "      <td>True</td>\n",
       "    </tr>\n",
       "    <tr>\n",
       "      <th>3</th>\n",
       "      <td>True</td>\n",
       "    </tr>\n",
       "    <tr>\n",
       "      <th>4</th>\n",
       "      <td>True</td>\n",
       "    </tr>\n",
       "    <tr>\n",
       "      <th>...</th>\n",
       "      <td>...</td>\n",
       "    </tr>\n",
       "    <tr>\n",
       "      <th>4272</th>\n",
       "      <td>True</td>\n",
       "    </tr>\n",
       "    <tr>\n",
       "      <th>4273</th>\n",
       "      <td>True</td>\n",
       "    </tr>\n",
       "    <tr>\n",
       "      <th>4274</th>\n",
       "      <td>True</td>\n",
       "    </tr>\n",
       "    <tr>\n",
       "      <th>4275</th>\n",
       "      <td>True</td>\n",
       "    </tr>\n",
       "    <tr>\n",
       "      <th>4276</th>\n",
       "      <td>True</td>\n",
       "    </tr>\n",
       "  </tbody>\n",
       "</table>\n",
       "<p>4277 rows × 1 columns</p>\n",
       "</div>"
      ],
      "text/plain": [
       "          0\n",
       "0      True\n",
       "1     False\n",
       "2      True\n",
       "3      True\n",
       "4      True\n",
       "...     ...\n",
       "4272   True\n",
       "4273   True\n",
       "4274   True\n",
       "4275   True\n",
       "4276   True\n",
       "\n",
       "[4277 rows x 1 columns]"
      ]
     },
     "execution_count": 32,
     "metadata": {},
     "output_type": "execute_result"
    }
   ],
   "source": [
    "df = pd.DataFrame(logReg.predict(X_test))\n",
    "df"
   ]
  },
  {
   "cell_type": "code",
   "execution_count": 33,
   "id": "4c788f1c",
   "metadata": {
    "execution": {
     "iopub.execute_input": "2022-04-18T08:01:38.967933Z",
     "iopub.status.busy": "2022-04-18T08:01:38.967588Z",
     "iopub.status.idle": "2022-04-18T08:01:38.984189Z",
     "shell.execute_reply": "2022-04-18T08:01:38.983246Z"
    },
    "papermill": {
     "duration": 0.07584,
     "end_time": "2022-04-18T08:01:38.986411",
     "exception": false,
     "start_time": "2022-04-18T08:01:38.910571",
     "status": "completed"
    },
    "tags": []
   },
   "outputs": [],
   "source": [
    "df.to_csv('result.csv')"
   ]
  },
  {
   "cell_type": "code",
   "execution_count": null,
   "id": "4d5c3b55",
   "metadata": {
    "papermill": {
     "duration": 0.042018,
     "end_time": "2022-04-18T08:01:39.071345",
     "exception": false,
     "start_time": "2022-04-18T08:01:39.029327",
     "status": "completed"
    },
    "tags": []
   },
   "outputs": [],
   "source": []
  }
 ],
 "metadata": {
  "kernelspec": {
   "display_name": "Python 3",
   "language": "python",
   "name": "python3"
  },
  "language_info": {
   "codemirror_mode": {
    "name": "ipython",
    "version": 3
   },
   "file_extension": ".py",
   "mimetype": "text/x-python",
   "name": "python",
   "nbconvert_exporter": "python",
   "pygments_lexer": "ipython3",
   "version": "3.7.12"
  },
  "papermill": {
   "default_parameters": {},
   "duration": 15.92856,
   "end_time": "2022-04-18T08:01:39.834681",
   "environment_variables": {},
   "exception": null,
   "input_path": "__notebook__.ipynb",
   "output_path": "__notebook__.ipynb",
   "parameters": {},
   "start_time": "2022-04-18T08:01:23.906121",
   "version": "2.3.4"
  }
 },
 "nbformat": 4,
 "nbformat_minor": 5
}
